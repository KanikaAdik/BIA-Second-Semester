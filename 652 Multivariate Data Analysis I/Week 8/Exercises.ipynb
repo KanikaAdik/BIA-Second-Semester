{
 "cells": [
  {
   "cell_type": "markdown",
   "metadata": {
    "id": "XfGJ497SY4rM"
   },
   "source": [
    "In the exercises, you will analyze which factors are associated with the number of likes a Facebook post gets. The dataset is from https://archive.ics.uci.edu/ml/datasets/Facebook+metrics. All posts are from the page of a renowned cosmetics brand.\n",
    "\n",
    "The dependent variable is `like`."
   ]
  },
  {
   "cell_type": "code",
   "execution_count": null,
   "metadata": {
    "id": "Dg_djp4LY4rM"
   },
   "outputs": [],
   "source": [
    "import pandas as pd\n",
    "import statsmodels.api as sm\n",
    "import numpy as np"
   ]
  },
  {
   "cell_type": "code",
   "execution_count": null,
   "metadata": {
    "id": "Q6o_G3JgY4rN"
   },
   "outputs": [],
   "source": [
    "fb_like = pd.read_csv('http://fengmai.net/download/data/bia652/dataset_Facebook.csv', sep=\";\")\n",
    "# remove unneeded variables\n",
    "not_needed = ['Page total likes', 'Total Interactions']\n",
    "fb_like = fb_like.drop(not_needed, axis = 1)"
   ]
  },
  {
   "cell_type": "code",
   "execution_count": null,
   "metadata": {
    "id": "whaPV3lbY4rN",
    "scrolled": true
   },
   "outputs": [],
   "source": [
    "fb_like.head(5)"
   ]
  },
  {
   "cell_type": "markdown",
   "metadata": {
    "id": "AODx_Zd9Y4rN"
   },
   "source": [
    "## Q1 - Modeling with categorical Xs"
   ]
  },
  {
   "cell_type": "markdown",
   "metadata": {
    "id": "pPCuZkEjY4rO"
   },
   "source": [
    "- Use [pd.get_dummies()](https://pandas.pydata.org/pandas-docs/stable/reference/api/pandas.get_dummies.html) to create dummy variables for the following variables: `Type`, `Category`, `Post Month`, `Post Weekday`, `Post Hour`. Make sure that `drop_firt=True` to avoid multicollinearity problem.\n",
    "- You may want to read [this post](https://stackoverflow.com/questions/24109779/running-get-dummies-on-several-dataframe-columns) to create dummies for multiple columns.\n",
    "- The origninal columns will be automatically dropped after you create the dummies. \n",
    "- You may want to check if any rows have missing variables and drop them accordingly (use [dropna](https://pandas.pydata.org/pandas-docs/stable/reference/api/pandas.DataFrame.dropna.html)). \n",
    "- Create a regression model that uses all the variables (other than like) as independent variables. You'll need to use `statsmodels` and not `sklearn`. Display the OLS Regression Results.  \n",
    "- No need to split the data to train-test sets for this exercise. "
   ]
  },
  {
   "cell_type": "code",
   "execution_count": null,
   "metadata": {
    "id": "3TddedDdY4rO"
   },
   "outputs": [],
   "source": [
    "#### YOUR CODE HERE ####"
   ]
  },
  {
   "cell_type": "markdown",
   "metadata": {
    "id": "H-hwxfFSY4rP"
   },
   "source": [
    "# Q2 Bootstrap confidence interval"
   ]
  },
  {
   "cell_type": "markdown",
   "metadata": {
    "id": "63wvJe2qY4rP"
   },
   "source": [
    "Your tasks is to use the boostrap method to construct a 95% CI for the coefficients for **comment** and **share** using the same model as in Q1. Do you get similar CI to Q1? Why or why not?"
   ]
  },
  {
   "cell_type": "code",
   "execution_count": null,
   "metadata": {
    "id": "qkEK0Y2XY4rP"
   },
   "outputs": [],
   "source": [
    "bootstrapped_ests = []\n",
    "for i in tqdm(range(5000)):\n",
    "    # YOUR CODE HERE \n",
    "    \n",
    "b_comments, b_shares = zip(*bootstrapped_ests)\n",
    "\n",
    "print(\"The 95% bootstrapped CI of b_comments is [{:.2f}, {:.2f}].\".format(\n",
    "    np.percentile(b_comments, 2.5),\n",
    "    np.percentile(b_comments, 97.5)))\n",
    "\n",
    "print(\"The 95% bootstrapped CI of b_shares is [{:.2f}, {:.2f}].\".format(\n",
    "    np.percentile(b_shares, 2.5),\n",
    "    np.percentile(b_shares, 97.5)))"
   ]
  },
  {
   "cell_type": "markdown",
   "metadata": {
    "id": "N8f8FrIcY4rP"
   },
   "source": [
    "## Q3 - Use AIC/BIC for model selection"
   ]
  },
  {
   "cell_type": "markdown",
   "metadata": {
    "id": "mMNmNYBTY4rQ"
   },
   "source": [
    "- Read the [example here](https://scikit-learn.org/stable/auto_examples/linear_model/plot_lasso_model_selection.html#sphx-glr-auto-examples-linear-model-plot-lasso-model-selection-py) and the [manual here](https://scikit-learn.org/stable/modules/generated/sklearn.linear_model.LassoLarsIC.html#sklearn.linear_model.LassoLarsIC). You may want to create a separate notebook to run the example.\n",
    "- Use `LassoLarsIC` to select the best model using the **`bic`** criterion. \n",
    "- There is no need to split the data to train-test sets for this exercise. \n",
    "- Which X variables are selected by the `LassoLarsIC` method? Answer using variable names. "
   ]
  },
  {
   "cell_type": "code",
   "execution_count": null,
   "metadata": {
    "id": "2GyMlgKeY4rQ"
   },
   "outputs": [],
   "source": [
    "#### YOUR CODE HERE ####"
   ]
  },
  {
   "cell_type": "markdown",
   "metadata": {
    "id": "gZA0-W8oY4rQ"
   },
   "source": [
    "## Q4 - Compare out-of-sample perormance"
   ]
  },
  {
   "cell_type": "markdown",
   "metadata": {
    "id": "5XK4EcwyY4rR"
   },
   "source": [
    "- Split the data to 90% train and 10% test set. \n",
    "- Train three models using the train set:\n",
    "   * `LassoLarsIC` model (a model that uses BIC to select variables)\n",
    "   * a full model (a model that includes all X variables)\n",
    "   * a `LassoCV` model (a model that uses CV on train set to select variables)\n",
    "- Remember to train a scaler using train set only, and transform both X_train and X_test. \n",
    "- Compare their test-set performance using MSE. Which model has the best performance? "
   ]
  },
  {
   "cell_type": "code",
   "execution_count": null,
   "metadata": {
    "id": "V9zboapBY4rR"
   },
   "outputs": [],
   "source": [
    "#### YOUR CODE HERE ####"
   ]
  }
 ],
 "metadata": {
  "colab": {
   "collapsed_sections": [],
   "provenance": [
    {
     "file_id": "1ffOo79UtiycC4lhkRhc5Y8OP_UgXOxi2",
     "timestamp": 1667254570181
    }
   ]
  },
  "kernelspec": {
   "display_name": "Python 3 (ipykernel)",
   "language": "python",
   "name": "python3"
  },
  "language_info": {
   "codemirror_mode": {
    "name": "ipython",
    "version": 3
   },
   "file_extension": ".py",
   "mimetype": "text/x-python",
   "name": "python",
   "nbconvert_exporter": "python",
   "pygments_lexer": "ipython3",
   "version": "3.9.7"
  },
  "toc": {
   "base_numbering": 1,
   "nav_menu": {},
   "number_sections": true,
   "sideBar": true,
   "skip_h1_title": false,
   "title_cell": "Table of Contents",
   "title_sidebar": "Contents",
   "toc_cell": false,
   "toc_position": {},
   "toc_section_display": true,
   "toc_window_display": false
  }
 },
 "nbformat": 4,
 "nbformat_minor": 1
}
