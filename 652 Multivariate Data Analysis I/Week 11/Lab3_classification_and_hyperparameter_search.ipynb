{
 "cells": [
  {
   "cell_type": "code",
   "execution_count": 1,
   "metadata": {
    "id": "PIkO5R-ba2p_"
   },
   "outputs": [],
   "source": [
    "import warnings\n",
    "warnings.filterwarnings('ignore')"
   ]
  },
  {
   "cell_type": "code",
   "execution_count": 2,
   "metadata": {
    "id": "Xfwizz_jvIFb"
   },
   "outputs": [],
   "source": [
    "# set terminal options to display all outputs\n",
    "from IPython.core.interactiveshell import InteractiveShell\n",
    "InteractiveShell.ast_node_interactivity = \"all\""
   ]
  },
  {
   "cell_type": "code",
   "execution_count": 3,
   "metadata": {
    "id": "eL6zKLoQlH5E"
   },
   "outputs": [
    {
     "name": "stdout",
     "output_type": "stream",
     "text": [
      "Requirement already satisfied: xlrd in /Users/apple/opt/anaconda3/envs/py3/lib/python3.9/site-packages (2.0.1)\r\n"
     ]
    }
   ],
   "source": [
    "!pip install -U xlrd"
   ]
  },
  {
   "cell_type": "code",
   "execution_count": 4,
   "metadata": {
    "id": "x8Z0vKlUlJoy"
   },
   "outputs": [
    {
     "name": "stdout",
     "output_type": "stream",
     "text": [
      "Requirement already satisfied: pandas in /Users/apple/opt/anaconda3/envs/py3/lib/python3.9/site-packages (1.3.4)\n",
      "Collecting pandas\n",
      "  Downloading pandas-1.5.2-cp39-cp39-macosx_10_9_x86_64.whl (12.1 MB)\n",
      "\u001b[K     |████████████████████████████████| 12.1 MB 2.8 MB/s eta 0:00:01\n",
      "\u001b[?25hRequirement already satisfied: pytz>=2020.1 in /Users/apple/opt/anaconda3/envs/py3/lib/python3.9/site-packages (from pandas) (2021.3)\n",
      "Requirement already satisfied: python-dateutil>=2.8.1 in /Users/apple/opt/anaconda3/envs/py3/lib/python3.9/site-packages (from pandas) (2.8.2)\n",
      "Requirement already satisfied: numpy>=1.20.3 in /Users/apple/opt/anaconda3/envs/py3/lib/python3.9/site-packages (from pandas) (1.20.3)\n",
      "Requirement already satisfied: six>=1.5 in /Users/apple/opt/anaconda3/envs/py3/lib/python3.9/site-packages (from python-dateutil>=2.8.1->pandas) (1.16.0)\n",
      "Installing collected packages: pandas\n",
      "  Attempting uninstall: pandas\n",
      "    Found existing installation: pandas 1.3.4\n",
      "    Uninstalling pandas-1.3.4:\n",
      "      Successfully uninstalled pandas-1.3.4\n",
      "Successfully installed pandas-1.5.2\n"
     ]
    }
   ],
   "source": [
    "!pip install -U pandas"
   ]
  },
  {
   "cell_type": "markdown",
   "metadata": {
    "id": "BwJrurcOvIFf"
   },
   "source": [
    "## 1. Dataset\n",
    "- We are using \"default of credit card clients Data Set\" from UCI Machine Learning Repository\n",
    "- This dataset consists of customers' default payments (fail to pay the credit card by the due date) data in Taiwan among six data mining methods\n",
    "- Binary dependent variable \"default payment next month\" (1 = default, 0 = not default)\n",
    "- Detailed attributes descriptions [here](https://archive.ics.uci.edu/ml/datasets/default+of+credit+card+clients)"
   ]
  },
  {
   "cell_type": "code",
   "execution_count": 5,
   "metadata": {
    "id": "Nnk2BOGVvIFf"
   },
   "outputs": [
    {
     "data": {
      "text/html": [
       "<div>\n",
       "<style scoped>\n",
       "    .dataframe tbody tr th:only-of-type {\n",
       "        vertical-align: middle;\n",
       "    }\n",
       "\n",
       "    .dataframe tbody tr th {\n",
       "        vertical-align: top;\n",
       "    }\n",
       "\n",
       "    .dataframe thead th {\n",
       "        text-align: right;\n",
       "    }\n",
       "</style>\n",
       "<table border=\"1\" class=\"dataframe\">\n",
       "  <thead>\n",
       "    <tr style=\"text-align: right;\">\n",
       "      <th></th>\n",
       "      <th>LIMIT_BAL</th>\n",
       "      <th>SEX</th>\n",
       "      <th>EDUCATION</th>\n",
       "      <th>MARRIAGE</th>\n",
       "      <th>AGE</th>\n",
       "      <th>PAY_0</th>\n",
       "      <th>PAY_2</th>\n",
       "      <th>PAY_3</th>\n",
       "      <th>PAY_4</th>\n",
       "      <th>PAY_5</th>\n",
       "      <th>PAY_6</th>\n",
       "      <th>BILL_AMT1</th>\n",
       "      <th>BILL_AMT2</th>\n",
       "      <th>BILL_AMT3</th>\n",
       "      <th>BILL_AMT4</th>\n",
       "      <th>BILL_AMT5</th>\n",
       "      <th>BILL_AMT6</th>\n",
       "      <th>PAY_AMT1</th>\n",
       "      <th>PAY_AMT2</th>\n",
       "      <th>PAY_AMT3</th>\n",
       "      <th>PAY_AMT4</th>\n",
       "      <th>PAY_AMT5</th>\n",
       "      <th>PAY_AMT6</th>\n",
       "      <th>default payment next month</th>\n",
       "    </tr>\n",
       "  </thead>\n",
       "  <tbody>\n",
       "    <tr>\n",
       "      <th>0</th>\n",
       "      <td>20000</td>\n",
       "      <td>2</td>\n",
       "      <td>2</td>\n",
       "      <td>1</td>\n",
       "      <td>24</td>\n",
       "      <td>2</td>\n",
       "      <td>2</td>\n",
       "      <td>-1</td>\n",
       "      <td>-1</td>\n",
       "      <td>-2</td>\n",
       "      <td>-2</td>\n",
       "      <td>3913</td>\n",
       "      <td>3102</td>\n",
       "      <td>689</td>\n",
       "      <td>0</td>\n",
       "      <td>0</td>\n",
       "      <td>0</td>\n",
       "      <td>0</td>\n",
       "      <td>689</td>\n",
       "      <td>0</td>\n",
       "      <td>0</td>\n",
       "      <td>0</td>\n",
       "      <td>0</td>\n",
       "      <td>1</td>\n",
       "    </tr>\n",
       "    <tr>\n",
       "      <th>1</th>\n",
       "      <td>120000</td>\n",
       "      <td>2</td>\n",
       "      <td>2</td>\n",
       "      <td>2</td>\n",
       "      <td>26</td>\n",
       "      <td>-1</td>\n",
       "      <td>2</td>\n",
       "      <td>0</td>\n",
       "      <td>0</td>\n",
       "      <td>0</td>\n",
       "      <td>2</td>\n",
       "      <td>2682</td>\n",
       "      <td>1725</td>\n",
       "      <td>2682</td>\n",
       "      <td>3272</td>\n",
       "      <td>3455</td>\n",
       "      <td>3261</td>\n",
       "      <td>0</td>\n",
       "      <td>1000</td>\n",
       "      <td>1000</td>\n",
       "      <td>1000</td>\n",
       "      <td>0</td>\n",
       "      <td>2000</td>\n",
       "      <td>1</td>\n",
       "    </tr>\n",
       "    <tr>\n",
       "      <th>2</th>\n",
       "      <td>90000</td>\n",
       "      <td>2</td>\n",
       "      <td>2</td>\n",
       "      <td>2</td>\n",
       "      <td>34</td>\n",
       "      <td>0</td>\n",
       "      <td>0</td>\n",
       "      <td>0</td>\n",
       "      <td>0</td>\n",
       "      <td>0</td>\n",
       "      <td>0</td>\n",
       "      <td>29239</td>\n",
       "      <td>14027</td>\n",
       "      <td>13559</td>\n",
       "      <td>14331</td>\n",
       "      <td>14948</td>\n",
       "      <td>15549</td>\n",
       "      <td>1518</td>\n",
       "      <td>1500</td>\n",
       "      <td>1000</td>\n",
       "      <td>1000</td>\n",
       "      <td>1000</td>\n",
       "      <td>5000</td>\n",
       "      <td>0</td>\n",
       "    </tr>\n",
       "    <tr>\n",
       "      <th>3</th>\n",
       "      <td>50000</td>\n",
       "      <td>2</td>\n",
       "      <td>2</td>\n",
       "      <td>1</td>\n",
       "      <td>37</td>\n",
       "      <td>0</td>\n",
       "      <td>0</td>\n",
       "      <td>0</td>\n",
       "      <td>0</td>\n",
       "      <td>0</td>\n",
       "      <td>0</td>\n",
       "      <td>46990</td>\n",
       "      <td>48233</td>\n",
       "      <td>49291</td>\n",
       "      <td>28314</td>\n",
       "      <td>28959</td>\n",
       "      <td>29547</td>\n",
       "      <td>2000</td>\n",
       "      <td>2019</td>\n",
       "      <td>1200</td>\n",
       "      <td>1100</td>\n",
       "      <td>1069</td>\n",
       "      <td>1000</td>\n",
       "      <td>0</td>\n",
       "    </tr>\n",
       "    <tr>\n",
       "      <th>4</th>\n",
       "      <td>50000</td>\n",
       "      <td>1</td>\n",
       "      <td>2</td>\n",
       "      <td>1</td>\n",
       "      <td>57</td>\n",
       "      <td>-1</td>\n",
       "      <td>0</td>\n",
       "      <td>-1</td>\n",
       "      <td>0</td>\n",
       "      <td>0</td>\n",
       "      <td>0</td>\n",
       "      <td>8617</td>\n",
       "      <td>5670</td>\n",
       "      <td>35835</td>\n",
       "      <td>20940</td>\n",
       "      <td>19146</td>\n",
       "      <td>19131</td>\n",
       "      <td>2000</td>\n",
       "      <td>36681</td>\n",
       "      <td>10000</td>\n",
       "      <td>9000</td>\n",
       "      <td>689</td>\n",
       "      <td>679</td>\n",
       "      <td>0</td>\n",
       "    </tr>\n",
       "  </tbody>\n",
       "</table>\n",
       "</div>"
      ],
      "text/plain": [
       "   LIMIT_BAL  SEX  EDUCATION  MARRIAGE  AGE  PAY_0  PAY_2  PAY_3  PAY_4  \\\n",
       "0      20000    2          2         1   24      2      2     -1     -1   \n",
       "1     120000    2          2         2   26     -1      2      0      0   \n",
       "2      90000    2          2         2   34      0      0      0      0   \n",
       "3      50000    2          2         1   37      0      0      0      0   \n",
       "4      50000    1          2         1   57     -1      0     -1      0   \n",
       "\n",
       "   PAY_5  PAY_6  BILL_AMT1  BILL_AMT2  BILL_AMT3  BILL_AMT4  BILL_AMT5  \\\n",
       "0     -2     -2       3913       3102        689          0          0   \n",
       "1      0      2       2682       1725       2682       3272       3455   \n",
       "2      0      0      29239      14027      13559      14331      14948   \n",
       "3      0      0      46990      48233      49291      28314      28959   \n",
       "4      0      0       8617       5670      35835      20940      19146   \n",
       "\n",
       "   BILL_AMT6  PAY_AMT1  PAY_AMT2  PAY_AMT3  PAY_AMT4  PAY_AMT5  PAY_AMT6  \\\n",
       "0          0         0       689         0         0         0         0   \n",
       "1       3261         0      1000      1000      1000         0      2000   \n",
       "2      15549      1518      1500      1000      1000      1000      5000   \n",
       "3      29547      2000      2019      1200      1100      1069      1000   \n",
       "4      19131      2000     36681     10000      9000       689       679   \n",
       "\n",
       "   default payment next month  \n",
       "0                           1  \n",
       "1                           1  \n",
       "2                           0  \n",
       "3                           0  \n",
       "4                           0  "
      ]
     },
     "execution_count": 5,
     "metadata": {},
     "output_type": "execute_result"
    }
   ],
   "source": [
    "import pandas as pd\n",
    "from sklearn.metrics import roc_curve, auc\n",
    "\n",
    "pd.set_option('display.max_columns', 100)\n",
    "\n",
    "df = pd.read_excel('http://fengmai.net//download/courses/2020S-BIA652NT-Pub/Week10-Classification%20and%20Hyperparameter%20Search%20using%20Python/default%20of%20credit%20card%20clients.xls', header = 1).drop('ID', axis = 1)\n",
    "df.head()"
   ]
  },
  {
   "cell_type": "code",
   "execution_count": 6,
   "metadata": {
    "id": "tU73mKJQvIFj"
   },
   "outputs": [
    {
     "data": {
      "text/plain": [
       "(30000, 24)"
      ]
     },
     "execution_count": 6,
     "metadata": {},
     "output_type": "execute_result"
    },
    {
     "data": {
      "text/plain": [
       "Index(['LIMIT_BAL', 'SEX', 'EDUCATION', 'MARRIAGE', 'AGE', 'PAY_0', 'PAY_2',\n",
       "       'PAY_3', 'PAY_4', 'PAY_5', 'PAY_6', 'BILL_AMT1', 'BILL_AMT2',\n",
       "       'BILL_AMT3', 'BILL_AMT4', 'BILL_AMT5', 'BILL_AMT6', 'PAY_AMT1',\n",
       "       'PAY_AMT2', 'PAY_AMT3', 'PAY_AMT4', 'PAY_AMT5', 'PAY_AMT6',\n",
       "       'default payment next month'],\n",
       "      dtype='object')"
      ]
     },
     "execution_count": 6,
     "metadata": {},
     "output_type": "execute_result"
    },
    {
     "data": {
      "text/plain": [
       "False"
      ]
     },
     "execution_count": 6,
     "metadata": {},
     "output_type": "execute_result"
    }
   ],
   "source": [
    "# basic data exploration\n",
    "df.shape\n",
    "df.columns\n",
    "df.isnull().values.any()"
   ]
  },
  {
   "cell_type": "code",
   "execution_count": 7,
   "metadata": {
    "id": "p_9wJHT1xmKF"
   },
   "outputs": [],
   "source": [
    "df.describe().T.to_excel(\"desc_stats.xlsx\")"
   ]
  },
  {
   "cell_type": "code",
   "execution_count": 8,
   "metadata": {
    "id": "_GTO2yh2vIFm"
   },
   "outputs": [
    {
     "data": {
      "text/plain": [
       "0    23364\n",
       "1     6636\n",
       "Name: default payment next month, dtype: int64"
      ]
     },
     "execution_count": 8,
     "metadata": {},
     "output_type": "execute_result"
    }
   ],
   "source": [
    "df['default payment next month'].value_counts()\n",
    "# note that this is an imbalanced dataset, we should look at the confusion matrix rather than overall accuracy (will be discussed later)."
   ]
  },
  {
   "cell_type": "code",
   "execution_count": 9,
   "metadata": {
    "id": "CBrp4dvbvIFo"
   },
   "outputs": [
    {
     "data": {
      "text/plain": [
       "<AxesSubplot:xlabel='default payment next month', ylabel='count'>"
      ]
     },
     "execution_count": 9,
     "metadata": {},
     "output_type": "execute_result"
    },
    {
     "data": {
      "image/png": "[encoded data removed]",
      "text/plain": [
       "<Figure size 432x288 with 1 Axes>"
      ]
     },
     "metadata": {},
     "output_type": "display_data"
    }
   ],
   "source": [
    "import seaborn as sns\n",
    "sns.set(style = 'whitegrid')\n",
    "sns.countplot(data = df, x = 'default payment next month')"
   ]
  },
  {
   "cell_type": "markdown",
   "metadata": {
    "id": "qItdpeCCvIFs"
   },
   "source": [
    "## 2. Creating Dummy Variables (One-Hot Encoding)\n",
    "- Many machine learning algorithms cannot work with categorical data directly. Thus, categorical data must be converted to numbers (dummy variables), e.g., \"cold\": 1, \"warm\": 2, \"hot\": 3\n",
    "- Yet, there may still be problems when there is no ordinal relationship and allowing the representation to lean on any such relationship might be damaging to learning to solve the problem, e.g. \"dog\": 1, \"cat\": 2. In these cases, we would like to give the model more expressive power to learn a probability-like number for each possible label value\n",
    "- One Hot Encoding: a representation of categorical variables as binary vectors\n",
    "    - first requires that the categorical values be mapped to integer values\n",
    "    - each integer value is represented as a binary vector that is all zero values except the index of the integer, which is marked with a 1\n",
    "- More details [here](https://machinelearningmastery.com/how-to-one-hot-encode-sequence-data-in-python/)"
   ]
  },
  {
   "cell_type": "code",
   "execution_count": 10,
   "metadata": {
    "id": "Fv_EeA2cvIFt"
   },
   "outputs": [
    {
     "data": {
      "text/plain": [
       "LIMIT_BAL                        81\n",
       "SEX                               2\n",
       "EDUCATION                         7\n",
       "MARRIAGE                          4\n",
       "AGE                              56\n",
       "PAY_0                            11\n",
       "PAY_2                            11\n",
       "PAY_3                            11\n",
       "PAY_4                            11\n",
       "PAY_5                            10\n",
       "PAY_6                            10\n",
       "BILL_AMT1                     22723\n",
       "BILL_AMT2                     22346\n",
       "BILL_AMT3                     22026\n",
       "BILL_AMT4                     21548\n",
       "BILL_AMT5                     21010\n",
       "BILL_AMT6                     20604\n",
       "PAY_AMT1                       7943\n",
       "PAY_AMT2                       7899\n",
       "PAY_AMT3                       7518\n",
       "PAY_AMT4                       6937\n",
       "PAY_AMT5                       6897\n",
       "PAY_AMT6                       6939\n",
       "default payment next month        2\n",
       "dtype: int64"
      ]
     },
     "execution_count": 10,
     "metadata": {},
     "output_type": "execute_result"
    }
   ],
   "source": [
    "df.apply(lambda col: len(col.unique()))\n",
    "# in our case, ['SEX', 'EDUCATION', 'MARRIAGE'] are dummy variables"
   ]
  },
  {
   "cell_type": "code",
   "execution_count": 11,
   "metadata": {
    "id": "l-CX2i5ZvIFv"
   },
   "outputs": [
    {
     "data": {
      "text/html": [
       "<div>\n",
       "<style scoped>\n",
       "    .dataframe tbody tr th:only-of-type {\n",
       "        vertical-align: middle;\n",
       "    }\n",
       "\n",
       "    .dataframe tbody tr th {\n",
       "        vertical-align: top;\n",
       "    }\n",
       "\n",
       "    .dataframe thead th {\n",
       "        text-align: right;\n",
       "    }\n",
       "</style>\n",
       "<table border=\"1\" class=\"dataframe\">\n",
       "  <thead>\n",
       "    <tr style=\"text-align: right;\">\n",
       "      <th></th>\n",
       "      <th>LIMIT_BAL</th>\n",
       "      <th>AGE</th>\n",
       "      <th>PAY_0</th>\n",
       "      <th>PAY_2</th>\n",
       "      <th>PAY_3</th>\n",
       "      <th>PAY_4</th>\n",
       "      <th>PAY_5</th>\n",
       "      <th>PAY_6</th>\n",
       "      <th>BILL_AMT1</th>\n",
       "      <th>BILL_AMT2</th>\n",
       "      <th>BILL_AMT3</th>\n",
       "      <th>BILL_AMT4</th>\n",
       "      <th>BILL_AMT5</th>\n",
       "      <th>BILL_AMT6</th>\n",
       "      <th>PAY_AMT1</th>\n",
       "      <th>PAY_AMT2</th>\n",
       "      <th>PAY_AMT3</th>\n",
       "      <th>PAY_AMT4</th>\n",
       "      <th>PAY_AMT5</th>\n",
       "      <th>PAY_AMT6</th>\n",
       "      <th>default payment next month</th>\n",
       "      <th>SEX_2</th>\n",
       "      <th>EDUCATION_1</th>\n",
       "      <th>EDUCATION_2</th>\n",
       "      <th>EDUCATION_3</th>\n",
       "      <th>EDUCATION_4</th>\n",
       "      <th>EDUCATION_5</th>\n",
       "      <th>EDUCATION_6</th>\n",
       "      <th>MARRIAGE_1</th>\n",
       "      <th>MARRIAGE_2</th>\n",
       "      <th>MARRIAGE_3</th>\n",
       "    </tr>\n",
       "  </thead>\n",
       "  <tbody>\n",
       "    <tr>\n",
       "      <th>0</th>\n",
       "      <td>20000</td>\n",
       "      <td>24</td>\n",
       "      <td>2</td>\n",
       "      <td>2</td>\n",
       "      <td>-1</td>\n",
       "      <td>-1</td>\n",
       "      <td>-2</td>\n",
       "      <td>-2</td>\n",
       "      <td>3913</td>\n",
       "      <td>3102</td>\n",
       "      <td>689</td>\n",
       "      <td>0</td>\n",
       "      <td>0</td>\n",
       "      <td>0</td>\n",
       "      <td>0</td>\n",
       "      <td>689</td>\n",
       "      <td>0</td>\n",
       "      <td>0</td>\n",
       "      <td>0</td>\n",
       "      <td>0</td>\n",
       "      <td>1</td>\n",
       "      <td>1</td>\n",
       "      <td>0</td>\n",
       "      <td>1</td>\n",
       "      <td>0</td>\n",
       "      <td>0</td>\n",
       "      <td>0</td>\n",
       "      <td>0</td>\n",
       "      <td>1</td>\n",
       "      <td>0</td>\n",
       "      <td>0</td>\n",
       "    </tr>\n",
       "    <tr>\n",
       "      <th>1</th>\n",
       "      <td>120000</td>\n",
       "      <td>26</td>\n",
       "      <td>-1</td>\n",
       "      <td>2</td>\n",
       "      <td>0</td>\n",
       "      <td>0</td>\n",
       "      <td>0</td>\n",
       "      <td>2</td>\n",
       "      <td>2682</td>\n",
       "      <td>1725</td>\n",
       "      <td>2682</td>\n",
       "      <td>3272</td>\n",
       "      <td>3455</td>\n",
       "      <td>3261</td>\n",
       "      <td>0</td>\n",
       "      <td>1000</td>\n",
       "      <td>1000</td>\n",
       "      <td>1000</td>\n",
       "      <td>0</td>\n",
       "      <td>2000</td>\n",
       "      <td>1</td>\n",
       "      <td>1</td>\n",
       "      <td>0</td>\n",
       "      <td>1</td>\n",
       "      <td>0</td>\n",
       "      <td>0</td>\n",
       "      <td>0</td>\n",
       "      <td>0</td>\n",
       "      <td>0</td>\n",
       "      <td>1</td>\n",
       "      <td>0</td>\n",
       "    </tr>\n",
       "    <tr>\n",
       "      <th>2</th>\n",
       "      <td>90000</td>\n",
       "      <td>34</td>\n",
       "      <td>0</td>\n",
       "      <td>0</td>\n",
       "      <td>0</td>\n",
       "      <td>0</td>\n",
       "      <td>0</td>\n",
       "      <td>0</td>\n",
       "      <td>29239</td>\n",
       "      <td>14027</td>\n",
       "      <td>13559</td>\n",
       "      <td>14331</td>\n",
       "      <td>14948</td>\n",
       "      <td>15549</td>\n",
       "      <td>1518</td>\n",
       "      <td>1500</td>\n",
       "      <td>1000</td>\n",
       "      <td>1000</td>\n",
       "      <td>1000</td>\n",
       "      <td>5000</td>\n",
       "      <td>0</td>\n",
       "      <td>1</td>\n",
       "      <td>0</td>\n",
       "      <td>1</td>\n",
       "      <td>0</td>\n",
       "      <td>0</td>\n",
       "      <td>0</td>\n",
       "      <td>0</td>\n",
       "      <td>0</td>\n",
       "      <td>1</td>\n",
       "      <td>0</td>\n",
       "    </tr>\n",
       "    <tr>\n",
       "      <th>3</th>\n",
       "      <td>50000</td>\n",
       "      <td>37</td>\n",
       "      <td>0</td>\n",
       "      <td>0</td>\n",
       "      <td>0</td>\n",
       "      <td>0</td>\n",
       "      <td>0</td>\n",
       "      <td>0</td>\n",
       "      <td>46990</td>\n",
       "      <td>48233</td>\n",
       "      <td>49291</td>\n",
       "      <td>28314</td>\n",
       "      <td>28959</td>\n",
       "      <td>29547</td>\n",
       "      <td>2000</td>\n",
       "      <td>2019</td>\n",
       "      <td>1200</td>\n",
       "      <td>1100</td>\n",
       "      <td>1069</td>\n",
       "      <td>1000</td>\n",
       "      <td>0</td>\n",
       "      <td>1</td>\n",
       "      <td>0</td>\n",
       "      <td>1</td>\n",
       "      <td>0</td>\n",
       "      <td>0</td>\n",
       "      <td>0</td>\n",
       "      <td>0</td>\n",
       "      <td>1</td>\n",
       "      <td>0</td>\n",
       "      <td>0</td>\n",
       "    </tr>\n",
       "    <tr>\n",
       "      <th>4</th>\n",
       "      <td>50000</td>\n",
       "      <td>57</td>\n",
       "      <td>-1</td>\n",
       "      <td>0</td>\n",
       "      <td>-1</td>\n",
       "      <td>0</td>\n",
       "      <td>0</td>\n",
       "      <td>0</td>\n",
       "      <td>8617</td>\n",
       "      <td>5670</td>\n",
       "      <td>35835</td>\n",
       "      <td>20940</td>\n",
       "      <td>19146</td>\n",
       "      <td>19131</td>\n",
       "      <td>2000</td>\n",
       "      <td>36681</td>\n",
       "      <td>10000</td>\n",
       "      <td>9000</td>\n",
       "      <td>689</td>\n",
       "      <td>679</td>\n",
       "      <td>0</td>\n",
       "      <td>0</td>\n",
       "      <td>0</td>\n",
       "      <td>1</td>\n",
       "      <td>0</td>\n",
       "      <td>0</td>\n",
       "      <td>0</td>\n",
       "      <td>0</td>\n",
       "      <td>1</td>\n",
       "      <td>0</td>\n",
       "      <td>0</td>\n",
       "    </tr>\n",
       "  </tbody>\n",
       "</table>\n",
       "</div>"
      ],
      "text/plain": [
       "   LIMIT_BAL  AGE  PAY_0  PAY_2  PAY_3  PAY_4  PAY_5  PAY_6  BILL_AMT1  \\\n",
       "0      20000   24      2      2     -1     -1     -2     -2       3913   \n",
       "1     120000   26     -1      2      0      0      0      2       2682   \n",
       "2      90000   34      0      0      0      0      0      0      29239   \n",
       "3      50000   37      0      0      0      0      0      0      46990   \n",
       "4      50000   57     -1      0     -1      0      0      0       8617   \n",
       "\n",
       "   BILL_AMT2  BILL_AMT3  BILL_AMT4  BILL_AMT5  BILL_AMT6  PAY_AMT1  PAY_AMT2  \\\n",
       "0       3102        689          0          0          0         0       689   \n",
       "1       1725       2682       3272       3455       3261         0      1000   \n",
       "2      14027      13559      14331      14948      15549      1518      1500   \n",
       "3      48233      49291      28314      28959      29547      2000      2019   \n",
       "4       5670      35835      20940      19146      19131      2000     36681   \n",
       "\n",
       "   PAY_AMT3  PAY_AMT4  PAY_AMT5  PAY_AMT6  default payment next month  SEX_2  \\\n",
       "0         0         0         0         0                           1      1   \n",
       "1      1000      1000         0      2000                           1      1   \n",
       "2      1000      1000      1000      5000                           0      1   \n",
       "3      1200      1100      1069      1000                           0      1   \n",
       "4     10000      9000       689       679                           0      0   \n",
       "\n",
       "   EDUCATION_1  EDUCATION_2  EDUCATION_3  EDUCATION_4  EDUCATION_5  \\\n",
       "0            0            1            0            0            0   \n",
       "1            0            1            0            0            0   \n",
       "2            0            1            0            0            0   \n",
       "3            0            1            0            0            0   \n",
       "4            0            1            0            0            0   \n",
       "\n",
       "   EDUCATION_6  MARRIAGE_1  MARRIAGE_2  MARRIAGE_3  \n",
       "0            0           1           0           0  \n",
       "1            0           0           1           0  \n",
       "2            0           0           1           0  \n",
       "3            0           1           0           0  \n",
       "4            0           1           0           0  "
      ]
     },
     "execution_count": 11,
     "metadata": {},
     "output_type": "execute_result"
    },
    {
     "data": {
      "text/plain": [
       "(30000, 31)"
      ]
     },
     "execution_count": 11,
     "metadata": {},
     "output_type": "execute_result"
    }
   ],
   "source": [
    "col = ['SEX', 'EDUCATION', 'MARRIAGE']\n",
    "df2 = pd.get_dummies(df, columns = col, drop_first=True)\n",
    "df2.head()\n",
    "df2.shape"
   ]
  },
  {
   "cell_type": "markdown",
   "metadata": {
    "id": "6NNlFGMJvIFy"
   },
   "source": [
    "## 3. Logistic Regression"
   ]
  },
  {
   "cell_type": "code",
   "execution_count": 12,
   "metadata": {
    "id": "u8HzMUOrbEJC"
   },
   "outputs": [
    {
     "name": "stdout",
     "output_type": "stream",
     "text": [
      "Warning: Maximum number of iterations has been exceeded.\n",
      "         Current function value: 0.463788\n",
      "         Iterations: 35\n",
      "                               Logit Regression Results                               \n",
      "======================================================================================\n",
      "Dep. Variable:     default payment next month   No. Observations:                30000\n",
      "Model:                                  Logit   Df Residuals:                    29969\n",
      "Method:                                   MLE   Df Model:                           30\n",
      "Date:                        Mon, 12 Dec 2022   Pseudo R-squ.:                  0.1223\n",
      "Time:                                14:49:35   Log-Likelihood:                -13914.\n",
      "converged:                              False   LL-Null:                       -15853.\n",
      "Covariance Type:                    nonrobust   LLR p-value:                     0.000\n",
      "===============================================================================\n",
      "                  coef    std err          z      P>|z|      [0.025      0.975]\n",
      "-------------------------------------------------------------------------------\n",
      "const         -15.9136    552.196     -0.029      0.977   -1098.198    1066.370\n",
      "LIMIT_BAL   -6.998e-07   1.58e-07     -4.435      0.000   -1.01e-06   -3.91e-07\n",
      "AGE             0.0054      0.002      2.885      0.004       0.002       0.009\n",
      "PAY_0           0.5776      0.018     32.610      0.000       0.543       0.612\n",
      "PAY_2           0.0816      0.020      4.037      0.000       0.042       0.121\n",
      "PAY_3           0.0713      0.023      3.154      0.002       0.027       0.116\n",
      "PAY_4           0.0225      0.025      0.900      0.368      -0.027       0.072\n",
      "PAY_5           0.0344      0.027      1.279      0.201      -0.018       0.087\n",
      "PAY_6           0.0069      0.022      0.311      0.756      -0.037       0.050\n",
      "BILL_AMT1   -5.513e-06   1.14e-06     -4.845      0.000   -7.74e-06   -3.28e-06\n",
      "BILL_AMT2    2.413e-06    1.5e-06      1.603      0.109   -5.37e-07    5.36e-06\n",
      "BILL_AMT3    1.345e-06   1.32e-06      1.016      0.309   -1.25e-06    3.94e-06\n",
      "BILL_AMT4   -1.405e-07   1.35e-06     -0.104      0.917   -2.79e-06    2.51e-06\n",
      "BILL_AMT5    7.589e-07   1.52e-06      0.499      0.618   -2.22e-06    3.74e-06\n",
      "BILL_AMT6    1.952e-07   1.19e-06      0.163      0.870   -2.15e-06    2.54e-06\n",
      "PAY_AMT1    -1.364e-05   2.31e-06     -5.916      0.000   -1.82e-05   -9.12e-06\n",
      "PAY_AMT2    -9.493e-06   2.09e-06     -4.547      0.000   -1.36e-05    -5.4e-06\n",
      "PAY_AMT3    -2.641e-06   1.72e-06     -1.537      0.124   -6.01e-06    7.26e-07\n",
      "PAY_AMT4    -4.069e-06   1.79e-06     -2.278      0.023   -7.57e-06   -5.68e-07\n",
      "PAY_AMT5    -3.213e-06   1.78e-06     -1.810      0.070   -6.69e-06    2.66e-07\n",
      "PAY_AMT6    -2.092e-06    1.3e-06     -1.613      0.107   -4.63e-06     4.5e-07\n",
      "SEX_2          -0.1125      0.031     -3.663      0.000      -0.173      -0.052\n",
      "EDUCATION_1    13.6070    552.196      0.025      0.980   -1068.676    1095.890\n",
      "EDUCATION_2    13.5224    552.196      0.024      0.980   -1068.761    1095.806\n",
      "EDUCATION_3    13.5005    552.196      0.024      0.980   -1068.783    1095.784\n",
      "EDUCATION_4    12.4596    552.196      0.023      0.982   -1069.824    1094.743\n",
      "EDUCATION_5    12.2438    552.196      0.022      0.982   -1070.040    1094.527\n",
      "EDUCATION_6    13.3045    552.196      0.024      0.981   -1068.979    1095.588\n",
      "MARRIAGE_1      1.3194      0.516      2.557      0.011       0.308       2.331\n",
      "MARRIAGE_2      1.1304      0.516      2.190      0.029       0.119       2.142\n",
      "MARRIAGE_3      1.2406      0.533      2.328      0.020       0.196       2.285\n",
      "===============================================================================\n"
     ]
    },
    {
     "name": "stderr",
     "output_type": "stream",
     "text": [
      "/Users/apple/opt/anaconda3/lib/python3.9/site-packages/statsmodels/base/model.py:566: ConvergenceWarning: Maximum Likelihood optimization failed to converge. Check mle_retvals\n",
      "  warnings.warn(\"Maximum Likelihood optimization failed to \"\n"
     ]
    }
   ],
   "source": [
    "import statsmodels.api as sm\n",
    "\n",
    "logit_mod = sm.Logit(df2['default payment next month'], sm.add_constant((df2.drop('default payment next month', axis = 1))))\n",
    "logit_res = logit_mod.fit()\n",
    "print(logit_res.summary())"
   ]
  },
  {
   "cell_type": "code",
   "execution_count": 13,
   "metadata": {
    "id": "NTuvqLSwcEtk"
   },
   "outputs": [
    {
     "name": "stdout",
     "output_type": "stream",
     "text": [
      "PAY_5 and PAY_4 have a correlation of 0.8198353114868158\n",
      "PAY_6 and PAY_5 have a correlation of 0.8169001604176753\n",
      "BILL_AMT2 and BILL_AMT1 have a correlation of 0.9514836727518136\n",
      "BILL_AMT3 and BILL_AMT1 have a correlation of 0.8922785291271761\n",
      "BILL_AMT3 and BILL_AMT2 have a correlation of 0.9283262592714855\n",
      "BILL_AMT4 and BILL_AMT1 have a correlation of 0.8602721890293095\n",
      "BILL_AMT4 and BILL_AMT2 have a correlation of 0.8924822912577209\n",
      "BILL_AMT4 and BILL_AMT3 have a correlation of 0.9239694565909823\n",
      "BILL_AMT5 and BILL_AMT1 have a correlation of 0.8297786058330013\n",
      "BILL_AMT5 and BILL_AMT2 have a correlation of 0.859778307271445\n",
      "BILL_AMT5 and BILL_AMT3 have a correlation of 0.8839096973620155\n",
      "BILL_AMT5 and BILL_AMT4 have a correlation of 0.9401344040880004\n",
      "BILL_AMT6 and BILL_AMT1 have a correlation of 0.8026501885528455\n",
      "BILL_AMT6 and BILL_AMT2 have a correlation of 0.8315935591018213\n",
      "BILL_AMT6 and BILL_AMT3 have a correlation of 0.8533200905940468\n",
      "BILL_AMT6 and BILL_AMT4 have a correlation of 0.9009409547978421\n",
      "BILL_AMT6 and BILL_AMT5 have a correlation of 0.9461968070521957\n"
     ]
    }
   ],
   "source": [
    "to_drop = []\n",
    "corr_matrix = sm.add_constant((df2.drop('default payment next month', axis = 1))).corr()\n",
    "for i in range(len(corr_matrix.columns)):\n",
    "    for j in range(i):\n",
    "        if (corr_matrix.iloc[i, j] >= 0.80) and i != j:\n",
    "            print(f\"{corr_matrix.columns[i]} and {corr_matrix.index[j]} have a correlation of {corr_matrix.iloc[i, j]}\" ) \n",
    "            to_drop.append(corr_matrix.index[j])"
   ]
  },
  {
   "cell_type": "code",
   "execution_count": 14,
   "metadata": {
    "id": "pbS2rf9Icezx"
   },
   "outputs": [
    {
     "data": {
      "text/plain": [
       "['PAY_4',\n",
       " 'PAY_5',\n",
       " 'BILL_AMT1',\n",
       " 'BILL_AMT1',\n",
       " 'BILL_AMT2',\n",
       " 'BILL_AMT1',\n",
       " 'BILL_AMT2',\n",
       " 'BILL_AMT3',\n",
       " 'BILL_AMT1',\n",
       " 'BILL_AMT2',\n",
       " 'BILL_AMT3',\n",
       " 'BILL_AMT4',\n",
       " 'BILL_AMT1',\n",
       " 'BILL_AMT2',\n",
       " 'BILL_AMT3',\n",
       " 'BILL_AMT4',\n",
       " 'BILL_AMT5']"
      ]
     },
     "execution_count": 14,
     "metadata": {},
     "output_type": "execute_result"
    }
   ],
   "source": [
    "to_drop"
   ]
  },
  {
   "cell_type": "code",
   "execution_count": 15,
   "metadata": {
    "id": "ZVwhV9Avjlh_"
   },
   "outputs": [
    {
     "name": "stdout",
     "output_type": "stream",
     "text": [
      "Optimization terminated successfully.\n",
      "         Current function value: 0.464704\n",
      "         Iterations 67\n",
      "                               Logit Regression Results                               \n",
      "======================================================================================\n",
      "Dep. Variable:     default payment next month   No. Observations:                30000\n",
      "Model:                                  Logit   Df Residuals:                    29976\n",
      "Method:                                   MLE   Df Model:                           23\n",
      "Date:                        Mon, 12 Dec 2022   Pseudo R-squ.:                  0.1206\n",
      "Time:                                14:49:52   Log-Likelihood:                -13941.\n",
      "converged:                               True   LL-Null:                       -15853.\n",
      "Covariance Type:                    nonrobust   LLR p-value:                     0.000\n",
      "===============================================================================\n",
      "                  coef    std err          z      P>|z|      [0.025      0.975]\n",
      "-------------------------------------------------------------------------------\n",
      "const        -475.0167        nan        nan        nan         nan         nan\n",
      "LIMIT_BAL   -8.539e-07   1.57e-07     -5.453      0.000   -1.16e-06   -5.47e-07\n",
      "AGE             0.0053      0.002      2.857      0.004       0.002       0.009\n",
      "PAY_0           0.5830      0.018     32.852      0.000       0.548       0.618\n",
      "PAY_2           0.0670      0.020      3.334      0.001       0.028       0.106\n",
      "PAY_3           0.0966      0.020      4.875      0.000       0.058       0.135\n",
      "PAY_6           0.0478      0.017      2.894      0.004       0.015       0.080\n",
      "BILL_AMT6   -9.693e-07   3.46e-07     -2.800      0.005   -1.65e-06   -2.91e-07\n",
      "PAY_AMT1    -1.192e-05   2.18e-06     -5.477      0.000   -1.62e-05   -7.65e-06\n",
      "PAY_AMT2    -8.355e-06   1.88e-06     -4.439      0.000    -1.2e-05   -4.67e-06\n",
      "PAY_AMT3    -2.799e-06    1.5e-06     -1.871      0.061   -5.73e-06    1.33e-07\n",
      "PAY_AMT4    -4.183e-06   1.59e-06     -2.623      0.009   -7.31e-06   -1.06e-06\n",
      "PAY_AMT5    -3.146e-06   1.53e-06     -2.060      0.039   -6.14e-06   -1.52e-07\n",
      "PAY_AMT6    -3.144e-06   1.28e-06     -2.462      0.014   -5.65e-06   -6.41e-07\n",
      "SEX_2          -0.1063      0.031     -3.466      0.001      -0.166      -0.046\n",
      "EDUCATION_1   472.7132        nan        nan        nan         nan         nan\n",
      "EDUCATION_2   472.6182        nan        nan        nan         nan         nan\n",
      "EDUCATION_3   472.5950        nan        nan        nan         nan         nan\n",
      "EDUCATION_4   471.5208        nan        nan        nan         nan         nan\n",
      "EDUCATION_5   471.3011        nan        nan        nan         nan         nan\n",
      "EDUCATION_6   472.3506        nan        nan        nan         nan         nan\n",
      "MARRIAGE_1      1.3077      0.516      2.536      0.011       0.297       2.318\n",
      "MARRIAGE_2      1.1173      0.516      2.166      0.030       0.106       2.128\n",
      "MARRIAGE_3      1.2164      0.533      2.284      0.022       0.173       2.260\n",
      "===============================================================================\n"
     ]
    }
   ],
   "source": [
    "import statsmodels.api as sm\n",
    "\n",
    "logit_mod = sm.Logit(df2['default payment next month'], sm.add_constant((df2.drop(['default payment next month'] + to_drop, axis = 1))))\n",
    "logit_res = logit_mod.fit(maxiter = 1000)\n",
    "print(logit_res.summary())"
   ]
  },
  {
   "cell_type": "code",
   "execution_count": 16,
   "metadata": {
    "id": "9_EBDl6F2SME"
   },
   "outputs": [],
   "source": [
    "log_sum = logit_res.summary()"
   ]
  },
  {
   "cell_type": "code",
   "execution_count": 17,
   "metadata": {
    "id": "EyeY8h8k5Jvq"
   },
   "outputs": [
    {
     "data": {
      "text/plain": [
       "'                         Logit Regression Results                         \\nDep. Variable:  ,default payment next month,  No. Observations:  , 30000  \\nModel:          ,Logit                     ,  Df Residuals:      , 29976  \\nMethod:         ,MLE                       ,  Df Model:          ,    23  \\nDate:           ,Mon, 12 Dec 2022          ,  Pseudo R-squ.:     ,0.1206  \\nTime:           ,14:49:55                  ,  Log-Likelihood:    , -13941.\\nconverged:      ,True                      ,  LL-Null:           , -15853.\\nCovariance Type:,nonrobust                 ,  LLR p-value:       , 0.000  \\n           ,   coef   , std err ,    z    ,P>|z| ,  [0.025 ,  0.975] \\nconst      , -475.0167,      nan,      nan,   nan,      nan,      nan\\nLIMIT_BAL  ,-8.539e-07, 1.57e-07,   -5.453, 0.000,-1.16e-06,-5.47e-07\\nAGE        ,    0.0053,    0.002,    2.857, 0.004,    0.002,    0.009\\nPAY_0      ,    0.5830,    0.018,   32.852, 0.000,    0.548,    0.618\\nPAY_2      ,    0.0670,    0.020,    3.334, 0.001,    0.028,    0.106\\nPAY_3      ,    0.0966,    0.020,    4.875, 0.000,    0.058,    0.135\\nPAY_6      ,    0.0478,    0.017,    2.894, 0.004,    0.015,    0.080\\nBILL_AMT6  ,-9.693e-07, 3.46e-07,   -2.800, 0.005,-1.65e-06,-2.91e-07\\nPAY_AMT1   ,-1.192e-05, 2.18e-06,   -5.477, 0.000,-1.62e-05,-7.65e-06\\nPAY_AMT2   ,-8.355e-06, 1.88e-06,   -4.439, 0.000, -1.2e-05,-4.67e-06\\nPAY_AMT3   ,-2.799e-06,  1.5e-06,   -1.871, 0.061,-5.73e-06, 1.33e-07\\nPAY_AMT4   ,-4.183e-06, 1.59e-06,   -2.623, 0.009,-7.31e-06,-1.06e-06\\nPAY_AMT5   ,-3.146e-06, 1.53e-06,   -2.060, 0.039,-6.14e-06,-1.52e-07\\nPAY_AMT6   ,-3.144e-06, 1.28e-06,   -2.462, 0.014,-5.65e-06,-6.41e-07\\nSEX_2      ,   -0.1063,    0.031,   -3.466, 0.001,   -0.166,   -0.046\\nEDUCATION_1,  472.7132,      nan,      nan,   nan,      nan,      nan\\nEDUCATION_2,  472.6182,      nan,      nan,   nan,      nan,      nan\\nEDUCATION_3,  472.5950,      nan,      nan,   nan,      nan,      nan\\nEDUCATION_4,  471.5208,      nan,      nan,   nan,      nan,      nan\\nEDUCATION_5,  471.3011,      nan,      nan,   nan,      nan,      nan\\nEDUCATION_6,  472.3506,      nan,      nan,   nan,      nan,      nan\\nMARRIAGE_1 ,    1.3077,    0.516,    2.536, 0.011,    0.297,    2.318\\nMARRIAGE_2 ,    1.1173,    0.516,    2.166, 0.030,    0.106,    2.128\\nMARRIAGE_3 ,    1.2164,    0.533,    2.284, 0.022,    0.173,    2.260'"
      ]
     },
     "execution_count": 17,
     "metadata": {},
     "output_type": "execute_result"
    }
   ],
   "source": [
    "log_sum.as_csv()"
   ]
  },
  {
   "cell_type": "markdown",
   "metadata": {
    "id": "ccvpEfcOvIFz"
   },
   "source": [
    "[Documentation](https://scikit-learn.org/stable/modules/generated/sklearn.linear_model.LogisticRegression.html)  \n",
    "\n",
    "**Make sure that you choose the regularization hyperparameter (C) wisely! The default C is 1.0, which can be very detrimental to model performance. Note that C is the inverse of lambda, smaller C means stronger penalty for complicated models. ** In this example, we set C to a large number. "
   ]
  },
  {
   "cell_type": "code",
   "execution_count": 18,
   "metadata": {
    "id": "qaGnWn33vIFz"
   },
   "outputs": [],
   "source": [
    "from sklearn.model_selection import train_test_split\n",
    "from sklearn import preprocessing\n",
    "from sklearn.linear_model import LogisticRegression\n",
    "\n",
    "y = df2['default payment next month']\n",
    "x = df2.drop('default payment next month', axis = 1)\n",
    "x_train, x_test, y_train, y_test = train_test_split(x, y, test_size = 0.2, random_state = 0)"
   ]
  },
  {
   "cell_type": "code",
   "execution_count": 19,
   "metadata": {
    "id": "fIKtUr-va2qG"
   },
   "outputs": [],
   "source": [
    "# standardization before fitting data so that they have 0-mean and unit-variance: z = (x - u) / s\n",
    "scaler = preprocessing.StandardScaler().fit(x_train)\n",
    "x_train_s = scaler.transform(x_train)\n",
    "x_test_s = scaler.transform(x_test)"
   ]
  },
  {
   "cell_type": "code",
   "execution_count": 20,
   "metadata": {
    "id": "s5QgzWqta2qG"
   },
   "outputs": [
    {
     "data": {
      "text/plain": [
       "LogisticRegression(C=100, max_iter=1000)"
      ]
     },
     "execution_count": 20,
     "metadata": {},
     "output_type": "execute_result"
    }
   ],
   "source": [
    "lg = LogisticRegression(C=100, solver = 'lbfgs', max_iter = 1000)\n",
    "lg.fit(x_train_s, y_train)"
   ]
  },
  {
   "cell_type": "code",
   "execution_count": 21,
   "metadata": {
    "id": "moepbu_la2qH",
    "scrolled": true
   },
   "outputs": [],
   "source": [
    "y_predict_test = lg.predict(x_test_s)"
   ]
  },
  {
   "cell_type": "code",
   "execution_count": 22,
   "metadata": {
    "id": "cCJhirOka2qH"
   },
   "outputs": [
    {
     "data": {
      "text/plain": [
       "array([0, 0, 0, 0, 0, 0, 0, 0, 0, 0, 0, 0, 0, 0, 0, 0, 0, 0, 0, 0])"
      ]
     },
     "execution_count": 22,
     "metadata": {},
     "output_type": "execute_result"
    }
   ],
   "source": [
    "y_predict_test[:20]"
   ]
  },
  {
   "cell_type": "code",
   "execution_count": 23,
   "metadata": {
    "id": "sibaXCdOa2qH"
   },
   "outputs": [
    {
     "data": {
      "text/plain": [
       "array([0, 0, 0, 0, 0, 1, 1, 0, 0, 0, 0, 0, 0, 0, 0, 0, 1, 0, 0, 0])"
      ]
     },
     "execution_count": 23,
     "metadata": {},
     "output_type": "execute_result"
    }
   ],
   "source": [
    "y_test[:20].values"
   ]
  },
  {
   "cell_type": "markdown",
   "metadata": {
    "id": "x0qeBOrGvIF2"
   },
   "source": [
    "## 4. Performance evaluation\n",
    "- Accuracy\n",
    "- Confusion Matrix\n",
    "- Precision, Recall, and F1-score\n",
    "- More details [here](https://towardsdatascience.com/beyond-accuracy-precision-and-recall-3da06bea9f6c)"
   ]
  },
  {
   "cell_type": "markdown",
   "metadata": {
    "id": "ffdJxXflvIF2"
   },
   "source": [
    "### 4.1. Accuracy\n",
    "- Accuracy is often used to measure model performance"
   ]
  },
  {
   "cell_type": "code",
   "execution_count": 24,
   "metadata": {
    "id": "xZlsZnH1a2qI"
   },
   "outputs": [
    {
     "data": {
      "text/plain": [
       "<bound method ClassifierMixin.score of LogisticRegression(C=100, max_iter=1000)>"
      ]
     },
     "execution_count": 24,
     "metadata": {},
     "output_type": "execute_result"
    }
   ],
   "source": [
    "lg.score"
   ]
  },
  {
   "cell_type": "code",
   "execution_count": 25,
   "metadata": {
    "id": "m-18QG_mvIF3"
   },
   "outputs": [
    {
     "name": "stdout",
     "output_type": "stream",
     "text": [
      "classifier accuracy is 0.82\n"
     ]
    }
   ],
   "source": [
    "print('classifier accuracy is {:.2f}'.format(lg.score(x_test_s, y_test)))"
   ]
  },
  {
   "cell_type": "code",
   "execution_count": 26,
   "metadata": {
    "id": "SV-eF6Iia2qI"
   },
   "outputs": [
    {
     "name": "stdout",
     "output_type": "stream",
     "text": [
      "classifier accuracy is 0.82\n"
     ]
    }
   ],
   "source": [
    "from sklearn.metrics import accuracy_score\n",
    "print('classifier accuracy is {:.2f}'.format(accuracy_score(y_true=y_test, y_pred=y_predict_test)))"
   ]
  },
  {
   "cell_type": "markdown",
   "metadata": {
    "id": "5kTpDqcra2qI"
   },
   "source": [
    "- However, for an imbalanced classification problem where **the sample is imbalanced (one category represents the overwhelming majority of the data points)** or **the cost is asymmetric**, accuracy can be a problematic metric\n",
    "  - prediction of rare diseases\n",
    "  - mortgage default\n",
    "  - antibody test"
   ]
  },
  {
   "cell_type": "markdown",
   "metadata": {
    "id": "TojZshGmvIF5"
   },
   "source": [
    "### 4.2. Confusion Matrix\n",
    "- Two types of prediction errors:\n",
    "  - False Positive: Predict an event when there was no event\n",
    "  - False Negative: Predict no event when in fact there was an event"
   ]
  },
  {
   "cell_type": "code",
   "execution_count": 27,
   "metadata": {
    "id": "Iv4_LbXMvIF5",
    "scrolled": true
   },
   "outputs": [
    {
     "name": "stdout",
     "output_type": "stream",
     "text": [
      "confusion matrix:\n",
      " [[4607   96]\n",
      " [ 983  314]]\n"
     ]
    }
   ],
   "source": [
    "# confusion matrix\n",
    "from sklearn.metrics import confusion_matrix, classification_report\n",
    "cm = confusion_matrix(y_true=y_test, y_pred=y_predict_test)\n",
    "print('confusion matrix:\\n', cm)"
   ]
  },
  {
   "cell_type": "code",
   "execution_count": 28,
   "metadata": {
    "id": "Kn3Uv4rla2qJ"
   },
   "outputs": [
    {
     "name": "stdout",
     "output_type": "stream",
     "text": [
      "tn: 4607, fp: 96, fn: 983, tp: 314\n"
     ]
    }
   ],
   "source": [
    "tn, fp, fn, tp = cm.ravel()\n",
    "print(f'tn: {tn}, fp: {fp}, fn: {fn}, tp: {tp}')"
   ]
  },
  {
   "cell_type": "code",
   "execution_count": 29,
   "metadata": {
    "id": "cLIyl8n6vIF9"
   },
   "outputs": [
    {
     "data": {
      "text/plain": [
       "<AxesSubplot:>"
      ]
     },
     "execution_count": 29,
     "metadata": {},
     "output_type": "execute_result"
    },
    {
     "data": {
      "image/png": "[encoded data removed]",
      "text/plain": [
       "<Figure size 432x288 with 2 Axes>"
      ]
     },
     "metadata": {},
     "output_type": "display_data"
    }
   ],
   "source": [
    "sns.heatmap(pd.DataFrame(cm), annot = True, cmap=\"YlGnBu\")"
   ]
  },
  {
   "cell_type": "markdown",
   "metadata": {
    "id": "0v0JpltrvIGA"
   },
   "source": [
    "### 4.3. Precision, Recall, and F1-score\n",
    "- Precision: precentage of true cases among the predicated true cases\n",
    "- Recall:  precentage of true cases that have been retrieved over the total number of true cases\n",
    "    - Metrics: <br>\n",
    "   $$ \n",
    "    \\begin{align}\n",
    "     precision~of~positive~class &= \\frac{true~positives}{ true~positives + false~positives} \\\\\n",
    "     recall~of~positive~class &= \\frac{true~positives}{ true~positives + false~negatives}\n",
    "    \\end{align}\n",
    "    $$\n",
    "- F-score: $$\\frac{2*precision*recall}{precision+recall}$$"
   ]
  },
  {
   "cell_type": "code",
   "execution_count": 30,
   "metadata": {
    "id": "D7xtdfZtvIGB"
   },
   "outputs": [
    {
     "name": "stdout",
     "output_type": "stream",
     "text": [
      "classification report:\n",
      "               precision    recall  f1-score   support\n",
      "\n",
      "           0       0.82      0.98      0.90      4703\n",
      "           1       0.77      0.24      0.37      1297\n",
      "\n",
      "    accuracy                           0.82      6000\n",
      "   macro avg       0.80      0.61      0.63      6000\n",
      "weighted avg       0.81      0.82      0.78      6000\n",
      "\n"
     ]
    }
   ],
   "source": [
    "# classification report\n",
    "print('classification report:\\n', classification_report(y_test, y_predict_test))"
   ]
  },
  {
   "cell_type": "markdown",
   "metadata": {
    "id": "flT3iVLovIGH"
   },
   "source": [
    "### 4.4 Decision threshold"
   ]
  },
  {
   "cell_type": "markdown",
   "metadata": {
    "id": "iEX-661fvIGI"
   },
   "source": [
    "By default, most classification algorithms can output a predicted probability using `predict_proba()`. The default decision threshold is $p = 0.5$, meaning if $p(y|x) > 0.5$ then predicted class is 1. Sometimes it is necassary to use a difference decision threshold. "
   ]
  },
  {
   "cell_type": "code",
   "execution_count": 31,
   "metadata": {
    "id": "Kvq_rHhFvIGI"
   },
   "outputs": [
    {
     "data": {
      "text/plain": [
       "array([[0.50724594, 0.49275406],\n",
       "       [0.75125153, 0.24874847],\n",
       "       [0.67405048, 0.32594952],\n",
       "       [0.79626982, 0.20373018],\n",
       "       [0.94587177, 0.05412823]])"
      ]
     },
     "execution_count": 31,
     "metadata": {},
     "output_type": "execute_result"
    }
   ],
   "source": [
    "predict_prob = lg.predict_proba(x_test_s)\n",
    "# note that the predicted prob has 2 columns and they add up to 1. \n",
    "# The columns give the predicted probability of each class.\n",
    "predict_prob[:5]"
   ]
  },
  {
   "cell_type": "markdown",
   "metadata": {
    "id": "4rFo2cTbvIGK"
   },
   "source": [
    "When we set the threshold to 0.1, the recall for y = 1 class goes up, and precision goes down (think about why). This is a fundamental tradeoff that you need to make. The optimal threshold depends on \n",
    "- the relative cost between false positive and false negative. \n",
    "- how unbalanced the classes are in the train set."
   ]
  },
  {
   "cell_type": "code",
   "execution_count": 32,
   "metadata": {
    "id": "-mXvIH5ivIGL",
    "scrolled": false
   },
   "outputs": [
    {
     "name": "stdout",
     "output_type": "stream",
     "text": [
      "classification report:\n",
      "               precision    recall  f1-score   support\n",
      "\n",
      "           0       0.90      0.22      0.35      4703\n",
      "           1       0.24      0.91      0.38      1297\n",
      "\n",
      "    accuracy                           0.37      6000\n",
      "   macro avg       0.57      0.56      0.37      6000\n",
      "weighted avg       0.76      0.37      0.36      6000\n",
      "\n"
     ]
    }
   ],
   "source": [
    "print('classification report:\\n', classification_report(y_test, predict_prob[:,1] > 0.1))"
   ]
  },
  {
   "cell_type": "markdown",
   "metadata": {
    "id": "eQs82MS0vIGO"
   },
   "source": [
    "## 5. ROC curve and Precision-Recall Curve\n",
    "- ROC curve and AUC\n",
    "- Precision-Recall Curve\n",
    "- More details [here](https://machinelearningmastery.com/roc-curves-and-precision-recall-curves-for-classification-in-python/)"
   ]
  },
  {
   "cell_type": "markdown",
   "metadata": {
    "id": "D5a0uMXyvIGP"
   },
   "source": [
    "### 5.1 ROC curve and AUC\n",
    "- **Receiver operating characteristic (ROC) curve** plots the true positive rate (TPR) vs the false positive rate (FPR) as a function of the model’s threshold for classifying positives\n",
    "- Metrics: <br>\n",
    "\n",
    "$$ \n",
    "    \\begin{align}\n",
    "     true~positive~rate~(tpr) &= recall~of~positive~class  \\\\\n",
    "     false~positive~rate~(fpr) &= \\frac{false~positives}{ false~positives + true~negatives} \\\\\n",
    "     & = 1- recall~of~negative~class\n",
    "    \\end{align}\n",
    "$$ \n",
    "\n",
    "- **Area under the curve (AUC)** is a metric to calculate the overall performance of a classification model based on area under the ROC curve \n",
    "- **Important**: To genenrate the ROC curve, you need to use the output from `predict_proba`, not `predict`! The `roc_curve` function automatically varies the decision threshold and computes the TP and FP at any given threshold. "
   ]
  },
  {
   "cell_type": "code",
   "execution_count": 33,
   "metadata": {
    "id": "_bR1EyC0vIGP"
   },
   "outputs": [
    {
     "data": {
      "text/plain": [
       "8225     0\n",
       "10794    0\n",
       "9163     0\n",
       "26591    0\n",
       "6631     0\n",
       "        ..\n",
       "12715    0\n",
       "28867    0\n",
       "3758     1\n",
       "17842    0\n",
       "9119     0\n",
       "Name: default payment next month, Length: 6000, dtype: int64"
      ]
     },
     "execution_count": 33,
     "metadata": {},
     "output_type": "execute_result"
    }
   ],
   "source": [
    "y_test"
   ]
  },
  {
   "cell_type": "code",
   "execution_count": 34,
   "metadata": {
    "id": "pEd8EHXcvIGU"
   },
   "outputs": [
    {
     "data": {
      "text/plain": [
       "array([0.49275406, 0.24874847, 0.32594952, ..., 0.232804  , 0.59737045,\n",
       "       0.27097503])"
      ]
     },
     "execution_count": 34,
     "metadata": {},
     "output_type": "execute_result"
    }
   ],
   "source": [
    "predict_prob[:, 1]"
   ]
  },
  {
   "cell_type": "code",
   "execution_count": 35,
   "metadata": {
    "id": "mXu7zzp2vIGX"
   },
   "outputs": [
    {
     "name": "stdout",
     "output_type": "stream",
     "text": [
      "AUC: 0.72\n"
     ]
    }
   ],
   "source": [
    "from sklearn.metrics import roc_curve, auc, precision_recall_curve\n",
    "\n",
    "fpr, tpr, thresholds = roc_curve(y_test, predict_prob[:, 1])\n",
    "print('AUC: {:.2f}'.format(auc(fpr, tpr)))"
   ]
  },
  {
   "cell_type": "code",
   "execution_count": 36,
   "metadata": {
    "id": "GYHv1VefvIGZ"
   },
   "outputs": [
    {
     "data": {
      "image/png": "[encoded data removed]",
      "text/plain": [
       "<Figure size 504x360 with 1 Axes>"
      ]
     },
     "metadata": {},
     "output_type": "display_data"
    }
   ],
   "source": [
    "import matplotlib.pyplot as plt\n",
    "plt.figure(figsize = (7, 5))\n",
    "plt.plot(fpr, tpr, color = 'darkorange', lw = 2, label = 'Logistic Reg')\n",
    "plt.plot([0, 1], [0, 1], color = 'navy', lw = 2, linestyle = '--', label = 'Random Guess')\n",
    "plt.title('AUC of Logistic Model')\n",
    "plt.xlabel('False Positive Rate (1-Specificity)')\n",
    "plt.ylabel('True Positive Rate (Recall)' )\n",
    "plt.xlim([0.0, 1.0])\n",
    "plt.ylim([0.0, 1.0])\n",
    "plt.legend()\n",
    "plt.show();"
   ]
  },
  {
   "cell_type": "code",
   "execution_count": 37,
   "metadata": {
    "id": "3iN3usZ6a2qN"
   },
   "outputs": [
    {
     "name": "stdout",
     "output_type": "stream",
     "text": [
      "AUC: 0.61\n"
     ]
    },
    {
     "data": {
      "image/png": "[encoded data removed]",
      "text/plain": [
       "<Figure size 504x360 with 1 Axes>"
      ]
     },
     "metadata": {},
     "output_type": "display_data"
    }
   ],
   "source": [
    "# !!!! Warning! Wrong Approach !!!! #######\n",
    "fpr, tpr, thresholds = roc_curve(y_test, predict_prob[:, 1] > 0.5)\n",
    "print('AUC: {:.2f}'.format(auc(fpr, tpr)))\n",
    "\n",
    "import matplotlib.pyplot as plt\n",
    "plt.figure(figsize = (7, 5))\n",
    "plt.plot(fpr, tpr, color = 'darkorange', lw = 2, label = 'Logistic Reg')\n",
    "plt.plot([0, 1], [0, 1], color = 'navy', lw = 2, linestyle = '--', label = 'Random Guess')\n",
    "plt.title('AUC of Logistic Model (Wrong Way)')\n",
    "plt.xlabel('False Positive Rate')\n",
    "plt.ylabel('True Positive Rate')\n",
    "plt.xlim([0.0, 1.0])\n",
    "plt.ylim([0.0, 1.0])\n",
    "plt.legend()\n",
    "plt.show();"
   ]
  },
  {
   "cell_type": "markdown",
   "metadata": {
    "id": "WO_t1voza2qN"
   },
   "source": [
    "Using the binary classification output instead of predicted probability to construct the ROC curve and to compute AUC is a common mistake. See [SAS's Python API tutorial](https://github.com/sassoftware/saspy-examples/blob/8b5caae91b375276c3d20b2aa62a3fce9ff881f7/SAS_contrib/SASPy%20for%20Machine%20Learning.ipynb)"
   ]
  },
  {
   "cell_type": "markdown",
   "metadata": {
    "id": "2W_VgfZevIGb"
   },
   "source": [
    "### 5.2 Precision-Recall Curve\n",
    "- **Precision-Recall Curve** plots the precision (y-axis) and the recall (x-axis) for different thresholds, much like the ROC curve\n"
   ]
  },
  {
   "cell_type": "code",
   "execution_count": 38,
   "metadata": {
    "id": "zaduEb4JvIGc"
   },
   "outputs": [
    {
     "data": {
      "image/png": "[encoded data removed]",
      "text/plain": [
       "<Figure size 504x360 with 1 Axes>"
      ]
     },
     "metadata": {},
     "output_type": "display_data"
    }
   ],
   "source": [
    "precision, recall, thresholds = precision_recall_curve(y_test, predict_prob[:,1] )\n",
    "\n",
    "plt.figure(figsize = (7, 5))\n",
    "plt.plot(recall, precision, color='darkorange', lw=2)\n",
    "plt.xlim([0.0, 1.0])\n",
    "plt.ylim([0.0, 1.0])\n",
    "plt.xlabel('Recall')\n",
    "plt.ylabel('Precision')\n",
    "plt.title('Precision_Recall_Curve of Logistic Model')\n",
    "plt.show();"
   ]
  },
  {
   "cell_type": "markdown",
   "metadata": {
    "id": "uHF-4sBGa2qO"
   },
   "source": [
    "Quiz: When decision threshold increases, what happens to the horizontal axis (recall)?"
   ]
  },
  {
   "cell_type": "markdown",
   "metadata": {
    "id": "qabYWth8vIGf"
   },
   "source": [
    "## 6. PCA\n",
    "- **Principal Component Analysis (PCA)** is a dimension-reduction tool that can be used to reduce a large set of variables to a small set that still contains most of the information in the large set.\n",
    "- The main purpose of principal component analysis is to:\n",
    "    - identify hidden pattern in a data set,\n",
    "    - reduce the dimensionnality of the data by removing the noise and redundancy in the data,\n",
    "    - deal with multicollinearity"
   ]
  },
  {
   "cell_type": "code",
   "execution_count": 39,
   "metadata": {
    "id": "pG709HCPvIGf"
   },
   "outputs": [
    {
     "data": {
      "image/png": "[encoded data removed]",
      "text/plain": [
       "<Figure size 792x648 with 2 Axes>"
      ]
     },
     "metadata": {},
     "output_type": "display_data"
    }
   ],
   "source": [
    "import numpy as np\n",
    "\n",
    "# correlation matrix\n",
    "corr = df2.iloc[:, :14].corr()\n",
    "\n",
    "# Generate a mask for the upper triangle\n",
    "mask = np.zeros_like(corr, dtype=np.bool)\n",
    "mask[np.triu_indices_from(mask)] = True\n",
    "\n",
    "# Set up the matplotlib figure\n",
    "f, ax = plt.subplots(figsize=(11, 9))\n",
    "\n",
    "# Generate a custom diverging colormap\n",
    "cmap = sns.diverging_palette(220, 10, as_cmap=True)\n",
    "\n",
    "# Draw the heatmap with the mask and correct aspect ratio\n",
    "sns.heatmap(corr, mask=mask, cmap=cmap, vmax=.3, center=0,\n",
    "            square=True, linewidths=.5, cbar_kws={\"shrink\": .5})\n",
    "plt.show();"
   ]
  },
  {
   "cell_type": "code",
   "execution_count": 40,
   "metadata": {
    "id": "CUnbwku1vIGh"
   },
   "outputs": [],
   "source": [
    "from sklearn.model_selection import train_test_split\n",
    "from sklearn import preprocessing\n",
    "from sklearn.linear_model import LogisticRegression\n",
    "from sklearn.decomposition import PCA\n",
    "\n",
    "y = df2['default payment next month'].values.astype(float)\n",
    "x = df2.drop('default payment next month', axis = 1).values.astype(float)\n",
    "x_train, x_test, y_train, y_test = train_test_split(x, y, test_size = 0.2, random_state = 0)\n",
    "\n",
    "# Note that standardization is important in PCA since the latter projects your original data onto directions which maximize the variance\n",
    "# If the features have different scales, this projection may get skrewed\n",
    "scaler = preprocessing.StandardScaler().fit(x_train)\n",
    "x_train_s = scaler.transform(x_train)\n",
    "x_test_s = scaler.transform(x_test)"
   ]
  },
  {
   "cell_type": "code",
   "execution_count": 41,
   "metadata": {
    "id": "HNOxQcaJa2qO"
   },
   "outputs": [
    {
     "data": {
      "text/plain": [
       "PCA(n_components=0.8)"
      ]
     },
     "execution_count": 41,
     "metadata": {},
     "output_type": "execute_result"
    },
    {
     "name": "stdout",
     "output_type": "stream",
     "text": [
      "Variance ratio of each pc:\n",
      " [0.21799803 0.13913982 0.08078993 0.05517653 0.05156652 0.04100052\n",
      " 0.03477682 0.03395631 0.0335844  0.03308976 0.03297848 0.03109158\n",
      " 0.02917485] \n",
      "\n",
      "Explained variance of each pc:\n",
      " [6.54021343 4.17436855 2.42379879 1.65536501 1.54706001 1.23006684\n",
      " 1.04334794 1.01873168 1.00757405 0.99273404 0.98939558 0.93278632\n",
      " 0.87528199] \n",
      "\n",
      "Selected 13 pcs\n",
      "Original dataset shape:  (30000, 31)\n"
     ]
    }
   ],
   "source": [
    "# find the number of principle components which have 80% information of the original dataset\n",
    "pca = PCA(n_components = 0.8)\n",
    "pca.fit(x_train_s)\n",
    "print('Variance ratio of each pc:\\n', pca.explained_variance_ratio_, '\\n')\n",
    "print('Explained variance of each pc:\\n', pca.explained_variance_, '\\n')\n",
    "print('Selected {} pcs'.format(pca.n_components_))\n",
    "print('Original dataset shape: ', df2.shape)"
   ]
  },
  {
   "cell_type": "code",
   "execution_count": 42,
   "metadata": {
    "id": "iAp3xe1HvIGj"
   },
   "outputs": [
    {
     "data": {
      "text/plain": [
       "LogisticRegression(C=1000, max_iter=1000)"
      ]
     },
     "execution_count": 42,
     "metadata": {},
     "output_type": "execute_result"
    }
   ],
   "source": [
    "x_train_pca = pca.transform(x_train_s)\n",
    "x_test_pca = pca.transform(x_test_s)\n",
    "\n",
    "lg = LogisticRegression(C = 1000, solver = 'lbfgs', max_iter = 1000)\n",
    "lg.fit(x_train_pca, y_train)\n",
    "\n",
    "predict = lg.predict(x_test_pca)"
   ]
  },
  {
   "cell_type": "code",
   "execution_count": 43,
   "metadata": {
    "id": "7Mfw8zLYvIGn"
   },
   "outputs": [
    {
     "name": "stdout",
     "output_type": "stream",
     "text": [
      "classifier accuracy is 0.81\n",
      "confusion matrix:\n",
      " [[4618   85]\n",
      " [1083  214]]\n",
      "classification report:\n",
      "               precision    recall  f1-score   support\n",
      "\n",
      "         0.0       0.81      0.98      0.89      4703\n",
      "         1.0       0.72      0.16      0.27      1297\n",
      "\n",
      "    accuracy                           0.81      6000\n",
      "   macro avg       0.76      0.57      0.58      6000\n",
      "weighted avg       0.79      0.81      0.75      6000\n",
      "\n"
     ]
    }
   ],
   "source": [
    "from sklearn.metrics import confusion_matrix, classification_report\n",
    "print('classifier accuracy is {:.2f}'.format(lg.score(x_test_pca, y_test)))\n",
    "\n",
    "cm = confusion_matrix(y_test, predict)\n",
    "print('confusion matrix:\\n', cm)\n",
    "\n",
    "print('classification report:\\n', classification_report(y_test, predict))"
   ]
  },
  {
   "cell_type": "code",
   "execution_count": 44,
   "metadata": {
    "id": "kOzNDnQxcez1"
   },
   "outputs": [
    {
     "data": {
      "text/plain": [
       "LinearDiscriminantAnalysis()"
      ]
     },
     "execution_count": 44,
     "metadata": {},
     "output_type": "execute_result"
    },
    {
     "name": "stdout",
     "output_type": "stream",
     "text": [
      "confusion matrix:\n",
      " [[4600  103]\n",
      " [1077  220]]\n",
      "classification report:\n",
      "               precision    recall  f1-score   support\n",
      "\n",
      "         0.0       0.81      0.98      0.89      4703\n",
      "         1.0       0.68      0.17      0.27      1297\n",
      "\n",
      "    accuracy                           0.80      6000\n",
      "   macro avg       0.75      0.57      0.58      6000\n",
      "weighted avg       0.78      0.80      0.75      6000\n",
      "\n"
     ]
    }
   ],
   "source": [
    "from sklearn.discriminant_analysis import LinearDiscriminantAnalysis\n",
    "lda_mod = LinearDiscriminantAnalysis()\n",
    "lda_mod.fit(x_train_pca, y_train)\n",
    "predict = lda_mod.predict(x_test_pca)\n",
    "cm = confusion_matrix(y_test, predict)\n",
    "print('confusion matrix:\\n', cm)\n",
    "print('classification report:\\n', classification_report(y_test, predict))"
   ]
  },
  {
   "cell_type": "code",
   "execution_count": 45,
   "metadata": {
    "id": "GkF2lckkcez1"
   },
   "outputs": [
    {
     "data": {
      "text/plain": [
       "QuadraticDiscriminantAnalysis()"
      ]
     },
     "execution_count": 45,
     "metadata": {},
     "output_type": "execute_result"
    },
    {
     "name": "stdout",
     "output_type": "stream",
     "text": [
      "confusion matrix:\n",
      " [[ 748 3955]\n",
      " [  76 1221]]\n",
      "classification report:\n",
      "               precision    recall  f1-score   support\n",
      "\n",
      "         0.0       0.91      0.16      0.27      4703\n",
      "         1.0       0.24      0.94      0.38      1297\n",
      "\n",
      "    accuracy                           0.33      6000\n",
      "   macro avg       0.57      0.55      0.32      6000\n",
      "weighted avg       0.76      0.33      0.29      6000\n",
      "\n"
     ]
    }
   ],
   "source": [
    "from sklearn.discriminant_analysis import QuadraticDiscriminantAnalysis\n",
    "qda_mod = QuadraticDiscriminantAnalysis()\n",
    "qda_mod.fit(x_train_pca, y_train)\n",
    "predict = qda_mod.predict(x_test_pca)\n",
    "cm = confusion_matrix(y_test, predict)\n",
    "print('confusion matrix:\\n', cm)\n",
    "print('classification report:\\n', classification_report(y_test, predict))"
   ]
  },
  {
   "cell_type": "code",
   "execution_count": 46,
   "metadata": {
    "id": "h4hdv_W8cez1"
   },
   "outputs": [
    {
     "data": {
      "text/plain": [
       "QuadraticDiscriminantAnalysis()"
      ]
     },
     "execution_count": 46,
     "metadata": {},
     "output_type": "execute_result"
    },
    {
     "name": "stdout",
     "output_type": "stream",
     "text": [
      "confusion matrix:\n",
      " [[4402  301]\n",
      " [ 898  399]]\n",
      "classification report:\n",
      "               precision    recall  f1-score   support\n",
      "\n",
      "         0.0       0.83      0.94      0.88      4703\n",
      "         1.0       0.57      0.31      0.40      1297\n",
      "\n",
      "    accuracy                           0.80      6000\n",
      "   macro avg       0.70      0.62      0.64      6000\n",
      "weighted avg       0.77      0.80      0.78      6000\n",
      "\n"
     ]
    }
   ],
   "source": [
    "qda_mod = QuadraticDiscriminantAnalysis()\n",
    "qda_mod.fit(x_train_pca, y_train)\n",
    "predict = qda_mod.predict_proba(x_test_pca)[:, 1] > 0.9\n",
    "cm = confusion_matrix(y_test, predict)\n",
    "print('confusion matrix:\\n', cm)\n",
    "print('classification report:\\n', classification_report(y_test, predict))"
   ]
  },
  {
   "cell_type": "markdown",
   "metadata": {
    "id": "mDBkVGA1a2qP"
   },
   "source": [
    "## Deciding the number of principal components by cross validation\n",
    "- We can use CV on train set to decide the best number of PC (2-20) to maximize AUC\n",
    "- Steps:\n",
    "    - build a pipeline which executes necessary steps in a row\n",
    "    - set the range of parameters to be tuned\n",
    "    - grid search using cross validation"
   ]
  },
  {
   "cell_type": "code",
   "execution_count": 47,
   "metadata": {
    "id": "g3fad79Ta2qP"
   },
   "outputs": [
    {
     "name": "stdout",
     "output_type": "stream",
     "text": [
      "Fitting 3 folds for each of 19 candidates, totalling 57 fits\n"
     ]
    }
   ],
   "source": [
    "from sklearn.pipeline import Pipeline\n",
    "from sklearn.model_selection import GridSearchCV\n",
    "from sklearn import preprocessing\n",
    "from sklearn.linear_model import LogisticRegression\n",
    "from sklearn.decomposition import PCA\n",
    "\n",
    "# build a pipeline which executes three steps in a row\n",
    "pipe = Pipeline([\n",
    "    ('standardization', preprocessing.StandardScaler()),\n",
    "    ('pca', PCA()),    \n",
    "    ('lg', LogisticRegression(C=0.01, solver = 'lbfgs', max_iter = 1000))\n",
    "])\n",
    "\n",
    "# set the range of parameters to be tuned\n",
    "param_grid = {'pca__n_components':  range(2, 21)}\n",
    "# grid search using cross validation\n",
    "grid = GridSearchCV(pipe, cv = 3, param_grid = param_grid, scoring = 'roc_auc', refit=True, verbose=1)\n",
    "grid_fit = grid.fit(x_train, y_train)"
   ]
  },
  {
   "cell_type": "markdown",
   "metadata": {
    "id": "K9Y-ilsya2qQ"
   },
   "source": [
    "We can use the following function to help report the results: "
   ]
  },
  {
   "cell_type": "code",
   "execution_count": null,
   "metadata": {
    "id": "7plmJsCda2qQ",
    "scrolled": true
   },
   "outputs": [],
   "source": [
    "def report(results, n_top=3):\n",
    "    for i in range(1, n_top + 1):\n",
    "        candidates = np.flatnonzero(results['rank_test_score'] == i)\n",
    "        for candidate in candidates:\n",
    "            print(\"Model with rank: {0}\".format(i))\n",
    "            print(\"Mean validation score: {0:.3f} (std: {1:.3f})\".format(\n",
    "                  results['mean_test_score'][candidate],\n",
    "                  results['std_test_score'][candidate]))\n",
    "            print(\"Parameters: {0}\".format(results['params'][candidate]))\n",
    "            print(\"\")\n",
    "            \n",
    "report(grid.cv_results_)"
   ]
  },
  {
   "cell_type": "markdown",
   "metadata": {
    "id": "VdVKlXRya2qQ"
   },
   "source": [
    "Once the grid search is complete, the `GridSearchCV` will automatically refit on the entire train set. You can use the object to predict new observations directly. "
   ]
  },
  {
   "cell_type": "code",
   "execution_count": null,
   "metadata": {
    "id": "PYMsShqUa2qQ"
   },
   "outputs": [],
   "source": [
    "# This is not needed, unless you set refit = False when creating GridSearchCV. \n",
    "# final_model = grid.best_estimator_.fit(x_train, y_train)"
   ]
  },
  {
   "cell_type": "code",
   "execution_count": null,
   "metadata": {
    "id": "XZDv4i_1a2qQ"
   },
   "outputs": [],
   "source": [
    "grid.predict_proba(x_test)[:3]"
   ]
  }
 ],
 "metadata": {
  "colab": {
   "collapsed_sections": [
    "x0qeBOrGvIF2",
    "ffdJxXflvIF2",
    "TojZshGmvIF5",
    "0v0JpltrvIGA",
    "flT3iVLovIGH",
    "eQs82MS0vIGO",
    "D5a0uMXyvIGP",
    "2W_VgfZevIGb",
    "qabYWth8vIGf",
    "mDBkVGA1a2qP"
   ],
   "provenance": []
  },
  "kernelspec": {
   "display_name": "Python 3 (ipykernel)",
   "language": "python",
   "name": "python3"
  },
  "language_info": {
   "codemirror_mode": {
    "name": "ipython",
    "version": 3
   },
   "file_extension": ".py",
   "mimetype": "text/x-python",
   "name": "python",
   "nbconvert_exporter": "python",
   "pygments_lexer": "ipython3",
   "version": "3.9.7"
  },
  "toc": {
   "base_numbering": 1,
   "nav_menu": {},
   "number_sections": true,
   "sideBar": true,
   "skip_h1_title": false,
   "title_cell": "Table of Contents",
   "title_sidebar": "Contents",
   "toc_cell": false,
   "toc_position": {},
   "toc_section_display": true,
   "toc_window_display": false
  },
  "vscode": {
   "interpreter": {
    "hash": "40d3a090f54c6569ab1632332b64b2c03c39dcf918b08424e98f38b5ae0af88f"
   }
  }
 },
 "nbformat": 4,
 "nbformat_minor": 1
}
