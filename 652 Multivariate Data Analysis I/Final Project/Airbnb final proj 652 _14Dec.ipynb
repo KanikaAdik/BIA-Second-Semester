{
 "cells": [
  {
   "cell_type": "code",
   "execution_count": 1,
   "id": "6160cb7e",
   "metadata": {},
   "outputs": [],
   "source": [
    "from IPython.core.interactiveshell import InteractiveShell\n",
    "InteractiveShell.ast_node_interactivity = \"all\""
   ]
  },
  {
   "cell_type": "code",
   "execution_count": 2,
   "id": "cb199fa6",
   "metadata": {},
   "outputs": [],
   "source": [
    "#importing required libraries\n",
    "import pandas as pd\n",
    "import numpy as np\n",
    "import seaborn as sns\n",
    "from matplotlib import pyplot as plt"
   ]
  },
  {
   "cell_type": "code",
   "execution_count": 3,
   "id": "c7a0ab14",
   "metadata": {},
   "outputs": [],
   "source": [
    "#Import Data\n",
    "df = pd.read_csv(\"listings.csv\")"
   ]
  },
  {
   "cell_type": "code",
   "execution_count": 4,
   "id": "0f35ecbc",
   "metadata": {},
   "outputs": [
    {
     "data": {
      "text/html": [
       "<div>\n",
       "<style scoped>\n",
       "    .dataframe tbody tr th:only-of-type {\n",
       "        vertical-align: middle;\n",
       "    }\n",
       "\n",
       "    .dataframe tbody tr th {\n",
       "        vertical-align: top;\n",
       "    }\n",
       "\n",
       "    .dataframe thead th {\n",
       "        text-align: right;\n",
       "    }\n",
       "</style>\n",
       "<table border=\"1\" class=\"dataframe\">\n",
       "  <thead>\n",
       "    <tr style=\"text-align: right;\">\n",
       "      <th></th>\n",
       "      <th>id</th>\n",
       "      <th>host_name</th>\n",
       "      <th>host_since</th>\n",
       "      <th>host_response_time</th>\n",
       "      <th>host_response_rate</th>\n",
       "      <th>host_acceptance_rate</th>\n",
       "      <th>host_is_superhost</th>\n",
       "      <th>host_total_listings_count</th>\n",
       "      <th>host_has_profile_pic</th>\n",
       "      <th>host_identity_verified</th>\n",
       "      <th>...</th>\n",
       "      <th>price</th>\n",
       "      <th>review_scores_rating</th>\n",
       "      <th>review_scores_accuracy</th>\n",
       "      <th>review_scores_cleanliness</th>\n",
       "      <th>review_scores_checkin</th>\n",
       "      <th>review_scores_communication</th>\n",
       "      <th>review_scores_location</th>\n",
       "      <th>review_scores_value</th>\n",
       "      <th>instant_bookable</th>\n",
       "      <th>reviews_per_month</th>\n",
       "    </tr>\n",
       "  </thead>\n",
       "  <tbody>\n",
       "    <tr>\n",
       "      <th>0</th>\n",
       "      <td>15965441</td>\n",
       "      <td>José</td>\n",
       "      <td>11/14/16</td>\n",
       "      <td>within an hour</td>\n",
       "      <td>83%</td>\n",
       "      <td>0%</td>\n",
       "      <td>f</td>\n",
       "      <td>3.0</td>\n",
       "      <td>t</td>\n",
       "      <td>t</td>\n",
       "      <td>...</td>\n",
       "      <td>$150.00</td>\n",
       "      <td>NaN</td>\n",
       "      <td>NaN</td>\n",
       "      <td>NaN</td>\n",
       "      <td>NaN</td>\n",
       "      <td>NaN</td>\n",
       "      <td>NaN</td>\n",
       "      <td>NaN</td>\n",
       "      <td>f</td>\n",
       "      <td>NaN</td>\n",
       "    </tr>\n",
       "    <tr>\n",
       "      <th>1</th>\n",
       "      <td>47908784</td>\n",
       "      <td>Raquel</td>\n",
       "      <td>7/15/16</td>\n",
       "      <td>within a day</td>\n",
       "      <td>50%</td>\n",
       "      <td>100%</td>\n",
       "      <td>f</td>\n",
       "      <td>1.0</td>\n",
       "      <td>t</td>\n",
       "      <td>f</td>\n",
       "      <td>...</td>\n",
       "      <td>$450.00</td>\n",
       "      <td>NaN</td>\n",
       "      <td>NaN</td>\n",
       "      <td>NaN</td>\n",
       "      <td>NaN</td>\n",
       "      <td>NaN</td>\n",
       "      <td>NaN</td>\n",
       "      <td>NaN</td>\n",
       "      <td>f</td>\n",
       "      <td>NaN</td>\n",
       "    </tr>\n",
       "    <tr>\n",
       "      <th>2</th>\n",
       "      <td>52239613</td>\n",
       "      <td>Fabio</td>\n",
       "      <td>9/13/21</td>\n",
       "      <td>within a day</td>\n",
       "      <td>100%</td>\n",
       "      <td>89%</td>\n",
       "      <td>f</td>\n",
       "      <td>0.0</td>\n",
       "      <td>t</td>\n",
       "      <td>f</td>\n",
       "      <td>...</td>\n",
       "      <td>$350.00</td>\n",
       "      <td>5.00</td>\n",
       "      <td>5.00</td>\n",
       "      <td>5.00</td>\n",
       "      <td>4.89</td>\n",
       "      <td>4.78</td>\n",
       "      <td>4.78</td>\n",
       "      <td>4.89</td>\n",
       "      <td>f</td>\n",
       "      <td>1.16</td>\n",
       "    </tr>\n",
       "    <tr>\n",
       "      <th>3</th>\n",
       "      <td>10445855</td>\n",
       "      <td>Márcio</td>\n",
       "      <td>1/24/12</td>\n",
       "      <td>within an hour</td>\n",
       "      <td>100%</td>\n",
       "      <td>100%</td>\n",
       "      <td>f</td>\n",
       "      <td>2.0</td>\n",
       "      <td>t</td>\n",
       "      <td>t</td>\n",
       "      <td>...</td>\n",
       "      <td>$145.00</td>\n",
       "      <td>4.78</td>\n",
       "      <td>4.91</td>\n",
       "      <td>4.89</td>\n",
       "      <td>4.93</td>\n",
       "      <td>4.87</td>\n",
       "      <td>4.70</td>\n",
       "      <td>4.57</td>\n",
       "      <td>f</td>\n",
       "      <td>0.64</td>\n",
       "    </tr>\n",
       "    <tr>\n",
       "      <th>4</th>\n",
       "      <td>5.65E+17</td>\n",
       "      <td>Júlio</td>\n",
       "      <td>12/07/14</td>\n",
       "      <td>within an hour</td>\n",
       "      <td>100%</td>\n",
       "      <td>67%</td>\n",
       "      <td>f</td>\n",
       "      <td>0.0</td>\n",
       "      <td>t</td>\n",
       "      <td>t</td>\n",
       "      <td>...</td>\n",
       "      <td>$180.00</td>\n",
       "      <td>NaN</td>\n",
       "      <td>NaN</td>\n",
       "      <td>NaN</td>\n",
       "      <td>NaN</td>\n",
       "      <td>NaN</td>\n",
       "      <td>NaN</td>\n",
       "      <td>NaN</td>\n",
       "      <td>f</td>\n",
       "      <td>NaN</td>\n",
       "    </tr>\n",
       "  </tbody>\n",
       "</table>\n",
       "<p>5 rows × 29 columns</p>\n",
       "</div>"
      ],
      "text/plain": [
       "         id host_name host_since host_response_time host_response_rate  \\\n",
       "0  15965441      José   11/14/16     within an hour                83%   \n",
       "1  47908784    Raquel    7/15/16       within a day                50%   \n",
       "2  52239613     Fabio    9/13/21       within a day               100%   \n",
       "3  10445855    Márcio    1/24/12     within an hour               100%   \n",
       "4  5.65E+17     Júlio   12/07/14     within an hour               100%   \n",
       "\n",
       "  host_acceptance_rate host_is_superhost  host_total_listings_count  \\\n",
       "0                   0%                 f                        3.0   \n",
       "1                 100%                 f                        1.0   \n",
       "2                  89%                 f                        0.0   \n",
       "3                 100%                 f                        2.0   \n",
       "4                  67%                 f                        0.0   \n",
       "\n",
       "  host_has_profile_pic host_identity_verified  ...     price  \\\n",
       "0                    t                      t  ...  $150.00    \n",
       "1                    t                      f  ...  $450.00    \n",
       "2                    t                      f  ...  $350.00    \n",
       "3                    t                      t  ...  $145.00    \n",
       "4                    t                      t  ...  $180.00    \n",
       "\n",
       "   review_scores_rating  review_scores_accuracy review_scores_cleanliness  \\\n",
       "0                   NaN                     NaN                       NaN   \n",
       "1                   NaN                     NaN                       NaN   \n",
       "2                  5.00                    5.00                      5.00   \n",
       "3                  4.78                    4.91                      4.89   \n",
       "4                   NaN                     NaN                       NaN   \n",
       "\n",
       "  review_scores_checkin  review_scores_communication review_scores_location  \\\n",
       "0                   NaN                          NaN                    NaN   \n",
       "1                   NaN                          NaN                    NaN   \n",
       "2                  4.89                         4.78                   4.78   \n",
       "3                  4.93                         4.87                   4.70   \n",
       "4                   NaN                          NaN                    NaN   \n",
       "\n",
       "   review_scores_value  instant_bookable reviews_per_month  \n",
       "0                  NaN                 f               NaN  \n",
       "1                  NaN                 f               NaN  \n",
       "2                 4.89                 f              1.16  \n",
       "3                 4.57                 f              0.64  \n",
       "4                  NaN                 f               NaN  \n",
       "\n",
       "[5 rows x 29 columns]"
      ]
     },
     "execution_count": 4,
     "metadata": {},
     "output_type": "execute_result"
    }
   ],
   "source": [
    "df.head()"
   ]
  },
  {
   "cell_type": "code",
   "execution_count": 5,
   "id": "8344c7d5",
   "metadata": {},
   "outputs": [
    {
     "name": "stdout",
     "output_type": "stream",
     "text": [
      "<class 'pandas.core.frame.DataFrame'>\n",
      "RangeIndex: 24886 entries, 0 to 24885\n",
      "Data columns (total 29 columns):\n",
      " #   Column                       Non-Null Count  Dtype  \n",
      "---  ------                       --------------  -----  \n",
      " 0   id                           24885 non-null  object \n",
      " 1   host_name                    24765 non-null  object \n",
      " 2   host_since                   24765 non-null  object \n",
      " 3   host_response_time           19664 non-null  object \n",
      " 4   host_response_rate           19664 non-null  object \n",
      " 5   host_acceptance_rate         20072 non-null  object \n",
      " 6   host_is_superhost            24764 non-null  object \n",
      " 7   host_total_listings_count    24764 non-null  float64\n",
      " 8   host_has_profile_pic         24764 non-null  object \n",
      " 9   host_identity_verified       24764 non-null  object \n",
      " 10  neighbourhood_cleansed       24881 non-null  object \n",
      " 11  latitude                     24881 non-null  float64\n",
      " 12  longitude                    24881 non-null  float64\n",
      " 13  property_type                24881 non-null  object \n",
      " 14  room_type                    24881 non-null  object \n",
      " 15  accommodates                 24881 non-null  float64\n",
      " 16  bathrooms_text               24828 non-null  object \n",
      " 17  bedrooms                     23512 non-null  float64\n",
      " 18  beds                         24629 non-null  float64\n",
      " 19  price                        24880 non-null  object \n",
      " 20  review_scores_rating         17213 non-null  float64\n",
      " 21  review_scores_accuracy       16951 non-null  float64\n",
      " 22  review_scores_cleanliness    16951 non-null  float64\n",
      " 23  review_scores_checkin        16951 non-null  float64\n",
      " 24  review_scores_communication  16951 non-null  float64\n",
      " 25  review_scores_location       16950 non-null  float64\n",
      " 26  review_scores_value          16951 non-null  float64\n",
      " 27  instant_bookable             24880 non-null  object \n",
      " 28  reviews_per_month            17213 non-null  float64\n",
      "dtypes: float64(14), object(15)\n",
      "memory usage: 5.5+ MB\n"
     ]
    }
   ],
   "source": [
    "#understanding the dataset columns and redefuining values as well as types based on requirements\n",
    "df.info()"
   ]
  },
  {
   "cell_type": "code",
   "execution_count": 6,
   "id": "e1de181b",
   "metadata": {},
   "outputs": [
    {
     "data": {
      "text/plain": [
       "1 bath               10488\n",
       "2 baths               4937\n",
       "1 shared bath         1890\n",
       "1 private bath        1469\n",
       "3 baths               1418\n",
       "1.5 baths             1327\n",
       "2.5 baths              938\n",
       "2 shared baths         441\n",
       "3.5 baths              365\n",
       "1.5 shared baths       327\n",
       "4 baths                318\n",
       "4.5 baths              151\n",
       "5 baths                113\n",
       "6 baths                 86\n",
       "5.5 baths               84\n",
       "3 shared baths          81\n",
       "2.5 shared baths        63\n",
       "7 baths                 48\n",
       "8 baths                 38\n",
       "6.5 baths               35\n",
       "0 baths                 34\n",
       "0 shared baths          29\n",
       "7.5 baths               24\n",
       "4 shared baths          23\n",
       "5 shared baths          16\n",
       "Shared half-bath        15\n",
       "3.5 shared baths        12\n",
       "Half-bath               11\n",
       "11 baths                 6\n",
       "8.5 baths                5\n",
       "6 shared baths           5\n",
       "10 baths                 4\n",
       "7 shared baths           4\n",
       "6.5 shared baths         3\n",
       "Private half-bath        3\n",
       "11.5 baths               2\n",
       "15 baths                 2\n",
       "9 baths                  2\n",
       "5.5 shared baths         1\n",
       "10.5 baths               1\n",
       "0                        1\n",
       "8.5 shared baths         1\n",
       "4.5 shared baths         1\n",
       "12 baths                 1\n",
       "16 baths                 1\n",
       "20 shared baths          1\n",
       "17 baths                 1\n",
       "20 baths                 1\n",
       "15.5 baths               1\n",
       "Name: bathrooms_text, dtype: int64"
      ]
     },
     "execution_count": 6,
     "metadata": {},
     "output_type": "execute_result"
    }
   ],
   "source": [
    "df['bathrooms_text'].value_counts()"
   ]
  },
  {
   "cell_type": "code",
   "execution_count": 7,
   "id": "29c7450f",
   "metadata": {},
   "outputs": [
    {
     "name": "stdout",
     "output_type": "stream",
     "text": [
      "<class 'pandas.core.frame.DataFrame'>\n",
      "RangeIndex: 24886 entries, 0 to 24885\n",
      "Data columns (total 29 columns):\n",
      " #   Column                       Non-Null Count  Dtype  \n",
      "---  ------                       --------------  -----  \n",
      " 0   id                           24885 non-null  object \n",
      " 1   host_name                    24765 non-null  object \n",
      " 2   host_since                   24765 non-null  object \n",
      " 3   host_response_time           19664 non-null  object \n",
      " 4   host_response_rate           19664 non-null  object \n",
      " 5   host_acceptance_rate         20072 non-null  object \n",
      " 6   host_is_superhost            24764 non-null  object \n",
      " 7   host_total_listings_count    24764 non-null  float64\n",
      " 8   host_has_profile_pic         24764 non-null  object \n",
      " 9   host_identity_verified       24764 non-null  object \n",
      " 10  neighbourhood_cleansed       24881 non-null  object \n",
      " 11  latitude                     24881 non-null  float64\n",
      " 12  longitude                    24881 non-null  float64\n",
      " 13  property_type                24881 non-null  object \n",
      " 14  room_type                    24881 non-null  object \n",
      " 15  accommodates                 24886 non-null  int64  \n",
      " 16  bathrooms_text               24828 non-null  object \n",
      " 17  bedrooms                     24886 non-null  int64  \n",
      " 18  beds                         24886 non-null  int64  \n",
      " 19  price                        24880 non-null  float64\n",
      " 20  review_scores_rating         17213 non-null  float64\n",
      " 21  review_scores_accuracy       16951 non-null  float64\n",
      " 22  review_scores_cleanliness    16951 non-null  float64\n",
      " 23  review_scores_checkin        16951 non-null  float64\n",
      " 24  review_scores_communication  16951 non-null  float64\n",
      " 25  review_scores_location       16950 non-null  float64\n",
      " 26  review_scores_value          16951 non-null  float64\n",
      " 27  instant_bookable             24880 non-null  object \n",
      " 28  reviews_per_month            24886 non-null  float64\n",
      "dtypes: float64(12), int64(3), object(14)\n",
      "memory usage: 5.5+ MB\n"
     ]
    },
    {
     "data": {
      "text/html": [
       "<div>\n",
       "<style scoped>\n",
       "    .dataframe tbody tr th:only-of-type {\n",
       "        vertical-align: middle;\n",
       "    }\n",
       "\n",
       "    .dataframe tbody tr th {\n",
       "        vertical-align: top;\n",
       "    }\n",
       "\n",
       "    .dataframe thead th {\n",
       "        text-align: right;\n",
       "    }\n",
       "</style>\n",
       "<table border=\"1\" class=\"dataframe\">\n",
       "  <thead>\n",
       "    <tr style=\"text-align: right;\">\n",
       "      <th></th>\n",
       "      <th>id</th>\n",
       "      <th>host_name</th>\n",
       "      <th>host_since</th>\n",
       "      <th>host_response_time</th>\n",
       "      <th>host_response_rate</th>\n",
       "      <th>host_acceptance_rate</th>\n",
       "      <th>host_is_superhost</th>\n",
       "      <th>host_total_listings_count</th>\n",
       "      <th>host_has_profile_pic</th>\n",
       "      <th>host_identity_verified</th>\n",
       "      <th>...</th>\n",
       "      <th>price</th>\n",
       "      <th>review_scores_rating</th>\n",
       "      <th>review_scores_accuracy</th>\n",
       "      <th>review_scores_cleanliness</th>\n",
       "      <th>review_scores_checkin</th>\n",
       "      <th>review_scores_communication</th>\n",
       "      <th>review_scores_location</th>\n",
       "      <th>review_scores_value</th>\n",
       "      <th>instant_bookable</th>\n",
       "      <th>reviews_per_month</th>\n",
       "    </tr>\n",
       "  </thead>\n",
       "  <tbody>\n",
       "    <tr>\n",
       "      <th>0</th>\n",
       "      <td>15965441</td>\n",
       "      <td>José</td>\n",
       "      <td>11/14/16</td>\n",
       "      <td>within an hour</td>\n",
       "      <td>83%</td>\n",
       "      <td>0%</td>\n",
       "      <td>f</td>\n",
       "      <td>3.0</td>\n",
       "      <td>t</td>\n",
       "      <td>t</td>\n",
       "      <td>...</td>\n",
       "      <td>150.0</td>\n",
       "      <td>4.678449</td>\n",
       "      <td>4.787037</td>\n",
       "      <td>4.699627</td>\n",
       "      <td>4.874502</td>\n",
       "      <td>4.854086</td>\n",
       "      <td>4.856884</td>\n",
       "      <td>4.666319</td>\n",
       "      <td>f</td>\n",
       "      <td>0.00</td>\n",
       "    </tr>\n",
       "    <tr>\n",
       "      <th>1</th>\n",
       "      <td>47908784</td>\n",
       "      <td>Raquel</td>\n",
       "      <td>7/15/16</td>\n",
       "      <td>within a day</td>\n",
       "      <td>50%</td>\n",
       "      <td>100%</td>\n",
       "      <td>f</td>\n",
       "      <td>1.0</td>\n",
       "      <td>t</td>\n",
       "      <td>f</td>\n",
       "      <td>...</td>\n",
       "      <td>450.0</td>\n",
       "      <td>4.678449</td>\n",
       "      <td>4.787037</td>\n",
       "      <td>4.699627</td>\n",
       "      <td>4.874502</td>\n",
       "      <td>4.854086</td>\n",
       "      <td>4.856884</td>\n",
       "      <td>4.666319</td>\n",
       "      <td>f</td>\n",
       "      <td>0.00</td>\n",
       "    </tr>\n",
       "    <tr>\n",
       "      <th>2</th>\n",
       "      <td>52239613</td>\n",
       "      <td>Fabio</td>\n",
       "      <td>9/13/21</td>\n",
       "      <td>within a day</td>\n",
       "      <td>100%</td>\n",
       "      <td>89%</td>\n",
       "      <td>f</td>\n",
       "      <td>0.0</td>\n",
       "      <td>t</td>\n",
       "      <td>f</td>\n",
       "      <td>...</td>\n",
       "      <td>350.0</td>\n",
       "      <td>5.000000</td>\n",
       "      <td>5.000000</td>\n",
       "      <td>5.000000</td>\n",
       "      <td>4.890000</td>\n",
       "      <td>4.780000</td>\n",
       "      <td>4.780000</td>\n",
       "      <td>4.890000</td>\n",
       "      <td>f</td>\n",
       "      <td>1.16</td>\n",
       "    </tr>\n",
       "    <tr>\n",
       "      <th>3</th>\n",
       "      <td>10445855</td>\n",
       "      <td>Márcio</td>\n",
       "      <td>1/24/12</td>\n",
       "      <td>within an hour</td>\n",
       "      <td>100%</td>\n",
       "      <td>100%</td>\n",
       "      <td>f</td>\n",
       "      <td>2.0</td>\n",
       "      <td>t</td>\n",
       "      <td>t</td>\n",
       "      <td>...</td>\n",
       "      <td>145.0</td>\n",
       "      <td>4.780000</td>\n",
       "      <td>4.910000</td>\n",
       "      <td>4.890000</td>\n",
       "      <td>4.930000</td>\n",
       "      <td>4.870000</td>\n",
       "      <td>4.700000</td>\n",
       "      <td>4.570000</td>\n",
       "      <td>f</td>\n",
       "      <td>0.64</td>\n",
       "    </tr>\n",
       "    <tr>\n",
       "      <th>4</th>\n",
       "      <td>5.65E+17</td>\n",
       "      <td>Júlio</td>\n",
       "      <td>12/07/14</td>\n",
       "      <td>within an hour</td>\n",
       "      <td>100%</td>\n",
       "      <td>67%</td>\n",
       "      <td>f</td>\n",
       "      <td>0.0</td>\n",
       "      <td>t</td>\n",
       "      <td>t</td>\n",
       "      <td>...</td>\n",
       "      <td>180.0</td>\n",
       "      <td>4.678449</td>\n",
       "      <td>4.787037</td>\n",
       "      <td>4.699627</td>\n",
       "      <td>4.874502</td>\n",
       "      <td>4.854086</td>\n",
       "      <td>4.856884</td>\n",
       "      <td>4.666319</td>\n",
       "      <td>f</td>\n",
       "      <td>0.00</td>\n",
       "    </tr>\n",
       "  </tbody>\n",
       "</table>\n",
       "<p>5 rows × 29 columns</p>\n",
       "</div>"
      ],
      "text/plain": [
       "         id host_name host_since host_response_time host_response_rate  \\\n",
       "0  15965441      José   11/14/16     within an hour                83%   \n",
       "1  47908784    Raquel    7/15/16       within a day                50%   \n",
       "2  52239613     Fabio    9/13/21       within a day               100%   \n",
       "3  10445855    Márcio    1/24/12     within an hour               100%   \n",
       "4  5.65E+17     Júlio   12/07/14     within an hour               100%   \n",
       "\n",
       "  host_acceptance_rate host_is_superhost  host_total_listings_count  \\\n",
       "0                   0%                 f                        3.0   \n",
       "1                 100%                 f                        1.0   \n",
       "2                  89%                 f                        0.0   \n",
       "3                 100%                 f                        2.0   \n",
       "4                  67%                 f                        0.0   \n",
       "\n",
       "  host_has_profile_pic host_identity_verified  ...  price  \\\n",
       "0                    t                      t  ...  150.0   \n",
       "1                    t                      f  ...  450.0   \n",
       "2                    t                      f  ...  350.0   \n",
       "3                    t                      t  ...  145.0   \n",
       "4                    t                      t  ...  180.0   \n",
       "\n",
       "   review_scores_rating  review_scores_accuracy review_scores_cleanliness  \\\n",
       "0              4.678449                4.787037                  4.699627   \n",
       "1              4.678449                4.787037                  4.699627   \n",
       "2              5.000000                5.000000                  5.000000   \n",
       "3              4.780000                4.910000                  4.890000   \n",
       "4              4.678449                4.787037                  4.699627   \n",
       "\n",
       "  review_scores_checkin  review_scores_communication review_scores_location  \\\n",
       "0              4.874502                     4.854086               4.856884   \n",
       "1              4.874502                     4.854086               4.856884   \n",
       "2              4.890000                     4.780000               4.780000   \n",
       "3              4.930000                     4.870000               4.700000   \n",
       "4              4.874502                     4.854086               4.856884   \n",
       "\n",
       "   review_scores_value  instant_bookable  reviews_per_month  \n",
       "0             4.666319                 f               0.00  \n",
       "1             4.666319                 f               0.00  \n",
       "2             4.890000                 f               1.16  \n",
       "3             4.570000                 f               0.64  \n",
       "4             4.666319                 f               0.00  \n",
       "\n",
       "[5 rows x 29 columns]"
      ]
     },
     "execution_count": 7,
     "metadata": {},
     "output_type": "execute_result"
    },
    {
     "name": "stdout",
     "output_type": "stream",
     "text": [
      "<class 'pandas.core.frame.DataFrame'>\n",
      "RangeIndex: 24886 entries, 0 to 24885\n",
      "Data columns (total 29 columns):\n",
      " #   Column                       Non-Null Count  Dtype  \n",
      "---  ------                       --------------  -----  \n",
      " 0   id                           24885 non-null  object \n",
      " 1   host_name                    24765 non-null  object \n",
      " 2   host_since                   24765 non-null  object \n",
      " 3   host_response_time           19664 non-null  object \n",
      " 4   host_response_rate           19664 non-null  object \n",
      " 5   host_acceptance_rate         20072 non-null  object \n",
      " 6   host_is_superhost            24764 non-null  object \n",
      " 7   host_total_listings_count    24764 non-null  float64\n",
      " 8   host_has_profile_pic         24764 non-null  object \n",
      " 9   host_identity_verified       24764 non-null  object \n",
      " 10  neighbourhood_cleansed       24881 non-null  object \n",
      " 11  latitude                     24881 non-null  float64\n",
      " 12  longitude                    24881 non-null  float64\n",
      " 13  property_type                24881 non-null  object \n",
      " 14  room_type                    24881 non-null  object \n",
      " 15  accommodates                 24886 non-null  int64  \n",
      " 16  bathrooms_text               24828 non-null  object \n",
      " 17  bedrooms                     24886 non-null  int64  \n",
      " 18  beds                         24886 non-null  int64  \n",
      " 19  price                        24880 non-null  float64\n",
      " 20  review_scores_rating         24886 non-null  float64\n",
      " 21  review_scores_accuracy       24886 non-null  float64\n",
      " 22  review_scores_cleanliness    24886 non-null  float64\n",
      " 23  review_scores_checkin        24886 non-null  float64\n",
      " 24  review_scores_communication  24886 non-null  float64\n",
      " 25  review_scores_location       24886 non-null  float64\n",
      " 26  review_scores_value          24886 non-null  float64\n",
      " 27  instant_bookable             24880 non-null  object \n",
      " 28  reviews_per_month            24886 non-null  float64\n",
      "dtypes: float64(12), int64(3), object(14)\n",
      "memory usage: 5.5+ MB\n"
     ]
    }
   ],
   "source": [
    "#Changing Price to float values\n",
    "df['price']=df['price'].replace('[\\$\\,]', '', regex=True).astype(float)\n",
    "\n",
    "#setting all NaN values to 0 for column - 'reviews_per_month'\n",
    "df.fillna({'reviews_per_month':0, 'accommodates':0,'beds':0,'bedrooms':0 }, inplace=True)\n",
    "\n",
    "df['beds'] =df['beds'].astype(int)\n",
    "df['bedrooms'] =df['bedrooms'].astype(int)\n",
    "df['accommodates'] =df['accommodates'].astype(int)\n",
    "df.info()\n",
    "\n",
    "#replace other numeric columns with mean values / Imputing Mean values for other review columns\n",
    "impute_df = df[['review_scores_rating',\n",
    "       'review_scores_accuracy', 'review_scores_cleanliness',\n",
    "       'review_scores_checkin', 'review_scores_communication',\n",
    "       'review_scores_location', 'review_scores_value']]\n",
    "impute_df = impute_df.fillna(impute_df.mean())\n",
    "df.update(impute_df)\n",
    "\n",
    "#updating \n",
    "df.head()\n",
    "df.info()"
   ]
  },
  {
   "cell_type": "code",
   "execution_count": 8,
   "id": "73c951a6",
   "metadata": {},
   "outputs": [
    {
     "data": {
      "text/plain": [
       "<matplotlib.collections.PathCollection at 0x7ff900554fa0>"
      ]
     },
     "execution_count": 8,
     "metadata": {},
     "output_type": "execute_result"
    },
    {
     "data": {
      "image/png": "[encoded data removed]",
      "text/plain": [
       "<Figure size 432x288 with 1 Axes>"
      ]
     },
     "metadata": {
      "needs_background": "light"
     },
     "output_type": "display_data"
    }
   ],
   "source": [
    "plt.scatter(x=df['accommodates'], y=df['beds'])\n",
    "plt.show()"
   ]
  },
  {
   "cell_type": "code",
   "execution_count": 9,
   "id": "e4d90d1a",
   "metadata": {},
   "outputs": [
    {
     "name": "stdout",
     "output_type": "stream",
     "text": [
      "<class 'pandas.core.frame.DataFrame'>\n",
      "RangeIndex: 24886 entries, 0 to 24885\n",
      "Data columns (total 16 columns):\n",
      " #   Column                       Non-Null Count  Dtype  \n",
      "---  ------                       --------------  -----  \n",
      " 0   property_type                24881 non-null  object \n",
      " 1   room_type                    24881 non-null  object \n",
      " 2   accommodates                 24886 non-null  int64  \n",
      " 3   bathrooms_text               24828 non-null  object \n",
      " 4   bedrooms                     24886 non-null  int64  \n",
      " 5   beds                         24886 non-null  int64  \n",
      " 6   price                        24880 non-null  float64\n",
      " 7   review_scores_rating         24886 non-null  float64\n",
      " 8   review_scores_accuracy       24886 non-null  float64\n",
      " 9   review_scores_cleanliness    24886 non-null  float64\n",
      " 10  review_scores_checkin        24886 non-null  float64\n",
      " 11  review_scores_communication  24886 non-null  float64\n",
      " 12  review_scores_location       24886 non-null  float64\n",
      " 13  review_scores_value          24886 non-null  float64\n",
      " 14  instant_bookable             24880 non-null  object \n",
      " 15  reviews_per_month            24886 non-null  float64\n",
      "dtypes: float64(9), int64(3), object(4)\n",
      "memory usage: 3.0+ MB\n"
     ]
    },
    {
     "data": {
      "text/html": [
       "<div>\n",
       "<style scoped>\n",
       "    .dataframe tbody tr th:only-of-type {\n",
       "        vertical-align: middle;\n",
       "    }\n",
       "\n",
       "    .dataframe tbody tr th {\n",
       "        vertical-align: top;\n",
       "    }\n",
       "\n",
       "    .dataframe thead th {\n",
       "        text-align: right;\n",
       "    }\n",
       "</style>\n",
       "<table border=\"1\" class=\"dataframe\">\n",
       "  <thead>\n",
       "    <tr style=\"text-align: right;\">\n",
       "      <th></th>\n",
       "      <th>property_type</th>\n",
       "      <th>room_type</th>\n",
       "      <th>accommodates</th>\n",
       "      <th>bathrooms_text</th>\n",
       "      <th>bedrooms</th>\n",
       "      <th>beds</th>\n",
       "      <th>price</th>\n",
       "      <th>review_scores_rating</th>\n",
       "      <th>review_scores_accuracy</th>\n",
       "      <th>review_scores_cleanliness</th>\n",
       "      <th>review_scores_checkin</th>\n",
       "      <th>review_scores_communication</th>\n",
       "      <th>review_scores_location</th>\n",
       "      <th>review_scores_value</th>\n",
       "      <th>instant_bookable</th>\n",
       "      <th>reviews_per_month</th>\n",
       "    </tr>\n",
       "  </thead>\n",
       "  <tbody>\n",
       "    <tr>\n",
       "      <th>0</th>\n",
       "      <td>Private room in rental unit</td>\n",
       "      <td>Private room</td>\n",
       "      <td>2</td>\n",
       "      <td>1 bath</td>\n",
       "      <td>1</td>\n",
       "      <td>1</td>\n",
       "      <td>150.0</td>\n",
       "      <td>4.678449</td>\n",
       "      <td>4.787037</td>\n",
       "      <td>4.699627</td>\n",
       "      <td>4.874502</td>\n",
       "      <td>4.854086</td>\n",
       "      <td>4.856884</td>\n",
       "      <td>4.666319</td>\n",
       "      <td>f</td>\n",
       "      <td>0.00</td>\n",
       "    </tr>\n",
       "    <tr>\n",
       "      <th>1</th>\n",
       "      <td>Entire condo</td>\n",
       "      <td>Entire home/apt</td>\n",
       "      <td>4</td>\n",
       "      <td>2 baths</td>\n",
       "      <td>2</td>\n",
       "      <td>2</td>\n",
       "      <td>450.0</td>\n",
       "      <td>4.678449</td>\n",
       "      <td>4.787037</td>\n",
       "      <td>4.699627</td>\n",
       "      <td>4.874502</td>\n",
       "      <td>4.854086</td>\n",
       "      <td>4.856884</td>\n",
       "      <td>4.666319</td>\n",
       "      <td>f</td>\n",
       "      <td>0.00</td>\n",
       "    </tr>\n",
       "    <tr>\n",
       "      <th>2</th>\n",
       "      <td>Entire rental unit</td>\n",
       "      <td>Entire home/apt</td>\n",
       "      <td>5</td>\n",
       "      <td>1 bath</td>\n",
       "      <td>2</td>\n",
       "      <td>5</td>\n",
       "      <td>350.0</td>\n",
       "      <td>5.000000</td>\n",
       "      <td>5.000000</td>\n",
       "      <td>5.000000</td>\n",
       "      <td>4.890000</td>\n",
       "      <td>4.780000</td>\n",
       "      <td>4.780000</td>\n",
       "      <td>4.890000</td>\n",
       "      <td>f</td>\n",
       "      <td>1.16</td>\n",
       "    </tr>\n",
       "    <tr>\n",
       "      <th>3</th>\n",
       "      <td>Entire home</td>\n",
       "      <td>Entire home/apt</td>\n",
       "      <td>3</td>\n",
       "      <td>1 bath</td>\n",
       "      <td>1</td>\n",
       "      <td>2</td>\n",
       "      <td>145.0</td>\n",
       "      <td>4.780000</td>\n",
       "      <td>4.910000</td>\n",
       "      <td>4.890000</td>\n",
       "      <td>4.930000</td>\n",
       "      <td>4.870000</td>\n",
       "      <td>4.700000</td>\n",
       "      <td>4.570000</td>\n",
       "      <td>f</td>\n",
       "      <td>0.64</td>\n",
       "    </tr>\n",
       "    <tr>\n",
       "      <th>4</th>\n",
       "      <td>Private room in bed and breakfast</td>\n",
       "      <td>Private room</td>\n",
       "      <td>4</td>\n",
       "      <td>1.5 baths</td>\n",
       "      <td>2</td>\n",
       "      <td>3</td>\n",
       "      <td>180.0</td>\n",
       "      <td>4.678449</td>\n",
       "      <td>4.787037</td>\n",
       "      <td>4.699627</td>\n",
       "      <td>4.874502</td>\n",
       "      <td>4.854086</td>\n",
       "      <td>4.856884</td>\n",
       "      <td>4.666319</td>\n",
       "      <td>f</td>\n",
       "      <td>0.00</td>\n",
       "    </tr>\n",
       "  </tbody>\n",
       "</table>\n",
       "</div>"
      ],
      "text/plain": [
       "                       property_type        room_type  accommodates  \\\n",
       "0        Private room in rental unit     Private room             2   \n",
       "1                       Entire condo  Entire home/apt             4   \n",
       "2                 Entire rental unit  Entire home/apt             5   \n",
       "3                        Entire home  Entire home/apt             3   \n",
       "4  Private room in bed and breakfast     Private room             4   \n",
       "\n",
       "  bathrooms_text  bedrooms  beds  price  review_scores_rating  \\\n",
       "0         1 bath         1     1  150.0              4.678449   \n",
       "1        2 baths         2     2  450.0              4.678449   \n",
       "2         1 bath         2     5  350.0              5.000000   \n",
       "3         1 bath         1     2  145.0              4.780000   \n",
       "4      1.5 baths         2     3  180.0              4.678449   \n",
       "\n",
       "   review_scores_accuracy  review_scores_cleanliness  review_scores_checkin  \\\n",
       "0                4.787037                   4.699627               4.874502   \n",
       "1                4.787037                   4.699627               4.874502   \n",
       "2                5.000000                   5.000000               4.890000   \n",
       "3                4.910000                   4.890000               4.930000   \n",
       "4                4.787037                   4.699627               4.874502   \n",
       "\n",
       "   review_scores_communication  review_scores_location  review_scores_value  \\\n",
       "0                     4.854086                4.856884             4.666319   \n",
       "1                     4.854086                4.856884             4.666319   \n",
       "2                     4.780000                4.780000             4.890000   \n",
       "3                     4.870000                4.700000             4.570000   \n",
       "4                     4.854086                4.856884             4.666319   \n",
       "\n",
       "  instant_bookable  reviews_per_month  \n",
       "0                f               0.00  \n",
       "1                f               0.00  \n",
       "2                f               1.16  \n",
       "3                f               0.64  \n",
       "4                f               0.00  "
      ]
     },
     "execution_count": 9,
     "metadata": {},
     "output_type": "execute_result"
    }
   ],
   "source": [
    "#removing unwanted columns for problem statement 1 : Larger properties should receive more review as per accomodation\n",
    "#columns defining larger property are filtered\n",
    "df1 = df[['property_type', 'room_type', 'accommodates',\n",
    "       'bathrooms_text', 'bedrooms', 'beds', 'price','review_scores_rating',\n",
    "       'review_scores_accuracy', 'review_scores_cleanliness',\n",
    "       'review_scores_checkin', 'review_scores_communication',\n",
    "       'review_scores_location', 'review_scores_value','instant_bookable',\n",
    "       'reviews_per_month']]\n",
    "df1.info()\n",
    "df1.head()"
   ]
  },
  {
   "cell_type": "code",
   "execution_count": 10,
   "id": "7e5be859",
   "metadata": {},
   "outputs": [
    {
     "data": {
      "text/plain": [
       "Entire home/apt    19134\n",
       "Private room        5230\n",
       "Shared room          450\n",
       "Hotel room            67\n",
       "nan                    5\n",
       "Name: room_type, dtype: int64"
      ]
     },
     "execution_count": 10,
     "metadata": {},
     "output_type": "execute_result"
    },
    {
     "data": {
      "text/plain": [
       "Entire rental unit             14315\n",
       "Private room in rental unit     3043\n",
       "Entire condo                    1707\n",
       "Entire home                     1139\n",
       "Private room in home             974\n",
       "                               ...  \n",
       "364                                1\n",
       "Shared room in nature lodge        1\n",
       "Yurt                               1\n",
       "Shared room in cottage             1\n",
       "Room in nature lodge               1\n",
       "Name: property_type, Length: 84, dtype: int64"
      ]
     },
     "execution_count": 10,
     "metadata": {},
     "output_type": "execute_result"
    },
    {
     "data": {
      "text/plain": [
       "4     6948\n",
       "2     6361\n",
       "6     3090\n",
       "3     2720\n",
       "5     1942\n",
       "1     1157\n",
       "8      924\n",
       "7      535\n",
       "10     465\n",
       "12     195\n",
       "16     182\n",
       "9      158\n",
       "14      69\n",
       "15      54\n",
       "13      37\n",
       "11      36\n",
       "0       13\n",
       "Name: accommodates, dtype: int64"
      ]
     },
     "execution_count": 10,
     "metadata": {},
     "output_type": "execute_result"
    },
    {
     "data": {
      "text/plain": [
       "property_type                    85\n",
       "room_type                         5\n",
       "accommodates                     17\n",
       "bathrooms_text                   50\n",
       "bedrooms                         19\n",
       "beds                             41\n",
       "price                          1664\n",
       "review_scores_rating            136\n",
       "review_scores_accuracy          127\n",
       "review_scores_cleanliness       164\n",
       "review_scores_checkin           116\n",
       "review_scores_communication     125\n",
       "review_scores_location          122\n",
       "review_scores_value             142\n",
       "instant_bookable                  3\n",
       "reviews_per_month               569\n",
       "dtype: int64"
      ]
     },
     "execution_count": 10,
     "metadata": {},
     "output_type": "execute_result"
    },
    {
     "data": {
      "text/html": [
       "<div>\n",
       "<style scoped>\n",
       "    .dataframe tbody tr th:only-of-type {\n",
       "        vertical-align: middle;\n",
       "    }\n",
       "\n",
       "    .dataframe tbody tr th {\n",
       "        vertical-align: top;\n",
       "    }\n",
       "\n",
       "    .dataframe thead th {\n",
       "        text-align: right;\n",
       "    }\n",
       "</style>\n",
       "<table border=\"1\" class=\"dataframe\">\n",
       "  <thead>\n",
       "    <tr style=\"text-align: right;\">\n",
       "      <th></th>\n",
       "      <th>property_type</th>\n",
       "      <th>accommodates</th>\n",
       "      <th>bathrooms_text</th>\n",
       "      <th>bedrooms</th>\n",
       "      <th>beds</th>\n",
       "      <th>price</th>\n",
       "      <th>review_scores_rating</th>\n",
       "      <th>review_scores_accuracy</th>\n",
       "      <th>review_scores_cleanliness</th>\n",
       "      <th>review_scores_checkin</th>\n",
       "      <th>review_scores_communication</th>\n",
       "      <th>review_scores_location</th>\n",
       "      <th>review_scores_value</th>\n",
       "      <th>instant_bookable</th>\n",
       "      <th>reviews_per_month</th>\n",
       "      <th>room_type_Entire home/apt</th>\n",
       "      <th>room_type_Hotel room</th>\n",
       "      <th>room_type_Private room</th>\n",
       "      <th>room_type_Shared room</th>\n",
       "      <th>room_type_nan</th>\n",
       "    </tr>\n",
       "  </thead>\n",
       "  <tbody>\n",
       "    <tr>\n",
       "      <th>0</th>\n",
       "      <td>Private room in rental unit</td>\n",
       "      <td>2</td>\n",
       "      <td>1 bath</td>\n",
       "      <td>1</td>\n",
       "      <td>1</td>\n",
       "      <td>150.0</td>\n",
       "      <td>4.678449</td>\n",
       "      <td>4.787037</td>\n",
       "      <td>4.699627</td>\n",
       "      <td>4.874502</td>\n",
       "      <td>4.854086</td>\n",
       "      <td>4.856884</td>\n",
       "      <td>4.666319</td>\n",
       "      <td>f</td>\n",
       "      <td>0.00</td>\n",
       "      <td>0</td>\n",
       "      <td>0</td>\n",
       "      <td>1</td>\n",
       "      <td>0</td>\n",
       "      <td>0</td>\n",
       "    </tr>\n",
       "    <tr>\n",
       "      <th>1</th>\n",
       "      <td>Entire condo</td>\n",
       "      <td>4</td>\n",
       "      <td>2 baths</td>\n",
       "      <td>2</td>\n",
       "      <td>2</td>\n",
       "      <td>450.0</td>\n",
       "      <td>4.678449</td>\n",
       "      <td>4.787037</td>\n",
       "      <td>4.699627</td>\n",
       "      <td>4.874502</td>\n",
       "      <td>4.854086</td>\n",
       "      <td>4.856884</td>\n",
       "      <td>4.666319</td>\n",
       "      <td>f</td>\n",
       "      <td>0.00</td>\n",
       "      <td>1</td>\n",
       "      <td>0</td>\n",
       "      <td>0</td>\n",
       "      <td>0</td>\n",
       "      <td>0</td>\n",
       "    </tr>\n",
       "    <tr>\n",
       "      <th>2</th>\n",
       "      <td>Entire rental unit</td>\n",
       "      <td>5</td>\n",
       "      <td>1 bath</td>\n",
       "      <td>2</td>\n",
       "      <td>5</td>\n",
       "      <td>350.0</td>\n",
       "      <td>5.000000</td>\n",
       "      <td>5.000000</td>\n",
       "      <td>5.000000</td>\n",
       "      <td>4.890000</td>\n",
       "      <td>4.780000</td>\n",
       "      <td>4.780000</td>\n",
       "      <td>4.890000</td>\n",
       "      <td>f</td>\n",
       "      <td>1.16</td>\n",
       "      <td>1</td>\n",
       "      <td>0</td>\n",
       "      <td>0</td>\n",
       "      <td>0</td>\n",
       "      <td>0</td>\n",
       "    </tr>\n",
       "    <tr>\n",
       "      <th>3</th>\n",
       "      <td>Entire home</td>\n",
       "      <td>3</td>\n",
       "      <td>1 bath</td>\n",
       "      <td>1</td>\n",
       "      <td>2</td>\n",
       "      <td>145.0</td>\n",
       "      <td>4.780000</td>\n",
       "      <td>4.910000</td>\n",
       "      <td>4.890000</td>\n",
       "      <td>4.930000</td>\n",
       "      <td>4.870000</td>\n",
       "      <td>4.700000</td>\n",
       "      <td>4.570000</td>\n",
       "      <td>f</td>\n",
       "      <td>0.64</td>\n",
       "      <td>1</td>\n",
       "      <td>0</td>\n",
       "      <td>0</td>\n",
       "      <td>0</td>\n",
       "      <td>0</td>\n",
       "    </tr>\n",
       "    <tr>\n",
       "      <th>4</th>\n",
       "      <td>Private room in bed and breakfast</td>\n",
       "      <td>4</td>\n",
       "      <td>1.5 baths</td>\n",
       "      <td>2</td>\n",
       "      <td>3</td>\n",
       "      <td>180.0</td>\n",
       "      <td>4.678449</td>\n",
       "      <td>4.787037</td>\n",
       "      <td>4.699627</td>\n",
       "      <td>4.874502</td>\n",
       "      <td>4.854086</td>\n",
       "      <td>4.856884</td>\n",
       "      <td>4.666319</td>\n",
       "      <td>f</td>\n",
       "      <td>0.00</td>\n",
       "      <td>0</td>\n",
       "      <td>0</td>\n",
       "      <td>1</td>\n",
       "      <td>0</td>\n",
       "      <td>0</td>\n",
       "    </tr>\n",
       "  </tbody>\n",
       "</table>\n",
       "</div>"
      ],
      "text/plain": [
       "                       property_type  accommodates bathrooms_text  bedrooms  \\\n",
       "0        Private room in rental unit             2         1 bath         1   \n",
       "1                       Entire condo             4        2 baths         2   \n",
       "2                 Entire rental unit             5         1 bath         2   \n",
       "3                        Entire home             3         1 bath         1   \n",
       "4  Private room in bed and breakfast             4      1.5 baths         2   \n",
       "\n",
       "   beds  price  review_scores_rating  review_scores_accuracy  \\\n",
       "0     1  150.0              4.678449                4.787037   \n",
       "1     2  450.0              4.678449                4.787037   \n",
       "2     5  350.0              5.000000                5.000000   \n",
       "3     2  145.0              4.780000                4.910000   \n",
       "4     3  180.0              4.678449                4.787037   \n",
       "\n",
       "   review_scores_cleanliness  review_scores_checkin  \\\n",
       "0                   4.699627               4.874502   \n",
       "1                   4.699627               4.874502   \n",
       "2                   5.000000               4.890000   \n",
       "3                   4.890000               4.930000   \n",
       "4                   4.699627               4.874502   \n",
       "\n",
       "   review_scores_communication  review_scores_location  review_scores_value  \\\n",
       "0                     4.854086                4.856884             4.666319   \n",
       "1                     4.854086                4.856884             4.666319   \n",
       "2                     4.780000                4.780000             4.890000   \n",
       "3                     4.870000                4.700000             4.570000   \n",
       "4                     4.854086                4.856884             4.666319   \n",
       "\n",
       "  instant_bookable  reviews_per_month  room_type_Entire home/apt  \\\n",
       "0                f               0.00                          0   \n",
       "1                f               0.00                          1   \n",
       "2                f               1.16                          1   \n",
       "3                f               0.64                          1   \n",
       "4                f               0.00                          0   \n",
       "\n",
       "   room_type_Hotel room  room_type_Private room  room_type_Shared room  \\\n",
       "0                     0                       1                      0   \n",
       "1                     0                       0                      0   \n",
       "2                     0                       0                      0   \n",
       "3                     0                       0                      0   \n",
       "4                     0                       1                      0   \n",
       "\n",
       "   room_type_nan  \n",
       "0              0  \n",
       "1              0  \n",
       "2              0  \n",
       "3              0  \n",
       "4              0  "
      ]
     },
     "execution_count": 10,
     "metadata": {},
     "output_type": "execute_result"
    },
    {
     "name": "stdout",
     "output_type": "stream",
     "text": [
      "<class 'pandas.core.frame.DataFrame'>\n",
      "RangeIndex: 24886 entries, 0 to 24885\n",
      "Data columns (total 16 columns):\n",
      " #   Column                       Non-Null Count  Dtype  \n",
      "---  ------                       --------------  -----  \n",
      " 0   property_type                24881 non-null  object \n",
      " 1   room_type                    24886 non-null  object \n",
      " 2   accommodates                 24886 non-null  int64  \n",
      " 3   bathrooms_text               24828 non-null  object \n",
      " 4   bedrooms                     24886 non-null  int64  \n",
      " 5   beds                         24886 non-null  int64  \n",
      " 6   price                        24880 non-null  float64\n",
      " 7   review_scores_rating         24886 non-null  float64\n",
      " 8   review_scores_accuracy       24886 non-null  float64\n",
      " 9   review_scores_cleanliness    24886 non-null  float64\n",
      " 10  review_scores_checkin        24886 non-null  float64\n",
      " 11  review_scores_communication  24886 non-null  float64\n",
      " 12  review_scores_location       24886 non-null  float64\n",
      " 13  review_scores_value          24886 non-null  float64\n",
      " 14  instant_bookable             24880 non-null  object \n",
      " 15  reviews_per_month            24886 non-null  float64\n",
      "dtypes: float64(9), int64(3), object(4)\n",
      "memory usage: 3.0+ MB\n",
      "<class 'pandas.core.frame.DataFrame'>\n",
      "RangeIndex: 24886 entries, 0 to 24885\n",
      "Data columns (total 20 columns):\n",
      " #   Column                       Non-Null Count  Dtype  \n",
      "---  ------                       --------------  -----  \n",
      " 0   property_type                24881 non-null  object \n",
      " 1   accommodates                 24886 non-null  int64  \n",
      " 2   bathrooms_text               24828 non-null  object \n",
      " 3   bedrooms                     24886 non-null  int64  \n",
      " 4   beds                         24886 non-null  int64  \n",
      " 5   price                        24880 non-null  float64\n",
      " 6   review_scores_rating         24886 non-null  float64\n",
      " 7   review_scores_accuracy       24886 non-null  float64\n",
      " 8   review_scores_cleanliness    24886 non-null  float64\n",
      " 9   review_scores_checkin        24886 non-null  float64\n",
      " 10  review_scores_communication  24886 non-null  float64\n",
      " 11  review_scores_location       24886 non-null  float64\n",
      " 12  review_scores_value          24886 non-null  float64\n",
      " 13  instant_bookable             24880 non-null  object \n",
      " 14  reviews_per_month            24886 non-null  float64\n",
      " 15  room_type_Entire home/apt    24886 non-null  uint8  \n",
      " 16  room_type_Hotel room         24886 non-null  uint8  \n",
      " 17  room_type_Private room       24886 non-null  uint8  \n",
      " 18  room_type_Shared room        24886 non-null  uint8  \n",
      " 19  room_type_nan                24886 non-null  uint8  \n",
      "dtypes: float64(9), int64(3), object(3), uint8(5)\n",
      "memory usage: 3.0+ MB\n"
     ]
    }
   ],
   "source": [
    "#Categorical columns - \"property_type\" \"room_type\" \"bathrooms_text\" changing to One Hot encoding + get_dummies for these \n",
    "df1 = df1.replace(to_replace = {\"6/21/22\", 'nan'}, value =\"Entire home/apt\")\n",
    "df1['room_type'] =df1['room_type'].astype(str)\n",
    "df1['room_type'].value_counts() \n",
    "df1['property_type'].value_counts()\n",
    "df1['accommodates'].value_counts()\n",
    "\n",
    "df1.apply(lambda col: len(col.unique()))\n",
    "col = [\"room_type\"] \n",
    "df_room_type = pd.get_dummies(df1, columns = col, drop_first=False)\n",
    "\n",
    "col=[\"property_type\"]\n",
    "df_property_type = pd.get_dummies(df1, columns = col, drop_first=False)\n",
    "\n",
    "\n",
    "df_room_type.head()\n",
    "df1.info()\n",
    "df_room_type.info()"
   ]
  },
  {
   "cell_type": "code",
   "execution_count": 11,
   "id": "d72d3a1f",
   "metadata": {
    "scrolled": true
   },
   "outputs": [
    {
     "data": {
      "text/plain": [
       "array([[<AxesSubplot:title={'center':'accommodates'}>,\n",
       "        <AxesSubplot:title={'center':'bedrooms'}>,\n",
       "        <AxesSubplot:title={'center':'beds'}>,\n",
       "        <AxesSubplot:title={'center':'price'}>],\n",
       "       [<AxesSubplot:title={'center':'review_scores_rating'}>,\n",
       "        <AxesSubplot:title={'center':'review_scores_accuracy'}>,\n",
       "        <AxesSubplot:title={'center':'review_scores_cleanliness'}>,\n",
       "        <AxesSubplot:title={'center':'review_scores_checkin'}>],\n",
       "       [<AxesSubplot:title={'center':'review_scores_communication'}>,\n",
       "        <AxesSubplot:title={'center':'review_scores_location'}>,\n",
       "        <AxesSubplot:title={'center':'review_scores_value'}>,\n",
       "        <AxesSubplot:title={'center':'reviews_per_month'}>],\n",
       "       [<AxesSubplot:title={'center':'room_type_Entire home/apt'}>,\n",
       "        <AxesSubplot:title={'center':'room_type_Hotel room'}>,\n",
       "        <AxesSubplot:title={'center':'room_type_Private room'}>,\n",
       "        <AxesSubplot:title={'center':'room_type_Shared room'}>],\n",
       "       [<AxesSubplot:title={'center':'room_type_nan'}>, <AxesSubplot:>,\n",
       "        <AxesSubplot:>, <AxesSubplot:>]], dtype=object)"
      ]
     },
     "execution_count": 11,
     "metadata": {},
     "output_type": "execute_result"
    },
    {
     "data": {
      "image/png": "[encoded data removed]",
      "text/plain": [
       "<Figure size 1080x1080 with 20 Axes>"
      ]
     },
     "metadata": {
      "needs_background": "light"
     },
     "output_type": "display_data"
    }
   ],
   "source": [
    "#converting property_type and room_type to specific encoding and then get dummies to add for correlation \n",
    "#\"property_type\" \"room_type\" \"bathroom_text\" \n",
    "df_room_type.hist(bins=20, figsize=(15,15))\n",
    "plt.show()"
   ]
  },
  {
   "cell_type": "code",
   "execution_count": 12,
   "id": "6fa8a5c3",
   "metadata": {
    "scrolled": true
   },
   "outputs": [
    {
     "data": {
      "text/plain": [
       "<AxesSubplot:title={'center':'Roomtype vs accomodation capacity'}, xlabel='Room types', ylabel='Accomodations'>"
      ]
     },
     "execution_count": 12,
     "metadata": {},
     "output_type": "execute_result"
    },
    {
     "data": {
      "image/png": "[encoded data removed]",
      "text/plain": [
       "<Figure size 432x360 with 1 Axes>"
      ]
     },
     "metadata": {
      "needs_background": "light"
     },
     "output_type": "display_data"
    }
   ],
   "source": [
    "g = df1.groupby(['room_type'])['accommodates'].mean()\n",
    "g.plot(kind='bar', title='Roomtype vs accomodation capacity', ylabel='Accomodations',\n",
    "         xlabel='Room types', figsize=(6, 5))"
   ]
  },
  {
   "cell_type": "code",
   "execution_count": 13,
   "id": "5ee074c1",
   "metadata": {},
   "outputs": [
    {
     "data": {
      "text/plain": [
       "<AxesSubplot:title={'center':'Room type vs Reviews per month'}, xlabel='Room types', ylabel='Reviews per momth'>"
      ]
     },
     "execution_count": 13,
     "metadata": {},
     "output_type": "execute_result"
    },
    {
     "data": {
      "image/png": "[encoded data removed]",
      "text/plain": [
       "<Figure size 432x360 with 1 Axes>"
      ]
     },
     "metadata": {
      "needs_background": "light"
     },
     "output_type": "display_data"
    }
   ],
   "source": [
    "g = df1.groupby(['room_type'])['reviews_per_month'].mean()\n",
    "g.plot(kind='bar', title='Room type vs Reviews per month', ylabel='Reviews per momth',\n",
    "         xlabel='Room types', figsize=(6, 5))"
   ]
  },
  {
   "cell_type": "code",
   "execution_count": 14,
   "id": "0bcc9e44",
   "metadata": {},
   "outputs": [
    {
     "data": {
      "text/plain": [
       "<AxesSubplot:title={'center':'Property accomodation'}, xlabel='Room Types', ylabel='Prices'>"
      ]
     },
     "execution_count": 14,
     "metadata": {},
     "output_type": "execute_result"
    },
    {
     "data": {
      "image/png": "[encoded data removed]",
      "text/plain": [
       "<Figure size 432x360 with 1 Axes>"
      ]
     },
     "metadata": {
      "needs_background": "light"
     },
     "output_type": "display_data"
    }
   ],
   "source": [
    "g = df1.groupby(['room_type'])['price'].mean()\n",
    "g.plot(kind='bar', title='Property accomodation', ylabel='Prices',\n",
    "         xlabel='Room Types', figsize=(6, 5))"
   ]
  },
  {
   "cell_type": "code",
   "execution_count": 15,
   "id": "86d39776",
   "metadata": {},
   "outputs": [
    {
     "data": {
      "text/plain": [
       "<AxesSubplot:>"
      ]
     },
     "execution_count": 15,
     "metadata": {},
     "output_type": "execute_result"
    },
    {
     "data": {
      "image/png": "[encoded data removed]",
      "text/plain": [
       "<Figure size 432x288 with 2 Axes>"
      ]
     },
     "metadata": {
      "needs_background": "light"
     },
     "output_type": "display_data"
    }
   ],
   "source": [
    "corr = df_room_type[['room_type_Entire home/apt','room_type_Hotel room','room_type_Private room','room_type_Shared room','accommodates','reviews_per_month']].corr()\n",
    "sns.heatmap(corr, annot=True)\n",
    "plt.show()"
   ]
  },
  {
   "cell_type": "code",
   "execution_count": 16,
   "id": "d0a10de2",
   "metadata": {},
   "outputs": [
    {
     "data": {
      "text/plain": [
       "<AxesSubplot:title={'center':'Property accomodation'}, xlabel='Property types', ylabel='Accomodations'>"
      ]
     },
     "execution_count": 16,
     "metadata": {},
     "output_type": "execute_result"
    },
    {
     "data": {
      "image/png": "[encoded data removed]",
      "text/plain": [
       "<Figure size 432x360 with 1 Axes>"
      ]
     },
     "metadata": {
      "needs_background": "light"
     },
     "output_type": "display_data"
    }
   ],
   "source": [
    "g = df1.groupby(['property_type'])['price'].mean()\n",
    "g.plot(kind='bar', title='Property accomodation', ylabel='Accomodations',\n",
    "         xlabel='Property types', figsize=(6, 5))"
   ]
  },
  {
   "cell_type": "code",
   "execution_count": 17,
   "id": "bcde9a04",
   "metadata": {},
   "outputs": [
    {
     "data": {
      "text/plain": [
       "<AxesSubplot:xlabel='accommodates', ylabel='price'>"
      ]
     },
     "execution_count": 17,
     "metadata": {},
     "output_type": "execute_result"
    },
    {
     "data": {
      "image/png": "[encoded data removed]",
      "text/plain": [
       "<Figure size 432x288 with 1 Axes>"
      ]
     },
     "metadata": {
      "needs_background": "light"
     },
     "output_type": "display_data"
    }
   ],
   "source": [
    "sns.scatterplot(x=df1.accommodates, y=df1.price, hue=df1.instant_bookable,s=70)"
   ]
  },
  {
   "cell_type": "markdown",
   "id": "16334b1c",
   "metadata": {},
   "source": [
    "# corr_matrix =df1.corr()\n",
    "import seaborn as sn\n",
    "import matplotlib.pyplot as plt\n",
    "sn.heatmap(corr_matrix, annot=True)\n",
    "plt.show()\n",
    "#df1['property_type'].value_counts()\n",
    "\n",
    "\n",
    "#df1.plot(x='property_type', y = 'accommodates', kind='scatter')\n",
    "#df.groupby(['property_type']).size().unstack(fill_value=0‌​).plot.bar()\n",
    "#pd.crosstab(df['property_type'],df['accommodates']).plot.bar()\n",
    "#plt.show()"
   ]
  },
  {
   "cell_type": "code",
   "execution_count": 18,
   "id": "fecbeadc",
   "metadata": {},
   "outputs": [
    {
     "name": "stdout",
     "output_type": "stream",
     "text": [
      "<class 'pandas.core.frame.DataFrame'>\n",
      "RangeIndex: 24886 entries, 0 to 24885\n",
      "Data columns (total 16 columns):\n",
      " #   Column                       Non-Null Count  Dtype  \n",
      "---  ------                       --------------  -----  \n",
      " 0   property_type                24881 non-null  object \n",
      " 1   room_type                    24886 non-null  object \n",
      " 2   accommodates                 24886 non-null  int64  \n",
      " 3   bathrooms_text               24828 non-null  object \n",
      " 4   bedrooms                     24886 non-null  int64  \n",
      " 5   beds                         24886 non-null  int64  \n",
      " 6   price                        24880 non-null  float64\n",
      " 7   review_scores_rating         24886 non-null  float64\n",
      " 8   review_scores_accuracy       24886 non-null  float64\n",
      " 9   review_scores_cleanliness    24886 non-null  float64\n",
      " 10  review_scores_checkin        24886 non-null  float64\n",
      " 11  review_scores_communication  24886 non-null  float64\n",
      " 12  review_scores_location       24886 non-null  float64\n",
      " 13  review_scores_value          24886 non-null  float64\n",
      " 14  instant_bookable             24880 non-null  object \n",
      " 15  reviews_per_month            24886 non-null  float64\n",
      "dtypes: float64(9), int64(3), object(4)\n",
      "memory usage: 3.0+ MB\n"
     ]
    },
    {
     "data": {
      "text/plain": [
       "<AxesSubplot:ylabel='Frequency'>"
      ]
     },
     "execution_count": 18,
     "metadata": {},
     "output_type": "execute_result"
    },
    {
     "data": {
      "image/png": "[encoded data removed]",
      "text/plain": [
       "<Figure size 432x288 with 1 Axes>"
      ]
     },
     "metadata": {
      "needs_background": "light"
     },
     "output_type": "display_data"
    }
   ],
   "source": [
    "#df1.plot(x='accommodates', y =['property_type', 'room_type'], kind='scatter')\n",
    "df1.info()\n",
    "#df1['accommodates']= df1['accommodates'].astype(int)\n",
    "\n",
    "df1.plot(x='room_type', y='accommodates', kind='hist')\n",
    "plt.show()"
   ]
  },
  {
   "cell_type": "code",
   "execution_count": 19,
   "id": "751b94bd",
   "metadata": {},
   "outputs": [
    {
     "data": {
      "text/plain": [
       "<AxesSubplot:xlabel='beds', ylabel='reviews_per_month'>"
      ]
     },
     "execution_count": 19,
     "metadata": {},
     "output_type": "execute_result"
    },
    {
     "data": {
      "image/png": "[encoded data removed]",
      "text/plain": [
       "<Figure size 432x288 with 1 Axes>"
      ]
     },
     "metadata": {
      "needs_background": "light"
     },
     "output_type": "display_data"
    }
   ],
   "source": [
    "df1.plot(x='beds', y = 'reviews_per_month', kind='scatter')\n",
    "plt.show()"
   ]
  },
  {
   "cell_type": "code",
   "execution_count": 20,
   "id": "0d0a58c6",
   "metadata": {},
   "outputs": [
    {
     "data": {
      "text/plain": [
       "<AxesSubplot:xlabel='bedrooms', ylabel='reviews_per_month'>"
      ]
     },
     "execution_count": 20,
     "metadata": {},
     "output_type": "execute_result"
    },
    {
     "data": {
      "image/png": "[encoded data removed]",
      "text/plain": [
       "<Figure size 432x288 with 1 Axes>"
      ]
     },
     "metadata": {
      "needs_background": "light"
     },
     "output_type": "display_data"
    }
   ],
   "source": [
    "df1.plot(x='bedrooms', y = 'reviews_per_month', kind='scatter', legend=True)\n",
    "plt.show()"
   ]
  },
  {
   "cell_type": "code",
   "execution_count": 21,
   "id": "fe6b319f",
   "metadata": {},
   "outputs": [
    {
     "data": {
      "text/plain": [
       "<AxesSubplot:ylabel='Frequency'>"
      ]
     },
     "execution_count": 21,
     "metadata": {},
     "output_type": "execute_result"
    },
    {
     "data": {
      "image/png": "[encoded data removed]",
      "text/plain": [
       "<Figure size 432x288 with 1 Axes>"
      ]
     },
     "metadata": {
      "needs_background": "light"
     },
     "output_type": "display_data"
    },
    {
     "data": {
      "text/html": [
       "<div>\n",
       "<style scoped>\n",
       "    .dataframe tbody tr th:only-of-type {\n",
       "        vertical-align: middle;\n",
       "    }\n",
       "\n",
       "    .dataframe tbody tr th {\n",
       "        vertical-align: top;\n",
       "    }\n",
       "\n",
       "    .dataframe thead th {\n",
       "        text-align: right;\n",
       "    }\n",
       "</style>\n",
       "<table border=\"1\" class=\"dataframe\">\n",
       "  <thead>\n",
       "    <tr style=\"text-align: right;\">\n",
       "      <th></th>\n",
       "      <th>id</th>\n",
       "      <th>host_name</th>\n",
       "      <th>host_since</th>\n",
       "      <th>host_response_time</th>\n",
       "      <th>host_response_rate</th>\n",
       "      <th>host_acceptance_rate</th>\n",
       "      <th>host_is_superhost</th>\n",
       "      <th>host_total_listings_count</th>\n",
       "      <th>host_has_profile_pic</th>\n",
       "      <th>host_identity_verified</th>\n",
       "      <th>...</th>\n",
       "      <th>price</th>\n",
       "      <th>review_scores_rating</th>\n",
       "      <th>review_scores_accuracy</th>\n",
       "      <th>review_scores_cleanliness</th>\n",
       "      <th>review_scores_checkin</th>\n",
       "      <th>review_scores_communication</th>\n",
       "      <th>review_scores_location</th>\n",
       "      <th>review_scores_value</th>\n",
       "      <th>instant_bookable</th>\n",
       "      <th>reviews_per_month</th>\n",
       "    </tr>\n",
       "  </thead>\n",
       "  <tbody>\n",
       "    <tr>\n",
       "      <th>0</th>\n",
       "      <td>15965441</td>\n",
       "      <td>José</td>\n",
       "      <td>11/14/16</td>\n",
       "      <td>within an hour</td>\n",
       "      <td>83%</td>\n",
       "      <td>0%</td>\n",
       "      <td>f</td>\n",
       "      <td>3.0</td>\n",
       "      <td>t</td>\n",
       "      <td>t</td>\n",
       "      <td>...</td>\n",
       "      <td>150.0</td>\n",
       "      <td>4.678449</td>\n",
       "      <td>4.787037</td>\n",
       "      <td>4.699627</td>\n",
       "      <td>4.874502</td>\n",
       "      <td>4.854086</td>\n",
       "      <td>4.856884</td>\n",
       "      <td>4.666319</td>\n",
       "      <td>f</td>\n",
       "      <td>0.00</td>\n",
       "    </tr>\n",
       "    <tr>\n",
       "      <th>1</th>\n",
       "      <td>47908784</td>\n",
       "      <td>Raquel</td>\n",
       "      <td>7/15/16</td>\n",
       "      <td>within a day</td>\n",
       "      <td>50%</td>\n",
       "      <td>100%</td>\n",
       "      <td>f</td>\n",
       "      <td>1.0</td>\n",
       "      <td>t</td>\n",
       "      <td>f</td>\n",
       "      <td>...</td>\n",
       "      <td>450.0</td>\n",
       "      <td>4.678449</td>\n",
       "      <td>4.787037</td>\n",
       "      <td>4.699627</td>\n",
       "      <td>4.874502</td>\n",
       "      <td>4.854086</td>\n",
       "      <td>4.856884</td>\n",
       "      <td>4.666319</td>\n",
       "      <td>f</td>\n",
       "      <td>0.00</td>\n",
       "    </tr>\n",
       "    <tr>\n",
       "      <th>2</th>\n",
       "      <td>52239613</td>\n",
       "      <td>Fabio</td>\n",
       "      <td>9/13/21</td>\n",
       "      <td>within a day</td>\n",
       "      <td>100%</td>\n",
       "      <td>89%</td>\n",
       "      <td>f</td>\n",
       "      <td>0.0</td>\n",
       "      <td>t</td>\n",
       "      <td>f</td>\n",
       "      <td>...</td>\n",
       "      <td>350.0</td>\n",
       "      <td>5.000000</td>\n",
       "      <td>5.000000</td>\n",
       "      <td>5.000000</td>\n",
       "      <td>4.890000</td>\n",
       "      <td>4.780000</td>\n",
       "      <td>4.780000</td>\n",
       "      <td>4.890000</td>\n",
       "      <td>f</td>\n",
       "      <td>1.16</td>\n",
       "    </tr>\n",
       "    <tr>\n",
       "      <th>3</th>\n",
       "      <td>10445855</td>\n",
       "      <td>Márcio</td>\n",
       "      <td>1/24/12</td>\n",
       "      <td>within an hour</td>\n",
       "      <td>100%</td>\n",
       "      <td>100%</td>\n",
       "      <td>f</td>\n",
       "      <td>2.0</td>\n",
       "      <td>t</td>\n",
       "      <td>t</td>\n",
       "      <td>...</td>\n",
       "      <td>145.0</td>\n",
       "      <td>4.780000</td>\n",
       "      <td>4.910000</td>\n",
       "      <td>4.890000</td>\n",
       "      <td>4.930000</td>\n",
       "      <td>4.870000</td>\n",
       "      <td>4.700000</td>\n",
       "      <td>4.570000</td>\n",
       "      <td>f</td>\n",
       "      <td>0.64</td>\n",
       "    </tr>\n",
       "    <tr>\n",
       "      <th>4</th>\n",
       "      <td>5.65E+17</td>\n",
       "      <td>Júlio</td>\n",
       "      <td>12/07/14</td>\n",
       "      <td>within an hour</td>\n",
       "      <td>100%</td>\n",
       "      <td>67%</td>\n",
       "      <td>f</td>\n",
       "      <td>0.0</td>\n",
       "      <td>t</td>\n",
       "      <td>t</td>\n",
       "      <td>...</td>\n",
       "      <td>180.0</td>\n",
       "      <td>4.678449</td>\n",
       "      <td>4.787037</td>\n",
       "      <td>4.699627</td>\n",
       "      <td>4.874502</td>\n",
       "      <td>4.854086</td>\n",
       "      <td>4.856884</td>\n",
       "      <td>4.666319</td>\n",
       "      <td>f</td>\n",
       "      <td>0.00</td>\n",
       "    </tr>\n",
       "  </tbody>\n",
       "</table>\n",
       "<p>5 rows × 29 columns</p>\n",
       "</div>"
      ],
      "text/plain": [
       "         id host_name host_since host_response_time host_response_rate  \\\n",
       "0  15965441      José   11/14/16     within an hour                83%   \n",
       "1  47908784    Raquel    7/15/16       within a day                50%   \n",
       "2  52239613     Fabio    9/13/21       within a day               100%   \n",
       "3  10445855    Márcio    1/24/12     within an hour               100%   \n",
       "4  5.65E+17     Júlio   12/07/14     within an hour               100%   \n",
       "\n",
       "  host_acceptance_rate host_is_superhost  host_total_listings_count  \\\n",
       "0                   0%                 f                        3.0   \n",
       "1                 100%                 f                        1.0   \n",
       "2                  89%                 f                        0.0   \n",
       "3                 100%                 f                        2.0   \n",
       "4                  67%                 f                        0.0   \n",
       "\n",
       "  host_has_profile_pic host_identity_verified  ...  price  \\\n",
       "0                    t                      t  ...  150.0   \n",
       "1                    t                      f  ...  450.0   \n",
       "2                    t                      f  ...  350.0   \n",
       "3                    t                      t  ...  145.0   \n",
       "4                    t                      t  ...  180.0   \n",
       "\n",
       "   review_scores_rating  review_scores_accuracy review_scores_cleanliness  \\\n",
       "0              4.678449                4.787037                  4.699627   \n",
       "1              4.678449                4.787037                  4.699627   \n",
       "2              5.000000                5.000000                  5.000000   \n",
       "3              4.780000                4.910000                  4.890000   \n",
       "4              4.678449                4.787037                  4.699627   \n",
       "\n",
       "  review_scores_checkin  review_scores_communication review_scores_location  \\\n",
       "0              4.874502                     4.854086               4.856884   \n",
       "1              4.874502                     4.854086               4.856884   \n",
       "2              4.890000                     4.780000               4.780000   \n",
       "3              4.930000                     4.870000               4.700000   \n",
       "4              4.874502                     4.854086               4.856884   \n",
       "\n",
       "   review_scores_value  instant_bookable  reviews_per_month  \n",
       "0             4.666319                 f               0.00  \n",
       "1             4.666319                 f               0.00  \n",
       "2             4.890000                 f               1.16  \n",
       "3             4.570000                 f               0.64  \n",
       "4             4.666319                 f               0.00  \n",
       "\n",
       "[5 rows x 29 columns]"
      ]
     },
     "execution_count": 21,
     "metadata": {},
     "output_type": "execute_result"
    },
    {
     "data": {
      "text/plain": [
       "room_type\n",
       "6/21/22            AxesSubplot(0.125,0.125;0.775x0.755)\n",
       "Entire home/apt    AxesSubplot(0.125,0.125;0.775x0.755)\n",
       "Hotel room         AxesSubplot(0.125,0.125;0.775x0.755)\n",
       "Private room       AxesSubplot(0.125,0.125;0.775x0.755)\n",
       "Shared room        AxesSubplot(0.125,0.125;0.775x0.755)\n",
       "Name: reviews_per_month, dtype: object"
      ]
     },
     "execution_count": 21,
     "metadata": {},
     "output_type": "execute_result"
    },
    {
     "data": {
      "image/png": "[encoded data removed]",
      "text/plain": [
       "<Figure size 432x288 with 1 Axes>"
      ]
     },
     "metadata": {
      "needs_background": "light"
     },
     "output_type": "display_data"
    }
   ],
   "source": [
    "df.plot(x='room_type', y = 'reviews_per_month', kind='hist')\n",
    "plt.show()\n",
    "\n",
    "df.head()\n",
    "#define index column\n",
    "df.set_index('accommodates', inplace=True)\n",
    "\n",
    "#group data by product and display sales as line chart\n",
    "df.groupby('room_type')['reviews_per_month'].plot(kind = 'hist', legend=True)"
   ]
  },
  {
   "cell_type": "code",
   "execution_count": 22,
   "id": "f6de30d5",
   "metadata": {},
   "outputs": [
    {
     "data": {
      "text/plain": [
       "Entire home/apt    19133\n",
       "Private room        5230\n",
       "Shared room          450\n",
       "Hotel room            67\n",
       "6/21/22                1\n",
       "Name: room_type, dtype: int64"
      ]
     },
     "execution_count": 22,
     "metadata": {},
     "output_type": "execute_result"
    }
   ],
   "source": [
    "df['room_type'].value_counts()"
   ]
  },
  {
   "cell_type": "code",
   "execution_count": 23,
   "id": "2e6261ff",
   "metadata": {},
   "outputs": [
    {
     "ename": "NameError",
     "evalue": "name 'df2' is not defined",
     "output_type": "error",
     "traceback": [
      "\u001b[0;31m---------------------------------------------------------------------------\u001b[0m",
      "\u001b[0;31mNameError\u001b[0m                                 Traceback (most recent call last)",
      "\u001b[0;32m/var/folders/16/sj7htwpn37x5chbjt67h8nrr0000gn/T/ipykernel_27361/1010603027.py\u001b[0m in \u001b[0;36m<module>\u001b[0;34m\u001b[0m\n\u001b[1;32m      1\u001b[0m \u001b[0;32mimport\u001b[0m \u001b[0mstatsmodels\u001b[0m\u001b[0;34m.\u001b[0m\u001b[0mapi\u001b[0m \u001b[0;32mas\u001b[0m \u001b[0msm\u001b[0m\u001b[0;34m\u001b[0m\u001b[0;34m\u001b[0m\u001b[0m\n\u001b[1;32m      2\u001b[0m \u001b[0;34m\u001b[0m\u001b[0m\n\u001b[0;32m----> 3\u001b[0;31m \u001b[0mlogit_mod\u001b[0m \u001b[0;34m=\u001b[0m \u001b[0msm\u001b[0m\u001b[0;34m.\u001b[0m\u001b[0mLogit\u001b[0m\u001b[0;34m(\u001b[0m\u001b[0mdf2\u001b[0m\u001b[0;34m[\u001b[0m\u001b[0;34m'default payment next month'\u001b[0m\u001b[0;34m]\u001b[0m\u001b[0;34m,\u001b[0m \u001b[0msm\u001b[0m\u001b[0;34m.\u001b[0m\u001b[0madd_constant\u001b[0m\u001b[0;34m(\u001b[0m\u001b[0;34m(\u001b[0m\u001b[0mdf2\u001b[0m\u001b[0;34m.\u001b[0m\u001b[0mdrop\u001b[0m\u001b[0;34m(\u001b[0m\u001b[0;34m'default payment next month'\u001b[0m\u001b[0;34m,\u001b[0m \u001b[0maxis\u001b[0m \u001b[0;34m=\u001b[0m \u001b[0;36m1\u001b[0m\u001b[0;34m)\u001b[0m\u001b[0;34m)\u001b[0m\u001b[0;34m)\u001b[0m\u001b[0;34m)\u001b[0m\u001b[0;34m\u001b[0m\u001b[0;34m\u001b[0m\u001b[0m\n\u001b[0m\u001b[1;32m      4\u001b[0m \u001b[0mlogit_res\u001b[0m \u001b[0;34m=\u001b[0m \u001b[0mlogit_mod\u001b[0m\u001b[0;34m.\u001b[0m\u001b[0mfit\u001b[0m\u001b[0;34m(\u001b[0m\u001b[0;34m)\u001b[0m\u001b[0;34m\u001b[0m\u001b[0;34m\u001b[0m\u001b[0m\n\u001b[1;32m      5\u001b[0m \u001b[0mprint\u001b[0m\u001b[0;34m(\u001b[0m\u001b[0mlogit_res\u001b[0m\u001b[0;34m.\u001b[0m\u001b[0msummary\u001b[0m\u001b[0;34m(\u001b[0m\u001b[0;34m)\u001b[0m\u001b[0;34m)\u001b[0m\u001b[0;34m\u001b[0m\u001b[0;34m\u001b[0m\u001b[0m\n",
      "\u001b[0;31mNameError\u001b[0m: name 'df2' is not defined"
     ]
    }
   ],
   "source": [
    "import statsmodels.api as sm\n",
    "\n",
    "logit_mod = sm.Logit(df2['default payment next month'], sm.add_constant((df2.drop('default payment next month', axis = 1))))\n",
    "logit_res = logit_mod.fit()\n",
    "print(logit_res.summary())"
   ]
  }
 ],
 "metadata": {
  "kernelspec": {
   "display_name": "Python 3 (ipykernel)",
   "language": "python",
   "name": "python3"
  },
  "language_info": {
   "codemirror_mode": {
    "name": "ipython",
    "version": 3
   },
   "file_extension": ".py",
   "mimetype": "text/x-python",
   "name": "python",
   "nbconvert_exporter": "python",
   "pygments_lexer": "ipython3",
   "version": "3.9.7"
  }
 },
 "nbformat": 4,
 "nbformat_minor": 5
}
