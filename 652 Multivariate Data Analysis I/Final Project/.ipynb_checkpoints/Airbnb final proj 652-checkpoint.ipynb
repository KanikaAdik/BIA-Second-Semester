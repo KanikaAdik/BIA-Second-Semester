{
 "cells": [
  {
   "cell_type": "code",
   "execution_count": 1,
   "id": "6160cb7e",
   "metadata": {},
   "outputs": [],
   "source": [
    "from IPython.core.interactiveshell import InteractiveShell\n",
    "InteractiveShell.ast_node_interactivity = \"all\""
   ]
  },
  {
   "cell_type": "code",
   "execution_count": 2,
   "id": "cb199fa6",
   "metadata": {},
   "outputs": [],
   "source": [
    "#importing required libraries\n",
    "import pandas as pd\n",
    "import numpy as np\n",
    "import seaborn as sns\n",
    "from matplotlib import pyplot as plt"
   ]
  },
  {
   "cell_type": "code",
   "execution_count": 3,
   "id": "c7a0ab14",
   "metadata": {},
   "outputs": [],
   "source": [
    "#Import Data\n",
    "df = pd.read_csv(\"listings.csv\")"
   ]
  },
  {
   "cell_type": "code",
   "execution_count": 4,
   "id": "0f35ecbc",
   "metadata": {},
   "outputs": [
    {
     "data": {
      "text/html": [
       "<div>\n",
       "<style scoped>\n",
       "    .dataframe tbody tr th:only-of-type {\n",
       "        vertical-align: middle;\n",
       "    }\n",
       "\n",
       "    .dataframe tbody tr th {\n",
       "        vertical-align: top;\n",
       "    }\n",
       "\n",
       "    .dataframe thead th {\n",
       "        text-align: right;\n",
       "    }\n",
       "</style>\n",
       "<table border=\"1\" class=\"dataframe\">\n",
       "  <thead>\n",
       "    <tr style=\"text-align: right;\">\n",
       "      <th></th>\n",
       "      <th>id</th>\n",
       "      <th>host_name</th>\n",
       "      <th>host_since</th>\n",
       "      <th>host_response_time</th>\n",
       "      <th>host_response_rate</th>\n",
       "      <th>host_acceptance_rate</th>\n",
       "      <th>host_is_superhost</th>\n",
       "      <th>host_total_listings_count</th>\n",
       "      <th>host_has_profile_pic</th>\n",
       "      <th>host_identity_verified</th>\n",
       "      <th>...</th>\n",
       "      <th>price</th>\n",
       "      <th>review_scores_rating</th>\n",
       "      <th>review_scores_accuracy</th>\n",
       "      <th>review_scores_cleanliness</th>\n",
       "      <th>review_scores_checkin</th>\n",
       "      <th>review_scores_communication</th>\n",
       "      <th>review_scores_location</th>\n",
       "      <th>review_scores_value</th>\n",
       "      <th>instant_bookable</th>\n",
       "      <th>reviews_per_month</th>\n",
       "    </tr>\n",
       "  </thead>\n",
       "  <tbody>\n",
       "    <tr>\n",
       "      <th>0</th>\n",
       "      <td>15965441</td>\n",
       "      <td>José</td>\n",
       "      <td>11/14/16</td>\n",
       "      <td>within an hour</td>\n",
       "      <td>83%</td>\n",
       "      <td>0%</td>\n",
       "      <td>f</td>\n",
       "      <td>3.0</td>\n",
       "      <td>t</td>\n",
       "      <td>t</td>\n",
       "      <td>...</td>\n",
       "      <td>$150.00</td>\n",
       "      <td>NaN</td>\n",
       "      <td>NaN</td>\n",
       "      <td>NaN</td>\n",
       "      <td>NaN</td>\n",
       "      <td>NaN</td>\n",
       "      <td>NaN</td>\n",
       "      <td>NaN</td>\n",
       "      <td>f</td>\n",
       "      <td>NaN</td>\n",
       "    </tr>\n",
       "    <tr>\n",
       "      <th>1</th>\n",
       "      <td>47908784</td>\n",
       "      <td>Raquel</td>\n",
       "      <td>7/15/16</td>\n",
       "      <td>within a day</td>\n",
       "      <td>50%</td>\n",
       "      <td>100%</td>\n",
       "      <td>f</td>\n",
       "      <td>1.0</td>\n",
       "      <td>t</td>\n",
       "      <td>f</td>\n",
       "      <td>...</td>\n",
       "      <td>$450.00</td>\n",
       "      <td>NaN</td>\n",
       "      <td>NaN</td>\n",
       "      <td>NaN</td>\n",
       "      <td>NaN</td>\n",
       "      <td>NaN</td>\n",
       "      <td>NaN</td>\n",
       "      <td>NaN</td>\n",
       "      <td>f</td>\n",
       "      <td>NaN</td>\n",
       "    </tr>\n",
       "    <tr>\n",
       "      <th>2</th>\n",
       "      <td>52239613</td>\n",
       "      <td>Fabio</td>\n",
       "      <td>9/13/21</td>\n",
       "      <td>within a day</td>\n",
       "      <td>100%</td>\n",
       "      <td>89%</td>\n",
       "      <td>f</td>\n",
       "      <td>0.0</td>\n",
       "      <td>t</td>\n",
       "      <td>f</td>\n",
       "      <td>...</td>\n",
       "      <td>$350.00</td>\n",
       "      <td>5.00</td>\n",
       "      <td>5.00</td>\n",
       "      <td>5.00</td>\n",
       "      <td>4.89</td>\n",
       "      <td>4.78</td>\n",
       "      <td>4.78</td>\n",
       "      <td>4.89</td>\n",
       "      <td>f</td>\n",
       "      <td>1.16</td>\n",
       "    </tr>\n",
       "    <tr>\n",
       "      <th>3</th>\n",
       "      <td>10445855</td>\n",
       "      <td>Márcio</td>\n",
       "      <td>1/24/12</td>\n",
       "      <td>within an hour</td>\n",
       "      <td>100%</td>\n",
       "      <td>100%</td>\n",
       "      <td>f</td>\n",
       "      <td>2.0</td>\n",
       "      <td>t</td>\n",
       "      <td>t</td>\n",
       "      <td>...</td>\n",
       "      <td>$145.00</td>\n",
       "      <td>4.78</td>\n",
       "      <td>4.91</td>\n",
       "      <td>4.89</td>\n",
       "      <td>4.93</td>\n",
       "      <td>4.87</td>\n",
       "      <td>4.70</td>\n",
       "      <td>4.57</td>\n",
       "      <td>f</td>\n",
       "      <td>0.64</td>\n",
       "    </tr>\n",
       "    <tr>\n",
       "      <th>4</th>\n",
       "      <td>5.65E+17</td>\n",
       "      <td>Júlio</td>\n",
       "      <td>12/07/14</td>\n",
       "      <td>within an hour</td>\n",
       "      <td>100%</td>\n",
       "      <td>67%</td>\n",
       "      <td>f</td>\n",
       "      <td>0.0</td>\n",
       "      <td>t</td>\n",
       "      <td>t</td>\n",
       "      <td>...</td>\n",
       "      <td>$180.00</td>\n",
       "      <td>NaN</td>\n",
       "      <td>NaN</td>\n",
       "      <td>NaN</td>\n",
       "      <td>NaN</td>\n",
       "      <td>NaN</td>\n",
       "      <td>NaN</td>\n",
       "      <td>NaN</td>\n",
       "      <td>f</td>\n",
       "      <td>NaN</td>\n",
       "    </tr>\n",
       "  </tbody>\n",
       "</table>\n",
       "<p>5 rows × 29 columns</p>\n",
       "</div>"
      ],
      "text/plain": [
       "         id host_name host_since host_response_time host_response_rate  \\\n",
       "0  15965441      José   11/14/16     within an hour                83%   \n",
       "1  47908784    Raquel    7/15/16       within a day                50%   \n",
       "2  52239613     Fabio    9/13/21       within a day               100%   \n",
       "3  10445855    Márcio    1/24/12     within an hour               100%   \n",
       "4  5.65E+17     Júlio   12/07/14     within an hour               100%   \n",
       "\n",
       "  host_acceptance_rate host_is_superhost  host_total_listings_count  \\\n",
       "0                   0%                 f                        3.0   \n",
       "1                 100%                 f                        1.0   \n",
       "2                  89%                 f                        0.0   \n",
       "3                 100%                 f                        2.0   \n",
       "4                  67%                 f                        0.0   \n",
       "\n",
       "  host_has_profile_pic host_identity_verified  ...     price  \\\n",
       "0                    t                      t  ...  $150.00    \n",
       "1                    t                      f  ...  $450.00    \n",
       "2                    t                      f  ...  $350.00    \n",
       "3                    t                      t  ...  $145.00    \n",
       "4                    t                      t  ...  $180.00    \n",
       "\n",
       "   review_scores_rating  review_scores_accuracy review_scores_cleanliness  \\\n",
       "0                   NaN                     NaN                       NaN   \n",
       "1                   NaN                     NaN                       NaN   \n",
       "2                  5.00                    5.00                      5.00   \n",
       "3                  4.78                    4.91                      4.89   \n",
       "4                   NaN                     NaN                       NaN   \n",
       "\n",
       "  review_scores_checkin  review_scores_communication review_scores_location  \\\n",
       "0                   NaN                          NaN                    NaN   \n",
       "1                   NaN                          NaN                    NaN   \n",
       "2                  4.89                         4.78                   4.78   \n",
       "3                  4.93                         4.87                   4.70   \n",
       "4                   NaN                          NaN                    NaN   \n",
       "\n",
       "   review_scores_value  instant_bookable reviews_per_month  \n",
       "0                  NaN                 f               NaN  \n",
       "1                  NaN                 f               NaN  \n",
       "2                 4.89                 f              1.16  \n",
       "3                 4.57                 f              0.64  \n",
       "4                  NaN                 f               NaN  \n",
       "\n",
       "[5 rows x 29 columns]"
      ]
     },
     "execution_count": 4,
     "metadata": {},
     "output_type": "execute_result"
    }
   ],
   "source": [
    "df.head()"
   ]
  },
  {
   "cell_type": "code",
   "execution_count": 5,
   "id": "8344c7d5",
   "metadata": {},
   "outputs": [
    {
     "name": "stdout",
     "output_type": "stream",
     "text": [
      "<class 'pandas.core.frame.DataFrame'>\n",
      "RangeIndex: 24886 entries, 0 to 24885\n",
      "Data columns (total 29 columns):\n",
      " #   Column                       Non-Null Count  Dtype  \n",
      "---  ------                       --------------  -----  \n",
      " 0   id                           24885 non-null  object \n",
      " 1   host_name                    24765 non-null  object \n",
      " 2   host_since                   24765 non-null  object \n",
      " 3   host_response_time           19664 non-null  object \n",
      " 4   host_response_rate           19664 non-null  object \n",
      " 5   host_acceptance_rate         20072 non-null  object \n",
      " 6   host_is_superhost            24764 non-null  object \n",
      " 7   host_total_listings_count    24764 non-null  float64\n",
      " 8   host_has_profile_pic         24764 non-null  object \n",
      " 9   host_identity_verified       24764 non-null  object \n",
      " 10  neighbourhood_cleansed       24881 non-null  object \n",
      " 11  latitude                     24881 non-null  float64\n",
      " 12  longitude                    24881 non-null  float64\n",
      " 13  property_type                24881 non-null  object \n",
      " 14  room_type                    24881 non-null  object \n",
      " 15  accommodates                 24881 non-null  float64\n",
      " 16  bathrooms_text               24828 non-null  object \n",
      " 17  bedrooms                     23512 non-null  float64\n",
      " 18  beds                         24629 non-null  float64\n",
      " 19  price                        24880 non-null  object \n",
      " 20  review_scores_rating         17213 non-null  float64\n",
      " 21  review_scores_accuracy       16951 non-null  float64\n",
      " 22  review_scores_cleanliness    16951 non-null  float64\n",
      " 23  review_scores_checkin        16951 non-null  float64\n",
      " 24  review_scores_communication  16951 non-null  float64\n",
      " 25  review_scores_location       16950 non-null  float64\n",
      " 26  review_scores_value          16951 non-null  float64\n",
      " 27  instant_bookable             24880 non-null  object \n",
      " 28  reviews_per_month            17213 non-null  float64\n",
      "dtypes: float64(14), object(15)\n",
      "memory usage: 5.5+ MB\n"
     ]
    }
   ],
   "source": [
    "#understanding the dataset columns and redefuining values as well as types based on requirements\n",
    "df.info()"
   ]
  },
  {
   "cell_type": "code",
   "execution_count": 6,
   "id": "e1de181b",
   "metadata": {},
   "outputs": [
    {
     "data": {
      "text/plain": [
       "1 bath               10488\n",
       "2 baths               4937\n",
       "1 shared bath         1890\n",
       "1 private bath        1469\n",
       "3 baths               1418\n",
       "1.5 baths             1327\n",
       "2.5 baths              938\n",
       "2 shared baths         441\n",
       "3.5 baths              365\n",
       "1.5 shared baths       327\n",
       "4 baths                318\n",
       "4.5 baths              151\n",
       "5 baths                113\n",
       "6 baths                 86\n",
       "5.5 baths               84\n",
       "3 shared baths          81\n",
       "2.5 shared baths        63\n",
       "7 baths                 48\n",
       "8 baths                 38\n",
       "6.5 baths               35\n",
       "0 baths                 34\n",
       "0 shared baths          29\n",
       "7.5 baths               24\n",
       "4 shared baths          23\n",
       "5 shared baths          16\n",
       "Shared half-bath        15\n",
       "3.5 shared baths        12\n",
       "Half-bath               11\n",
       "11 baths                 6\n",
       "8.5 baths                5\n",
       "6 shared baths           5\n",
       "10 baths                 4\n",
       "7 shared baths           4\n",
       "6.5 shared baths         3\n",
       "Private half-bath        3\n",
       "11.5 baths               2\n",
       "15 baths                 2\n",
       "9 baths                  2\n",
       "5.5 shared baths         1\n",
       "10.5 baths               1\n",
       "0                        1\n",
       "8.5 shared baths         1\n",
       "4.5 shared baths         1\n",
       "12 baths                 1\n",
       "16 baths                 1\n",
       "20 shared baths          1\n",
       "17 baths                 1\n",
       "20 baths                 1\n",
       "15.5 baths               1\n",
       "Name: bathrooms_text, dtype: int64"
      ]
     },
     "execution_count": 6,
     "metadata": {},
     "output_type": "execute_result"
    }
   ],
   "source": [
    "df['bathrooms_text'].value_counts()"
   ]
  },
  {
   "cell_type": "code",
   "execution_count": 7,
   "id": "29c7450f",
   "metadata": {},
   "outputs": [
    {
     "name": "stdout",
     "output_type": "stream",
     "text": [
      "<class 'pandas.core.frame.DataFrame'>\n",
      "RangeIndex: 24886 entries, 0 to 24885\n",
      "Data columns (total 29 columns):\n",
      " #   Column                       Non-Null Count  Dtype  \n",
      "---  ------                       --------------  -----  \n",
      " 0   id                           24885 non-null  object \n",
      " 1   host_name                    24765 non-null  object \n",
      " 2   host_since                   24765 non-null  object \n",
      " 3   host_response_time           19664 non-null  object \n",
      " 4   host_response_rate           19664 non-null  object \n",
      " 5   host_acceptance_rate         20072 non-null  object \n",
      " 6   host_is_superhost            24764 non-null  object \n",
      " 7   host_total_listings_count    24764 non-null  float64\n",
      " 8   host_has_profile_pic         24764 non-null  object \n",
      " 9   host_identity_verified       24764 non-null  object \n",
      " 10  neighbourhood_cleansed       24881 non-null  object \n",
      " 11  latitude                     24881 non-null  float64\n",
      " 12  longitude                    24881 non-null  float64\n",
      " 13  property_type                24881 non-null  object \n",
      " 14  room_type                    24881 non-null  object \n",
      " 15  accommodates                 24886 non-null  int64  \n",
      " 16  bathrooms_text               24828 non-null  object \n",
      " 17  bedrooms                     24886 non-null  int64  \n",
      " 18  beds                         24886 non-null  int64  \n",
      " 19  price                        24880 non-null  float64\n",
      " 20  review_scores_rating         17213 non-null  float64\n",
      " 21  review_scores_accuracy       16951 non-null  float64\n",
      " 22  review_scores_cleanliness    16951 non-null  float64\n",
      " 23  review_scores_checkin        16951 non-null  float64\n",
      " 24  review_scores_communication  16951 non-null  float64\n",
      " 25  review_scores_location       16950 non-null  float64\n",
      " 26  review_scores_value          16951 non-null  float64\n",
      " 27  instant_bookable             24880 non-null  object \n",
      " 28  reviews_per_month            24886 non-null  float64\n",
      "dtypes: float64(12), int64(3), object(14)\n",
      "memory usage: 5.5+ MB\n"
     ]
    },
    {
     "data": {
      "text/html": [
       "<div>\n",
       "<style scoped>\n",
       "    .dataframe tbody tr th:only-of-type {\n",
       "        vertical-align: middle;\n",
       "    }\n",
       "\n",
       "    .dataframe tbody tr th {\n",
       "        vertical-align: top;\n",
       "    }\n",
       "\n",
       "    .dataframe thead th {\n",
       "        text-align: right;\n",
       "    }\n",
       "</style>\n",
       "<table border=\"1\" class=\"dataframe\">\n",
       "  <thead>\n",
       "    <tr style=\"text-align: right;\">\n",
       "      <th></th>\n",
       "      <th>id</th>\n",
       "      <th>host_name</th>\n",
       "      <th>host_since</th>\n",
       "      <th>host_response_time</th>\n",
       "      <th>host_response_rate</th>\n",
       "      <th>host_acceptance_rate</th>\n",
       "      <th>host_is_superhost</th>\n",
       "      <th>host_total_listings_count</th>\n",
       "      <th>host_has_profile_pic</th>\n",
       "      <th>host_identity_verified</th>\n",
       "      <th>...</th>\n",
       "      <th>price</th>\n",
       "      <th>review_scores_rating</th>\n",
       "      <th>review_scores_accuracy</th>\n",
       "      <th>review_scores_cleanliness</th>\n",
       "      <th>review_scores_checkin</th>\n",
       "      <th>review_scores_communication</th>\n",
       "      <th>review_scores_location</th>\n",
       "      <th>review_scores_value</th>\n",
       "      <th>instant_bookable</th>\n",
       "      <th>reviews_per_month</th>\n",
       "    </tr>\n",
       "  </thead>\n",
       "  <tbody>\n",
       "    <tr>\n",
       "      <th>0</th>\n",
       "      <td>15965441</td>\n",
       "      <td>José</td>\n",
       "      <td>11/14/16</td>\n",
       "      <td>within an hour</td>\n",
       "      <td>83%</td>\n",
       "      <td>0%</td>\n",
       "      <td>f</td>\n",
       "      <td>3.0</td>\n",
       "      <td>t</td>\n",
       "      <td>t</td>\n",
       "      <td>...</td>\n",
       "      <td>150.0</td>\n",
       "      <td>4.678449</td>\n",
       "      <td>4.787037</td>\n",
       "      <td>4.699627</td>\n",
       "      <td>4.874502</td>\n",
       "      <td>4.854086</td>\n",
       "      <td>4.856884</td>\n",
       "      <td>4.666319</td>\n",
       "      <td>f</td>\n",
       "      <td>0.00</td>\n",
       "    </tr>\n",
       "    <tr>\n",
       "      <th>1</th>\n",
       "      <td>47908784</td>\n",
       "      <td>Raquel</td>\n",
       "      <td>7/15/16</td>\n",
       "      <td>within a day</td>\n",
       "      <td>50%</td>\n",
       "      <td>100%</td>\n",
       "      <td>f</td>\n",
       "      <td>1.0</td>\n",
       "      <td>t</td>\n",
       "      <td>f</td>\n",
       "      <td>...</td>\n",
       "      <td>450.0</td>\n",
       "      <td>4.678449</td>\n",
       "      <td>4.787037</td>\n",
       "      <td>4.699627</td>\n",
       "      <td>4.874502</td>\n",
       "      <td>4.854086</td>\n",
       "      <td>4.856884</td>\n",
       "      <td>4.666319</td>\n",
       "      <td>f</td>\n",
       "      <td>0.00</td>\n",
       "    </tr>\n",
       "    <tr>\n",
       "      <th>2</th>\n",
       "      <td>52239613</td>\n",
       "      <td>Fabio</td>\n",
       "      <td>9/13/21</td>\n",
       "      <td>within a day</td>\n",
       "      <td>100%</td>\n",
       "      <td>89%</td>\n",
       "      <td>f</td>\n",
       "      <td>0.0</td>\n",
       "      <td>t</td>\n",
       "      <td>f</td>\n",
       "      <td>...</td>\n",
       "      <td>350.0</td>\n",
       "      <td>5.000000</td>\n",
       "      <td>5.000000</td>\n",
       "      <td>5.000000</td>\n",
       "      <td>4.890000</td>\n",
       "      <td>4.780000</td>\n",
       "      <td>4.780000</td>\n",
       "      <td>4.890000</td>\n",
       "      <td>f</td>\n",
       "      <td>1.16</td>\n",
       "    </tr>\n",
       "    <tr>\n",
       "      <th>3</th>\n",
       "      <td>10445855</td>\n",
       "      <td>Márcio</td>\n",
       "      <td>1/24/12</td>\n",
       "      <td>within an hour</td>\n",
       "      <td>100%</td>\n",
       "      <td>100%</td>\n",
       "      <td>f</td>\n",
       "      <td>2.0</td>\n",
       "      <td>t</td>\n",
       "      <td>t</td>\n",
       "      <td>...</td>\n",
       "      <td>145.0</td>\n",
       "      <td>4.780000</td>\n",
       "      <td>4.910000</td>\n",
       "      <td>4.890000</td>\n",
       "      <td>4.930000</td>\n",
       "      <td>4.870000</td>\n",
       "      <td>4.700000</td>\n",
       "      <td>4.570000</td>\n",
       "      <td>f</td>\n",
       "      <td>0.64</td>\n",
       "    </tr>\n",
       "    <tr>\n",
       "      <th>4</th>\n",
       "      <td>5.65E+17</td>\n",
       "      <td>Júlio</td>\n",
       "      <td>12/07/14</td>\n",
       "      <td>within an hour</td>\n",
       "      <td>100%</td>\n",
       "      <td>67%</td>\n",
       "      <td>f</td>\n",
       "      <td>0.0</td>\n",
       "      <td>t</td>\n",
       "      <td>t</td>\n",
       "      <td>...</td>\n",
       "      <td>180.0</td>\n",
       "      <td>4.678449</td>\n",
       "      <td>4.787037</td>\n",
       "      <td>4.699627</td>\n",
       "      <td>4.874502</td>\n",
       "      <td>4.854086</td>\n",
       "      <td>4.856884</td>\n",
       "      <td>4.666319</td>\n",
       "      <td>f</td>\n",
       "      <td>0.00</td>\n",
       "    </tr>\n",
       "  </tbody>\n",
       "</table>\n",
       "<p>5 rows × 29 columns</p>\n",
       "</div>"
      ],
      "text/plain": [
       "         id host_name host_since host_response_time host_response_rate  \\\n",
       "0  15965441      José   11/14/16     within an hour                83%   \n",
       "1  47908784    Raquel    7/15/16       within a day                50%   \n",
       "2  52239613     Fabio    9/13/21       within a day               100%   \n",
       "3  10445855    Márcio    1/24/12     within an hour               100%   \n",
       "4  5.65E+17     Júlio   12/07/14     within an hour               100%   \n",
       "\n",
       "  host_acceptance_rate host_is_superhost  host_total_listings_count  \\\n",
       "0                   0%                 f                        3.0   \n",
       "1                 100%                 f                        1.0   \n",
       "2                  89%                 f                        0.0   \n",
       "3                 100%                 f                        2.0   \n",
       "4                  67%                 f                        0.0   \n",
       "\n",
       "  host_has_profile_pic host_identity_verified  ...  price  \\\n",
       "0                    t                      t  ...  150.0   \n",
       "1                    t                      f  ...  450.0   \n",
       "2                    t                      f  ...  350.0   \n",
       "3                    t                      t  ...  145.0   \n",
       "4                    t                      t  ...  180.0   \n",
       "\n",
       "   review_scores_rating  review_scores_accuracy review_scores_cleanliness  \\\n",
       "0              4.678449                4.787037                  4.699627   \n",
       "1              4.678449                4.787037                  4.699627   \n",
       "2              5.000000                5.000000                  5.000000   \n",
       "3              4.780000                4.910000                  4.890000   \n",
       "4              4.678449                4.787037                  4.699627   \n",
       "\n",
       "  review_scores_checkin  review_scores_communication review_scores_location  \\\n",
       "0              4.874502                     4.854086               4.856884   \n",
       "1              4.874502                     4.854086               4.856884   \n",
       "2              4.890000                     4.780000               4.780000   \n",
       "3              4.930000                     4.870000               4.700000   \n",
       "4              4.874502                     4.854086               4.856884   \n",
       "\n",
       "   review_scores_value  instant_bookable  reviews_per_month  \n",
       "0             4.666319                 f               0.00  \n",
       "1             4.666319                 f               0.00  \n",
       "2             4.890000                 f               1.16  \n",
       "3             4.570000                 f               0.64  \n",
       "4             4.666319                 f               0.00  \n",
       "\n",
       "[5 rows x 29 columns]"
      ]
     },
     "execution_count": 7,
     "metadata": {},
     "output_type": "execute_result"
    },
    {
     "name": "stdout",
     "output_type": "stream",
     "text": [
      "<class 'pandas.core.frame.DataFrame'>\n",
      "RangeIndex: 24886 entries, 0 to 24885\n",
      "Data columns (total 29 columns):\n",
      " #   Column                       Non-Null Count  Dtype  \n",
      "---  ------                       --------------  -----  \n",
      " 0   id                           24885 non-null  object \n",
      " 1   host_name                    24765 non-null  object \n",
      " 2   host_since                   24765 non-null  object \n",
      " 3   host_response_time           19664 non-null  object \n",
      " 4   host_response_rate           19664 non-null  object \n",
      " 5   host_acceptance_rate         20072 non-null  object \n",
      " 6   host_is_superhost            24764 non-null  object \n",
      " 7   host_total_listings_count    24764 non-null  float64\n",
      " 8   host_has_profile_pic         24764 non-null  object \n",
      " 9   host_identity_verified       24764 non-null  object \n",
      " 10  neighbourhood_cleansed       24881 non-null  object \n",
      " 11  latitude                     24881 non-null  float64\n",
      " 12  longitude                    24881 non-null  float64\n",
      " 13  property_type                24881 non-null  object \n",
      " 14  room_type                    24881 non-null  object \n",
      " 15  accommodates                 24886 non-null  int64  \n",
      " 16  bathrooms_text               24828 non-null  object \n",
      " 17  bedrooms                     24886 non-null  int64  \n",
      " 18  beds                         24886 non-null  int64  \n",
      " 19  price                        24880 non-null  float64\n",
      " 20  review_scores_rating         24886 non-null  float64\n",
      " 21  review_scores_accuracy       24886 non-null  float64\n",
      " 22  review_scores_cleanliness    24886 non-null  float64\n",
      " 23  review_scores_checkin        24886 non-null  float64\n",
      " 24  review_scores_communication  24886 non-null  float64\n",
      " 25  review_scores_location       24886 non-null  float64\n",
      " 26  review_scores_value          24886 non-null  float64\n",
      " 27  instant_bookable             24880 non-null  object \n",
      " 28  reviews_per_month            24886 non-null  float64\n",
      "dtypes: float64(12), int64(3), object(14)\n",
      "memory usage: 5.5+ MB\n"
     ]
    }
   ],
   "source": [
    "#Changing Price to float values\n",
    "df['price']=df['price'].replace('[\\$\\,]', '', regex=True).astype(float)\n",
    "\n",
    "#setting all NaN values to 0 for column - 'reviews_per_month'\n",
    "df.fillna({'reviews_per_month':0, 'accommodates':0,'beds':0,'bedrooms':0 }, inplace=True)\n",
    "\n",
    "df['beds'] =df['beds'].astype(int)\n",
    "df['bedrooms'] =df['bedrooms'].astype(int)\n",
    "df['accommodates'] =df['accommodates'].astype(int)\n",
    "df.info()\n",
    "\n",
    "#replace other numeric columns with mean values / Imputing Mean values for other review columns\n",
    "impute_df = df[['review_scores_rating',\n",
    "       'review_scores_accuracy', 'review_scores_cleanliness',\n",
    "       'review_scores_checkin', 'review_scores_communication',\n",
    "       'review_scores_location', 'review_scores_value']]\n",
    "impute_df = impute_df.fillna(impute_df.mean())\n",
    "df.update(impute_df)\n",
    "\n",
    "#updating \n",
    "df.head()\n",
    "df.info()"
   ]
  },
  {
   "cell_type": "code",
   "execution_count": 8,
   "id": "73c951a6",
   "metadata": {},
   "outputs": [
    {
     "data": {
      "text/plain": [
       "<matplotlib.collections.PathCollection at 0x7f812142f760>"
      ]
     },
     "execution_count": 8,
     "metadata": {},
     "output_type": "execute_result"
    },
    {
     "data": {
      "image/png": "[encoded data removed]",
      "text/plain": [
       "<Figure size 432x288 with 1 Axes>"
      ]
     },
     "metadata": {
      "needs_background": "light"
     },
     "output_type": "display_data"
    }
   ],
   "source": [
    "plt.scatter(x=df['accommodates'], y=df['beds'])\n",
    "plt.show()"
   ]
  },
  {
   "cell_type": "code",
   "execution_count": 9,
   "id": "e4d90d1a",
   "metadata": {},
   "outputs": [
    {
     "name": "stdout",
     "output_type": "stream",
     "text": [
      "<class 'pandas.core.frame.DataFrame'>\n",
      "RangeIndex: 24886 entries, 0 to 24885\n",
      "Data columns (total 16 columns):\n",
      " #   Column                       Non-Null Count  Dtype  \n",
      "---  ------                       --------------  -----  \n",
      " 0   property_type                24881 non-null  object \n",
      " 1   room_type                    24881 non-null  object \n",
      " 2   accommodates                 24886 non-null  int64  \n",
      " 3   bathrooms_text               24828 non-null  object \n",
      " 4   bedrooms                     24886 non-null  int64  \n",
      " 5   beds                         24886 non-null  int64  \n",
      " 6   price                        24880 non-null  float64\n",
      " 7   review_scores_rating         24886 non-null  float64\n",
      " 8   review_scores_accuracy       24886 non-null  float64\n",
      " 9   review_scores_cleanliness    24886 non-null  float64\n",
      " 10  review_scores_checkin        24886 non-null  float64\n",
      " 11  review_scores_communication  24886 non-null  float64\n",
      " 12  review_scores_location       24886 non-null  float64\n",
      " 13  review_scores_value          24886 non-null  float64\n",
      " 14  instant_bookable             24880 non-null  object \n",
      " 15  reviews_per_month            24886 non-null  float64\n",
      "dtypes: float64(9), int64(3), object(4)\n",
      "memory usage: 3.0+ MB\n"
     ]
    },
    {
     "data": {
      "text/html": [
       "<div>\n",
       "<style scoped>\n",
       "    .dataframe tbody tr th:only-of-type {\n",
       "        vertical-align: middle;\n",
       "    }\n",
       "\n",
       "    .dataframe tbody tr th {\n",
       "        vertical-align: top;\n",
       "    }\n",
       "\n",
       "    .dataframe thead th {\n",
       "        text-align: right;\n",
       "    }\n",
       "</style>\n",
       "<table border=\"1\" class=\"dataframe\">\n",
       "  <thead>\n",
       "    <tr style=\"text-align: right;\">\n",
       "      <th></th>\n",
       "      <th>property_type</th>\n",
       "      <th>room_type</th>\n",
       "      <th>accommodates</th>\n",
       "      <th>bathrooms_text</th>\n",
       "      <th>bedrooms</th>\n",
       "      <th>beds</th>\n",
       "      <th>price</th>\n",
       "      <th>review_scores_rating</th>\n",
       "      <th>review_scores_accuracy</th>\n",
       "      <th>review_scores_cleanliness</th>\n",
       "      <th>review_scores_checkin</th>\n",
       "      <th>review_scores_communication</th>\n",
       "      <th>review_scores_location</th>\n",
       "      <th>review_scores_value</th>\n",
       "      <th>instant_bookable</th>\n",
       "      <th>reviews_per_month</th>\n",
       "    </tr>\n",
       "  </thead>\n",
       "  <tbody>\n",
       "    <tr>\n",
       "      <th>0</th>\n",
       "      <td>Private room in rental unit</td>\n",
       "      <td>Private room</td>\n",
       "      <td>2</td>\n",
       "      <td>1 bath</td>\n",
       "      <td>1</td>\n",
       "      <td>1</td>\n",
       "      <td>150.0</td>\n",
       "      <td>4.678449</td>\n",
       "      <td>4.787037</td>\n",
       "      <td>4.699627</td>\n",
       "      <td>4.874502</td>\n",
       "      <td>4.854086</td>\n",
       "      <td>4.856884</td>\n",
       "      <td>4.666319</td>\n",
       "      <td>f</td>\n",
       "      <td>0.00</td>\n",
       "    </tr>\n",
       "    <tr>\n",
       "      <th>1</th>\n",
       "      <td>Entire condo</td>\n",
       "      <td>Entire home/apt</td>\n",
       "      <td>4</td>\n",
       "      <td>2 baths</td>\n",
       "      <td>2</td>\n",
       "      <td>2</td>\n",
       "      <td>450.0</td>\n",
       "      <td>4.678449</td>\n",
       "      <td>4.787037</td>\n",
       "      <td>4.699627</td>\n",
       "      <td>4.874502</td>\n",
       "      <td>4.854086</td>\n",
       "      <td>4.856884</td>\n",
       "      <td>4.666319</td>\n",
       "      <td>f</td>\n",
       "      <td>0.00</td>\n",
       "    </tr>\n",
       "    <tr>\n",
       "      <th>2</th>\n",
       "      <td>Entire rental unit</td>\n",
       "      <td>Entire home/apt</td>\n",
       "      <td>5</td>\n",
       "      <td>1 bath</td>\n",
       "      <td>2</td>\n",
       "      <td>5</td>\n",
       "      <td>350.0</td>\n",
       "      <td>5.000000</td>\n",
       "      <td>5.000000</td>\n",
       "      <td>5.000000</td>\n",
       "      <td>4.890000</td>\n",
       "      <td>4.780000</td>\n",
       "      <td>4.780000</td>\n",
       "      <td>4.890000</td>\n",
       "      <td>f</td>\n",
       "      <td>1.16</td>\n",
       "    </tr>\n",
       "    <tr>\n",
       "      <th>3</th>\n",
       "      <td>Entire home</td>\n",
       "      <td>Entire home/apt</td>\n",
       "      <td>3</td>\n",
       "      <td>1 bath</td>\n",
       "      <td>1</td>\n",
       "      <td>2</td>\n",
       "      <td>145.0</td>\n",
       "      <td>4.780000</td>\n",
       "      <td>4.910000</td>\n",
       "      <td>4.890000</td>\n",
       "      <td>4.930000</td>\n",
       "      <td>4.870000</td>\n",
       "      <td>4.700000</td>\n",
       "      <td>4.570000</td>\n",
       "      <td>f</td>\n",
       "      <td>0.64</td>\n",
       "    </tr>\n",
       "    <tr>\n",
       "      <th>4</th>\n",
       "      <td>Private room in bed and breakfast</td>\n",
       "      <td>Private room</td>\n",
       "      <td>4</td>\n",
       "      <td>1.5 baths</td>\n",
       "      <td>2</td>\n",
       "      <td>3</td>\n",
       "      <td>180.0</td>\n",
       "      <td>4.678449</td>\n",
       "      <td>4.787037</td>\n",
       "      <td>4.699627</td>\n",
       "      <td>4.874502</td>\n",
       "      <td>4.854086</td>\n",
       "      <td>4.856884</td>\n",
       "      <td>4.666319</td>\n",
       "      <td>f</td>\n",
       "      <td>0.00</td>\n",
       "    </tr>\n",
       "  </tbody>\n",
       "</table>\n",
       "</div>"
      ],
      "text/plain": [
       "                       property_type        room_type  accommodates  \\\n",
       "0        Private room in rental unit     Private room             2   \n",
       "1                       Entire condo  Entire home/apt             4   \n",
       "2                 Entire rental unit  Entire home/apt             5   \n",
       "3                        Entire home  Entire home/apt             3   \n",
       "4  Private room in bed and breakfast     Private room             4   \n",
       "\n",
       "  bathrooms_text  bedrooms  beds  price  review_scores_rating  \\\n",
       "0         1 bath         1     1  150.0              4.678449   \n",
       "1        2 baths         2     2  450.0              4.678449   \n",
       "2         1 bath         2     5  350.0              5.000000   \n",
       "3         1 bath         1     2  145.0              4.780000   \n",
       "4      1.5 baths         2     3  180.0              4.678449   \n",
       "\n",
       "   review_scores_accuracy  review_scores_cleanliness  review_scores_checkin  \\\n",
       "0                4.787037                   4.699627               4.874502   \n",
       "1                4.787037                   4.699627               4.874502   \n",
       "2                5.000000                   5.000000               4.890000   \n",
       "3                4.910000                   4.890000               4.930000   \n",
       "4                4.787037                   4.699627               4.874502   \n",
       "\n",
       "   review_scores_communication  review_scores_location  review_scores_value  \\\n",
       "0                     4.854086                4.856884             4.666319   \n",
       "1                     4.854086                4.856884             4.666319   \n",
       "2                     4.780000                4.780000             4.890000   \n",
       "3                     4.870000                4.700000             4.570000   \n",
       "4                     4.854086                4.856884             4.666319   \n",
       "\n",
       "  instant_bookable  reviews_per_month  \n",
       "0                f               0.00  \n",
       "1                f               0.00  \n",
       "2                f               1.16  \n",
       "3                f               0.64  \n",
       "4                f               0.00  "
      ]
     },
     "execution_count": 9,
     "metadata": {},
     "output_type": "execute_result"
    }
   ],
   "source": [
    "#removing unwanted columns for problem statement 1 : Larger properties should receive more review as per accomodation\n",
    "#columns defining larger property are filtered\n",
    "df1 = df[['property_type', 'room_type', 'accommodates',\n",
    "       'bathrooms_text', 'bedrooms', 'beds', 'price','review_scores_rating',\n",
    "       'review_scores_accuracy', 'review_scores_cleanliness',\n",
    "       'review_scores_checkin', 'review_scores_communication',\n",
    "       'review_scores_location', 'review_scores_value','instant_bookable',\n",
    "       'reviews_per_month']]\n",
    "df1.info()\n",
    "df1.head()"
   ]
  },
  {
   "cell_type": "code",
   "execution_count": 10,
   "id": "7e5be859",
   "metadata": {},
   "outputs": [
    {
     "data": {
      "text/plain": [
       "Entire home/apt    19134\n",
       "Private room        5230\n",
       "Shared room          450\n",
       "Hotel room            67\n",
       "nan                    5\n",
       "Name: room_type, dtype: int64"
      ]
     },
     "execution_count": 10,
     "metadata": {},
     "output_type": "execute_result"
    },
    {
     "data": {
      "text/plain": [
       "Entire rental unit             14315\n",
       "Private room in rental unit     3043\n",
       "Entire condo                    1707\n",
       "Entire home                     1139\n",
       "Private room in home             974\n",
       "                               ...  \n",
       "364                                1\n",
       "Shared room in nature lodge        1\n",
       "Yurt                               1\n",
       "Shared room in cottage             1\n",
       "Room in nature lodge               1\n",
       "Name: property_type, Length: 84, dtype: int64"
      ]
     },
     "execution_count": 10,
     "metadata": {},
     "output_type": "execute_result"
    },
    {
     "data": {
      "text/plain": [
       "4     6948\n",
       "2     6361\n",
       "6     3090\n",
       "3     2720\n",
       "5     1942\n",
       "1     1157\n",
       "8      924\n",
       "7      535\n",
       "10     465\n",
       "12     195\n",
       "16     182\n",
       "9      158\n",
       "14      69\n",
       "15      54\n",
       "13      37\n",
       "11      36\n",
       "0       13\n",
       "Name: accommodates, dtype: int64"
      ]
     },
     "execution_count": 10,
     "metadata": {},
     "output_type": "execute_result"
    },
    {
     "data": {
      "text/plain": [
       "property_type                    85\n",
       "room_type                         5\n",
       "accommodates                     17\n",
       "bathrooms_text                   50\n",
       "bedrooms                         19\n",
       "beds                             41\n",
       "price                          1664\n",
       "review_scores_rating            136\n",
       "review_scores_accuracy          127\n",
       "review_scores_cleanliness       164\n",
       "review_scores_checkin           116\n",
       "review_scores_communication     125\n",
       "review_scores_location          122\n",
       "review_scores_value             142\n",
       "instant_bookable                  3\n",
       "reviews_per_month               569\n",
       "dtype: int64"
      ]
     },
     "execution_count": 10,
     "metadata": {},
     "output_type": "execute_result"
    },
    {
     "data": {
      "text/html": [
       "<div>\n",
       "<style scoped>\n",
       "    .dataframe tbody tr th:only-of-type {\n",
       "        vertical-align: middle;\n",
       "    }\n",
       "\n",
       "    .dataframe tbody tr th {\n",
       "        vertical-align: top;\n",
       "    }\n",
       "\n",
       "    .dataframe thead th {\n",
       "        text-align: right;\n",
       "    }\n",
       "</style>\n",
       "<table border=\"1\" class=\"dataframe\">\n",
       "  <thead>\n",
       "    <tr style=\"text-align: right;\">\n",
       "      <th></th>\n",
       "      <th>property_type</th>\n",
       "      <th>accommodates</th>\n",
       "      <th>bathrooms_text</th>\n",
       "      <th>bedrooms</th>\n",
       "      <th>beds</th>\n",
       "      <th>price</th>\n",
       "      <th>review_scores_rating</th>\n",
       "      <th>review_scores_accuracy</th>\n",
       "      <th>review_scores_cleanliness</th>\n",
       "      <th>review_scores_checkin</th>\n",
       "      <th>review_scores_communication</th>\n",
       "      <th>review_scores_location</th>\n",
       "      <th>review_scores_value</th>\n",
       "      <th>instant_bookable</th>\n",
       "      <th>reviews_per_month</th>\n",
       "      <th>room_type_Entire home/apt</th>\n",
       "      <th>room_type_Hotel room</th>\n",
       "      <th>room_type_Private room</th>\n",
       "      <th>room_type_Shared room</th>\n",
       "      <th>room_type_nan</th>\n",
       "    </tr>\n",
       "  </thead>\n",
       "  <tbody>\n",
       "    <tr>\n",
       "      <th>0</th>\n",
       "      <td>Private room in rental unit</td>\n",
       "      <td>2</td>\n",
       "      <td>1 bath</td>\n",
       "      <td>1</td>\n",
       "      <td>1</td>\n",
       "      <td>150.0</td>\n",
       "      <td>4.678449</td>\n",
       "      <td>4.787037</td>\n",
       "      <td>4.699627</td>\n",
       "      <td>4.874502</td>\n",
       "      <td>4.854086</td>\n",
       "      <td>4.856884</td>\n",
       "      <td>4.666319</td>\n",
       "      <td>f</td>\n",
       "      <td>0.00</td>\n",
       "      <td>0</td>\n",
       "      <td>0</td>\n",
       "      <td>1</td>\n",
       "      <td>0</td>\n",
       "      <td>0</td>\n",
       "    </tr>\n",
       "    <tr>\n",
       "      <th>1</th>\n",
       "      <td>Entire condo</td>\n",
       "      <td>4</td>\n",
       "      <td>2 baths</td>\n",
       "      <td>2</td>\n",
       "      <td>2</td>\n",
       "      <td>450.0</td>\n",
       "      <td>4.678449</td>\n",
       "      <td>4.787037</td>\n",
       "      <td>4.699627</td>\n",
       "      <td>4.874502</td>\n",
       "      <td>4.854086</td>\n",
       "      <td>4.856884</td>\n",
       "      <td>4.666319</td>\n",
       "      <td>f</td>\n",
       "      <td>0.00</td>\n",
       "      <td>1</td>\n",
       "      <td>0</td>\n",
       "      <td>0</td>\n",
       "      <td>0</td>\n",
       "      <td>0</td>\n",
       "    </tr>\n",
       "    <tr>\n",
       "      <th>2</th>\n",
       "      <td>Entire rental unit</td>\n",
       "      <td>5</td>\n",
       "      <td>1 bath</td>\n",
       "      <td>2</td>\n",
       "      <td>5</td>\n",
       "      <td>350.0</td>\n",
       "      <td>5.000000</td>\n",
       "      <td>5.000000</td>\n",
       "      <td>5.000000</td>\n",
       "      <td>4.890000</td>\n",
       "      <td>4.780000</td>\n",
       "      <td>4.780000</td>\n",
       "      <td>4.890000</td>\n",
       "      <td>f</td>\n",
       "      <td>1.16</td>\n",
       "      <td>1</td>\n",
       "      <td>0</td>\n",
       "      <td>0</td>\n",
       "      <td>0</td>\n",
       "      <td>0</td>\n",
       "    </tr>\n",
       "    <tr>\n",
       "      <th>3</th>\n",
       "      <td>Entire home</td>\n",
       "      <td>3</td>\n",
       "      <td>1 bath</td>\n",
       "      <td>1</td>\n",
       "      <td>2</td>\n",
       "      <td>145.0</td>\n",
       "      <td>4.780000</td>\n",
       "      <td>4.910000</td>\n",
       "      <td>4.890000</td>\n",
       "      <td>4.930000</td>\n",
       "      <td>4.870000</td>\n",
       "      <td>4.700000</td>\n",
       "      <td>4.570000</td>\n",
       "      <td>f</td>\n",
       "      <td>0.64</td>\n",
       "      <td>1</td>\n",
       "      <td>0</td>\n",
       "      <td>0</td>\n",
       "      <td>0</td>\n",
       "      <td>0</td>\n",
       "    </tr>\n",
       "    <tr>\n",
       "      <th>4</th>\n",
       "      <td>Private room in bed and breakfast</td>\n",
       "      <td>4</td>\n",
       "      <td>1.5 baths</td>\n",
       "      <td>2</td>\n",
       "      <td>3</td>\n",
       "      <td>180.0</td>\n",
       "      <td>4.678449</td>\n",
       "      <td>4.787037</td>\n",
       "      <td>4.699627</td>\n",
       "      <td>4.874502</td>\n",
       "      <td>4.854086</td>\n",
       "      <td>4.856884</td>\n",
       "      <td>4.666319</td>\n",
       "      <td>f</td>\n",
       "      <td>0.00</td>\n",
       "      <td>0</td>\n",
       "      <td>0</td>\n",
       "      <td>1</td>\n",
       "      <td>0</td>\n",
       "      <td>0</td>\n",
       "    </tr>\n",
       "  </tbody>\n",
       "</table>\n",
       "</div>"
      ],
      "text/plain": [
       "                       property_type  accommodates bathrooms_text  bedrooms  \\\n",
       "0        Private room in rental unit             2         1 bath         1   \n",
       "1                       Entire condo             4        2 baths         2   \n",
       "2                 Entire rental unit             5         1 bath         2   \n",
       "3                        Entire home             3         1 bath         1   \n",
       "4  Private room in bed and breakfast             4      1.5 baths         2   \n",
       "\n",
       "   beds  price  review_scores_rating  review_scores_accuracy  \\\n",
       "0     1  150.0              4.678449                4.787037   \n",
       "1     2  450.0              4.678449                4.787037   \n",
       "2     5  350.0              5.000000                5.000000   \n",
       "3     2  145.0              4.780000                4.910000   \n",
       "4     3  180.0              4.678449                4.787037   \n",
       "\n",
       "   review_scores_cleanliness  review_scores_checkin  \\\n",
       "0                   4.699627               4.874502   \n",
       "1                   4.699627               4.874502   \n",
       "2                   5.000000               4.890000   \n",
       "3                   4.890000               4.930000   \n",
       "4                   4.699627               4.874502   \n",
       "\n",
       "   review_scores_communication  review_scores_location  review_scores_value  \\\n",
       "0                     4.854086                4.856884             4.666319   \n",
       "1                     4.854086                4.856884             4.666319   \n",
       "2                     4.780000                4.780000             4.890000   \n",
       "3                     4.870000                4.700000             4.570000   \n",
       "4                     4.854086                4.856884             4.666319   \n",
       "\n",
       "  instant_bookable  reviews_per_month  room_type_Entire home/apt  \\\n",
       "0                f               0.00                          0   \n",
       "1                f               0.00                          1   \n",
       "2                f               1.16                          1   \n",
       "3                f               0.64                          1   \n",
       "4                f               0.00                          0   \n",
       "\n",
       "   room_type_Hotel room  room_type_Private room  room_type_Shared room  \\\n",
       "0                     0                       1                      0   \n",
       "1                     0                       0                      0   \n",
       "2                     0                       0                      0   \n",
       "3                     0                       0                      0   \n",
       "4                     0                       1                      0   \n",
       "\n",
       "   room_type_nan  \n",
       "0              0  \n",
       "1              0  \n",
       "2              0  \n",
       "3              0  \n",
       "4              0  "
      ]
     },
     "execution_count": 10,
     "metadata": {},
     "output_type": "execute_result"
    },
    {
     "name": "stdout",
     "output_type": "stream",
     "text": [
      "<class 'pandas.core.frame.DataFrame'>\n",
      "RangeIndex: 24886 entries, 0 to 24885\n",
      "Data columns (total 16 columns):\n",
      " #   Column                       Non-Null Count  Dtype  \n",
      "---  ------                       --------------  -----  \n",
      " 0   property_type                24881 non-null  object \n",
      " 1   room_type                    24886 non-null  object \n",
      " 2   accommodates                 24886 non-null  int64  \n",
      " 3   bathrooms_text               24828 non-null  object \n",
      " 4   bedrooms                     24886 non-null  int64  \n",
      " 5   beds                         24886 non-null  int64  \n",
      " 6   price                        24880 non-null  float64\n",
      " 7   review_scores_rating         24886 non-null  float64\n",
      " 8   review_scores_accuracy       24886 non-null  float64\n",
      " 9   review_scores_cleanliness    24886 non-null  float64\n",
      " 10  review_scores_checkin        24886 non-null  float64\n",
      " 11  review_scores_communication  24886 non-null  float64\n",
      " 12  review_scores_location       24886 non-null  float64\n",
      " 13  review_scores_value          24886 non-null  float64\n",
      " 14  instant_bookable             24880 non-null  object \n",
      " 15  reviews_per_month            24886 non-null  float64\n",
      "dtypes: float64(9), int64(3), object(4)\n",
      "memory usage: 3.0+ MB\n",
      "<class 'pandas.core.frame.DataFrame'>\n",
      "RangeIndex: 24886 entries, 0 to 24885\n",
      "Data columns (total 20 columns):\n",
      " #   Column                       Non-Null Count  Dtype  \n",
      "---  ------                       --------------  -----  \n",
      " 0   property_type                24881 non-null  object \n",
      " 1   accommodates                 24886 non-null  int64  \n",
      " 2   bathrooms_text               24828 non-null  object \n",
      " 3   bedrooms                     24886 non-null  int64  \n",
      " 4   beds                         24886 non-null  int64  \n",
      " 5   price                        24880 non-null  float64\n",
      " 6   review_scores_rating         24886 non-null  float64\n",
      " 7   review_scores_accuracy       24886 non-null  float64\n",
      " 8   review_scores_cleanliness    24886 non-null  float64\n",
      " 9   review_scores_checkin        24886 non-null  float64\n",
      " 10  review_scores_communication  24886 non-null  float64\n",
      " 11  review_scores_location       24886 non-null  float64\n",
      " 12  review_scores_value          24886 non-null  float64\n",
      " 13  instant_bookable             24880 non-null  object \n",
      " 14  reviews_per_month            24886 non-null  float64\n",
      " 15  room_type_Entire home/apt    24886 non-null  uint8  \n",
      " 16  room_type_Hotel room         24886 non-null  uint8  \n",
      " 17  room_type_Private room       24886 non-null  uint8  \n",
      " 18  room_type_Shared room        24886 non-null  uint8  \n",
      " 19  room_type_nan                24886 non-null  uint8  \n",
      "dtypes: float64(9), int64(3), object(3), uint8(5)\n",
      "memory usage: 3.0+ MB\n"
     ]
    }
   ],
   "source": [
    "#Categorical columns - \"property_type\" \"room_type\" \"bathrooms_text\" changing to One Hot encoding + get_dummies for these \n",
    "df1 = df1.replace(to_replace = {\"6/21/22\", 'nan'}, value =\"Entire home/apt\")\n",
    "df1['room_type'] =df1['room_type'].astype(str)\n",
    "df1['room_type'].value_counts() \n",
    "df1['property_type'].value_counts()\n",
    "df1['accommodates'].value_counts()\n",
    "\n",
    "df1.apply(lambda col: len(col.unique()))\n",
    "col = [\"room_type\"] \n",
    "df_room_type = pd.get_dummies(df1, columns = col, drop_first=False)\n",
    "\n",
    "col=[\"property_type\"]\n",
    "df_property_type = pd.get_dummies(df1, columns = col, drop_first=False)\n",
    "\n",
    "df_room_type.head()\n",
    "df1.info()\n",
    "df_room_type.info()"
   ]
  },
  {
   "cell_type": "code",
   "execution_count": 11,
   "id": "77c71f4b",
   "metadata": {},
   "outputs": [
    {
     "name": "stdout",
     "output_type": "stream",
     "text": [
      "<class 'pandas.core.frame.DataFrame'>\n",
      "RangeIndex: 24886 entries, 0 to 24885\n",
      "Data columns (total 99 columns):\n",
      " #   Column                                            Non-Null Count  Dtype  \n",
      "---  ------                                            --------------  -----  \n",
      " 0   room_type                                         24886 non-null  object \n",
      " 1   accommodates                                      24886 non-null  int64  \n",
      " 2   bathrooms_text                                    24828 non-null  object \n",
      " 3   bedrooms                                          24886 non-null  int64  \n",
      " 4   beds                                              24886 non-null  int64  \n",
      " 5   price                                             24880 non-null  float64\n",
      " 6   review_scores_rating                              24886 non-null  float64\n",
      " 7   review_scores_accuracy                            24886 non-null  float64\n",
      " 8   review_scores_cleanliness                         24886 non-null  float64\n",
      " 9   review_scores_checkin                             24886 non-null  float64\n",
      " 10  review_scores_communication                       24886 non-null  float64\n",
      " 11  review_scores_location                            24886 non-null  float64\n",
      " 12  review_scores_value                               24886 non-null  float64\n",
      " 13  instant_bookable                                  24880 non-null  object \n",
      " 14  reviews_per_month                                 24886 non-null  float64\n",
      " 15  property_type_364                                 24886 non-null  uint8  \n",
      " 16  property_type_Boat                                24886 non-null  uint8  \n",
      " 17  property_type_Campsite                            24886 non-null  uint8  \n",
      " 18  property_type_Casa particular                     24886 non-null  uint8  \n",
      " 19  property_type_Dome                                24886 non-null  uint8  \n",
      " 20  property_type_Earthen home                        24886 non-null  uint8  \n",
      " 21  property_type_Entire bed and breakfast            24886 non-null  uint8  \n",
      " 22  property_type_Entire bungalow                     24886 non-null  uint8  \n",
      " 23  property_type_Entire cabin                        24886 non-null  uint8  \n",
      " 24  property_type_Entire chalet                       24886 non-null  uint8  \n",
      " 25  property_type_Entire condo                        24886 non-null  uint8  \n",
      " 26  property_type_Entire cottage                      24886 non-null  uint8  \n",
      " 27  property_type_Entire guest suite                  24886 non-null  uint8  \n",
      " 28  property_type_Entire guesthouse                   24886 non-null  uint8  \n",
      " 29  property_type_Entire home                         24886 non-null  uint8  \n",
      " 30  property_type_Entire home/apt                     24886 non-null  uint8  \n",
      " 31  property_type_Entire loft                         24886 non-null  uint8  \n",
      " 32  property_type_Entire place                        24886 non-null  uint8  \n",
      " 33  property_type_Entire rental unit                  24886 non-null  uint8  \n",
      " 34  property_type_Entire serviced apartment           24886 non-null  uint8  \n",
      " 35  property_type_Entire townhouse                    24886 non-null  uint8  \n",
      " 36  property_type_Entire vacation home                24886 non-null  uint8  \n",
      " 37  property_type_Entire villa                        24886 non-null  uint8  \n",
      " 38  property_type_Farm stay                           24886 non-null  uint8  \n",
      " 39  property_type_Floor                               24886 non-null  uint8  \n",
      " 40  property_type_Houseboat                           24886 non-null  uint8  \n",
      " 41  property_type_Private room                        24886 non-null  uint8  \n",
      " 42  property_type_Private room in barn                24886 non-null  uint8  \n",
      " 43  property_type_Private room in bed and breakfast   24886 non-null  uint8  \n",
      " 44  property_type_Private room in boat                24886 non-null  uint8  \n",
      " 45  property_type_Private room in bungalow            24886 non-null  uint8  \n",
      " 46  property_type_Private room in cabin               24886 non-null  uint8  \n",
      " 47  property_type_Private room in casa particular     24886 non-null  uint8  \n",
      " 48  property_type_Private room in castle              24886 non-null  uint8  \n",
      " 49  property_type_Private room in chalet              24886 non-null  uint8  \n",
      " 50  property_type_Private room in condo               24886 non-null  uint8  \n",
      " 51  property_type_Private room in cottage             24886 non-null  uint8  \n",
      " 52  property_type_Private room in earthen home        24886 non-null  uint8  \n",
      " 53  property_type_Private room in farm stay           24886 non-null  uint8  \n",
      " 54  property_type_Private room in floor               24886 non-null  uint8  \n",
      " 55  property_type_Private room in guest suite         24886 non-null  uint8  \n",
      " 56  property_type_Private room in guesthouse          24886 non-null  uint8  \n",
      " 57  property_type_Private room in home                24886 non-null  uint8  \n",
      " 58  property_type_Private room in hostel              24886 non-null  uint8  \n",
      " 59  property_type_Private room in loft                24886 non-null  uint8  \n",
      " 60  property_type_Private room in nature lodge        24886 non-null  uint8  \n",
      " 61  property_type_Private room in rental unit         24886 non-null  uint8  \n",
      " 62  property_type_Private room in resort              24886 non-null  uint8  \n",
      " 63  property_type_Private room in serviced apartment  24886 non-null  uint8  \n",
      " 64  property_type_Private room in tent                24886 non-null  uint8  \n",
      " 65  property_type_Private room in tiny home           24886 non-null  uint8  \n",
      " 66  property_type_Private room in townhouse           24886 non-null  uint8  \n",
      " 67  property_type_Private room in treehouse           24886 non-null  uint8  \n",
      " 68  property_type_Private room in vacation home       24886 non-null  uint8  \n",
      " 69  property_type_Private room in villa               24886 non-null  uint8  \n",
      " 70  property_type_Room in aparthotel                  24886 non-null  uint8  \n",
      " 71  property_type_Room in bed and breakfast           24886 non-null  uint8  \n",
      " 72  property_type_Room in boutique hotel              24886 non-null  uint8  \n",
      " 73  property_type_Room in hostel                      24886 non-null  uint8  \n",
      " 74  property_type_Room in hotel                       24886 non-null  uint8  \n",
      " 75  property_type_Room in nature lodge                24886 non-null  uint8  \n",
      " 76  property_type_Room in serviced apartment          24886 non-null  uint8  \n",
      " 77  property_type_Shared room                         24886 non-null  uint8  \n",
      " 78  property_type_Shared room in bed and breakfast    24886 non-null  uint8  \n",
      " 79  property_type_Shared room in boutique hotel       24886 non-null  uint8  \n",
      " 80  property_type_Shared room in bungalow             24886 non-null  uint8  \n",
      " 81  property_type_Shared room in casa particular      24886 non-null  uint8  \n",
      " 82  property_type_Shared room in condo                24886 non-null  uint8  \n",
      " 83  property_type_Shared room in cottage              24886 non-null  uint8  \n",
      " 84  property_type_Shared room in earthen home         24886 non-null  uint8  \n",
      " 85  property_type_Shared room in guest suite          24886 non-null  uint8  \n",
      " 86  property_type_Shared room in guesthouse           24886 non-null  uint8  \n",
      " 87  property_type_Shared room in home                 24886 non-null  uint8  \n",
      " 88  property_type_Shared room in hostel               24886 non-null  uint8  \n",
      " 89  property_type_Shared room in loft                 24886 non-null  uint8  \n",
      " 90  property_type_Shared room in nature lodge         24886 non-null  uint8  \n",
      " 91  property_type_Shared room in rental unit          24886 non-null  uint8  \n",
      " 92  property_type_Shared room in serviced apartment   24886 non-null  uint8  \n",
      " 93  property_type_Shared room in tiny home            24886 non-null  uint8  \n",
      " 94  property_type_Shared room in villa                24886 non-null  uint8  \n",
      " 95  property_type_Shipping container                  24886 non-null  uint8  \n",
      " 96  property_type_Tiny home                           24886 non-null  uint8  \n",
      " 97  property_type_Treehouse                           24886 non-null  uint8  \n",
      " 98  property_type_Yurt                                24886 non-null  uint8  \n",
      "dtypes: float64(9), int64(3), object(3), uint8(84)\n",
      "memory usage: 4.8+ MB\n"
     ]
    }
   ],
   "source": [
    "df_property_type.info()"
   ]
  },
  {
   "cell_type": "code",
   "execution_count": 12,
   "id": "d72d3a1f",
   "metadata": {
    "scrolled": true
   },
   "outputs": [
    {
     "data": {
      "text/plain": [
       "array([[<AxesSubplot:title={'center':'accommodates'}>,\n",
       "        <AxesSubplot:title={'center':'bedrooms'}>,\n",
       "        <AxesSubplot:title={'center':'beds'}>,\n",
       "        <AxesSubplot:title={'center':'price'}>],\n",
       "       [<AxesSubplot:title={'center':'review_scores_rating'}>,\n",
       "        <AxesSubplot:title={'center':'review_scores_accuracy'}>,\n",
       "        <AxesSubplot:title={'center':'review_scores_cleanliness'}>,\n",
       "        <AxesSubplot:title={'center':'review_scores_checkin'}>],\n",
       "       [<AxesSubplot:title={'center':'review_scores_communication'}>,\n",
       "        <AxesSubplot:title={'center':'review_scores_location'}>,\n",
       "        <AxesSubplot:title={'center':'review_scores_value'}>,\n",
       "        <AxesSubplot:title={'center':'reviews_per_month'}>],\n",
       "       [<AxesSubplot:title={'center':'room_type_Entire home/apt'}>,\n",
       "        <AxesSubplot:title={'center':'room_type_Hotel room'}>,\n",
       "        <AxesSubplot:title={'center':'room_type_Private room'}>,\n",
       "        <AxesSubplot:title={'center':'room_type_Shared room'}>],\n",
       "       [<AxesSubplot:title={'center':'room_type_nan'}>, <AxesSubplot:>,\n",
       "        <AxesSubplot:>, <AxesSubplot:>]], dtype=object)"
      ]
     },
     "execution_count": 12,
     "metadata": {},
     "output_type": "execute_result"
    },
    {
     "data": {
      "image/png": "[encoded data removed]",
      "text/plain": [
       "<Figure size 1080x1080 with 20 Axes>"
      ]
     },
     "metadata": {
      "needs_background": "light"
     },
     "output_type": "display_data"
    }
   ],
   "source": [
    "#converting property_type and room_type to specific encoding and then get dummies to add for correlation \n",
    "#\"property_type\" \"room_type\" \"bathroom_text\" \n",
    "df_room_type.hist(bins=20, figsize=(15,15))\n",
    "plt.show()"
   ]
  },
  {
   "cell_type": "code",
   "execution_count": 13,
   "id": "6fa8a5c3",
   "metadata": {
    "scrolled": true
   },
   "outputs": [
    {
     "data": {
      "text/plain": [
       "<AxesSubplot:title={'center':'Roomtype vs accomodation capacity'}, xlabel='Room types', ylabel='Accomodations'>"
      ]
     },
     "execution_count": 13,
     "metadata": {},
     "output_type": "execute_result"
    },
    {
     "data": {
      "image/png": "[encoded data removed]",
      "text/plain": [
       "<Figure size 432x360 with 1 Axes>"
      ]
     },
     "metadata": {
      "needs_background": "light"
     },
     "output_type": "display_data"
    }
   ],
   "source": [
    "g = df1.groupby(['room_type'])['accommodates'].mean()\n",
    "g.plot(kind='bar', title='Roomtype vs accomodation capacity', ylabel='Accomodations',\n",
    "         xlabel='Room types', figsize=(6, 5))"
   ]
  },
  {
   "cell_type": "code",
   "execution_count": 14,
   "id": "5ee074c1",
   "metadata": {},
   "outputs": [
    {
     "data": {
      "text/plain": [
       "<AxesSubplot:title={'center':'Room type vs Reviews per month'}, xlabel='Room types', ylabel='Reviews per momth'>"
      ]
     },
     "execution_count": 14,
     "metadata": {},
     "output_type": "execute_result"
    },
    {
     "data": {
      "image/png": "[encoded data removed]",
      "text/plain": [
       "<Figure size 432x360 with 1 Axes>"
      ]
     },
     "metadata": {
      "needs_background": "light"
     },
     "output_type": "display_data"
    }
   ],
   "source": [
    "g = df1.groupby(['room_type'])['reviews_per_month'].mean()\n",
    "g.plot(kind='bar', title='Room type vs Reviews per month', ylabel='Reviews per momth',\n",
    "         xlabel='Room types', figsize=(6, 5))"
   ]
  },
  {
   "cell_type": "code",
   "execution_count": 15,
   "id": "0bcc9e44",
   "metadata": {},
   "outputs": [
    {
     "data": {
      "text/plain": [
       "<AxesSubplot:title={'center':'Property Prices'}, xlabel='Room Types', ylabel='Prices'>"
      ]
     },
     "execution_count": 15,
     "metadata": {},
     "output_type": "execute_result"
    },
    {
     "data": {
      "image/png": "[encoded data removed]",
      "text/plain": [
       "<Figure size 432x360 with 1 Axes>"
      ]
     },
     "metadata": {
      "needs_background": "light"
     },
     "output_type": "display_data"
    }
   ],
   "source": [
    "g = df1.groupby(['room_type'])['price'].mean()\n",
    "g.plot(kind='bar', title='Property Prices', ylabel='Prices',\n",
    "         xlabel='Room Types', figsize=(6, 5))"
   ]
  },
  {
   "cell_type": "code",
   "execution_count": 16,
   "id": "86d39776",
   "metadata": {},
   "outputs": [
    {
     "data": {
      "text/plain": [
       "<AxesSubplot:>"
      ]
     },
     "execution_count": 16,
     "metadata": {},
     "output_type": "execute_result"
    },
    {
     "data": {
      "image/png": "[encoded data removed]",
      "text/plain": [
       "<Figure size 432x288 with 2 Axes>"
      ]
     },
     "metadata": {
      "needs_background": "light"
     },
     "output_type": "display_data"
    }
   ],
   "source": [
    "corr = df_room_type[['room_type_Entire home/apt','room_type_Hotel room','room_type_Private room','room_type_Shared room','accommodates','reviews_per_month']].corr()\n",
    "sns.heatmap(corr, annot=True)\n",
    "plt.show()"
   ]
  },
  {
   "cell_type": "code",
   "execution_count": 17,
   "id": "d0a10de2",
   "metadata": {},
   "outputs": [
    {
     "data": {
      "text/plain": [
       "<AxesSubplot:title={'center':'Property accomodation'}, xlabel='Property types', ylabel='Accomodations'>"
      ]
     },
     "execution_count": 17,
     "metadata": {},
     "output_type": "execute_result"
    },
    {
     "data": {
      "image/png": "[encoded data removed]",
      "text/plain": [
       "<Figure size 432x360 with 1 Axes>"
      ]
     },
     "metadata": {
      "needs_background": "light"
     },
     "output_type": "display_data"
    }
   ],
   "source": [
    "\n",
    "g = df1.groupby(['property_type'])['price'].mean()\n",
    "g.plot(kind='bar', title='Property accomodation', ylabel='Accomodations',\n",
    "         xlabel='Property types', figsize=(6, 5))"
   ]
  },
  {
   "cell_type": "code",
   "execution_count": 18,
   "id": "bcde9a04",
   "metadata": {},
   "outputs": [
    {
     "data": {
      "text/plain": [
       "<AxesSubplot:xlabel='accommodates', ylabel='price'>"
      ]
     },
     "execution_count": 18,
     "metadata": {},
     "output_type": "execute_result"
    },
    {
     "data": {
      "image/png": "[encoded data removed]",
      "text/plain": [
       "<Figure size 432x288 with 1 Axes>"
      ]
     },
     "metadata": {
      "needs_background": "light"
     },
     "output_type": "display_data"
    }
   ],
   "source": [
    "sns.scatterplot(x=df1.accommodates, y=df1.price, hue=df1.instant_bookable,s=70)"
   ]
  },
  {
   "cell_type": "markdown",
   "id": "16334b1c",
   "metadata": {},
   "source": [
    "# corr_matrix =df1.corr()\n",
    "import seaborn as sn\n",
    "import matplotlib.pyplot as plt\n",
    "sn.heatmap(corr_matrix, annot=True)\n",
    "plt.show()\n",
    "#df1['property_type'].value_counts()\n",
    "\n",
    "\n",
    "#df1.plot(x='property_type', y = 'accommodates', kind='scatter')\n",
    "#df.groupby(['property_type']).size().unstack(fill_value=0‌​).plot.bar()\n",
    "#pd.crosstab(df['property_type'],df['accommodates']).plot.bar()\n",
    "#plt.show()"
   ]
  },
  {
   "cell_type": "code",
   "execution_count": 19,
   "id": "fecbeadc",
   "metadata": {},
   "outputs": [
    {
     "name": "stdout",
     "output_type": "stream",
     "text": [
      "<class 'pandas.core.frame.DataFrame'>\n",
      "RangeIndex: 24886 entries, 0 to 24885\n",
      "Data columns (total 16 columns):\n",
      " #   Column                       Non-Null Count  Dtype  \n",
      "---  ------                       --------------  -----  \n",
      " 0   property_type                24881 non-null  object \n",
      " 1   room_type                    24886 non-null  object \n",
      " 2   accommodates                 24886 non-null  int64  \n",
      " 3   bathrooms_text               24828 non-null  object \n",
      " 4   bedrooms                     24886 non-null  int64  \n",
      " 5   beds                         24886 non-null  int64  \n",
      " 6   price                        24880 non-null  float64\n",
      " 7   review_scores_rating         24886 non-null  float64\n",
      " 8   review_scores_accuracy       24886 non-null  float64\n",
      " 9   review_scores_cleanliness    24886 non-null  float64\n",
      " 10  review_scores_checkin        24886 non-null  float64\n",
      " 11  review_scores_communication  24886 non-null  float64\n",
      " 12  review_scores_location       24886 non-null  float64\n",
      " 13  review_scores_value          24886 non-null  float64\n",
      " 14  instant_bookable             24880 non-null  object \n",
      " 15  reviews_per_month            24886 non-null  float64\n",
      "dtypes: float64(9), int64(3), object(4)\n",
      "memory usage: 3.0+ MB\n"
     ]
    },
    {
     "data": {
      "text/plain": [
       "<AxesSubplot:ylabel='Frequency'>"
      ]
     },
     "execution_count": 19,
     "metadata": {},
     "output_type": "execute_result"
    },
    {
     "data": {
      "image/png": "[encoded data removed]",
      "text/plain": [
       "<Figure size 432x288 with 1 Axes>"
      ]
     },
     "metadata": {
      "needs_background": "light"
     },
     "output_type": "display_data"
    }
   ],
   "source": [
    "#df1.plot(x='accommodates', y =['property_type', 'room_type'], kind='scatter')\n",
    "df1.info()\n",
    "#df1['accommodates']= df1['accommodates'].astype(int)\n",
    "\n",
    "df1.plot(x='room_type', y='accommodates', kind='hist')\n",
    "plt.show()"
   ]
  },
  {
   "cell_type": "code",
   "execution_count": 20,
   "id": "751b94bd",
   "metadata": {},
   "outputs": [
    {
     "data": {
      "text/plain": [
       "<AxesSubplot:xlabel='beds', ylabel='reviews_per_month'>"
      ]
     },
     "execution_count": 20,
     "metadata": {},
     "output_type": "execute_result"
    },
    {
     "data": {
      "image/png": "[encoded data removed]",
      "text/plain": [
       "<Figure size 432x288 with 1 Axes>"
      ]
     },
     "metadata": {
      "needs_background": "light"
     },
     "output_type": "display_data"
    }
   ],
   "source": [
    "df1.plot(x='beds', y = 'reviews_per_month', kind='scatter')\n",
    "plt.show()"
   ]
  },
  {
   "cell_type": "code",
   "execution_count": 21,
   "id": "0d0a58c6",
   "metadata": {},
   "outputs": [
    {
     "data": {
      "text/plain": [
       "<AxesSubplot:xlabel='bedrooms', ylabel='reviews_per_month'>"
      ]
     },
     "execution_count": 21,
     "metadata": {},
     "output_type": "execute_result"
    },
    {
     "data": {
      "image/png": "[encoded data removed]",
      "text/plain": [
       "<Figure size 432x288 with 1 Axes>"
      ]
     },
     "metadata": {
      "needs_background": "light"
     },
     "output_type": "display_data"
    }
   ],
   "source": [
    "df1.plot(x='bedrooms', y = 'reviews_per_month', kind='scatter', legend=True)\n",
    "plt.show()"
   ]
  },
  {
   "cell_type": "code",
   "execution_count": 22,
   "id": "fe6b319f",
   "metadata": {},
   "outputs": [
    {
     "data": {
      "text/plain": [
       "<AxesSubplot:ylabel='Frequency'>"
      ]
     },
     "execution_count": 22,
     "metadata": {},
     "output_type": "execute_result"
    },
    {
     "data": {
      "image/png": "[encoded data removed]",
      "text/plain": [
       "<Figure size 432x288 with 1 Axes>"
      ]
     },
     "metadata": {
      "needs_background": "light"
     },
     "output_type": "display_data"
    },
    {
     "data": {
      "text/html": [
       "<div>\n",
       "<style scoped>\n",
       "    .dataframe tbody tr th:only-of-type {\n",
       "        vertical-align: middle;\n",
       "    }\n",
       "\n",
       "    .dataframe tbody tr th {\n",
       "        vertical-align: top;\n",
       "    }\n",
       "\n",
       "    .dataframe thead th {\n",
       "        text-align: right;\n",
       "    }\n",
       "</style>\n",
       "<table border=\"1\" class=\"dataframe\">\n",
       "  <thead>\n",
       "    <tr style=\"text-align: right;\">\n",
       "      <th></th>\n",
       "      <th>id</th>\n",
       "      <th>host_name</th>\n",
       "      <th>host_since</th>\n",
       "      <th>host_response_time</th>\n",
       "      <th>host_response_rate</th>\n",
       "      <th>host_acceptance_rate</th>\n",
       "      <th>host_is_superhost</th>\n",
       "      <th>host_total_listings_count</th>\n",
       "      <th>host_has_profile_pic</th>\n",
       "      <th>host_identity_verified</th>\n",
       "      <th>...</th>\n",
       "      <th>price</th>\n",
       "      <th>review_scores_rating</th>\n",
       "      <th>review_scores_accuracy</th>\n",
       "      <th>review_scores_cleanliness</th>\n",
       "      <th>review_scores_checkin</th>\n",
       "      <th>review_scores_communication</th>\n",
       "      <th>review_scores_location</th>\n",
       "      <th>review_scores_value</th>\n",
       "      <th>instant_bookable</th>\n",
       "      <th>reviews_per_month</th>\n",
       "    </tr>\n",
       "  </thead>\n",
       "  <tbody>\n",
       "    <tr>\n",
       "      <th>0</th>\n",
       "      <td>15965441</td>\n",
       "      <td>José</td>\n",
       "      <td>11/14/16</td>\n",
       "      <td>within an hour</td>\n",
       "      <td>83%</td>\n",
       "      <td>0%</td>\n",
       "      <td>f</td>\n",
       "      <td>3.0</td>\n",
       "      <td>t</td>\n",
       "      <td>t</td>\n",
       "      <td>...</td>\n",
       "      <td>150.0</td>\n",
       "      <td>4.678449</td>\n",
       "      <td>4.787037</td>\n",
       "      <td>4.699627</td>\n",
       "      <td>4.874502</td>\n",
       "      <td>4.854086</td>\n",
       "      <td>4.856884</td>\n",
       "      <td>4.666319</td>\n",
       "      <td>f</td>\n",
       "      <td>0.00</td>\n",
       "    </tr>\n",
       "    <tr>\n",
       "      <th>1</th>\n",
       "      <td>47908784</td>\n",
       "      <td>Raquel</td>\n",
       "      <td>7/15/16</td>\n",
       "      <td>within a day</td>\n",
       "      <td>50%</td>\n",
       "      <td>100%</td>\n",
       "      <td>f</td>\n",
       "      <td>1.0</td>\n",
       "      <td>t</td>\n",
       "      <td>f</td>\n",
       "      <td>...</td>\n",
       "      <td>450.0</td>\n",
       "      <td>4.678449</td>\n",
       "      <td>4.787037</td>\n",
       "      <td>4.699627</td>\n",
       "      <td>4.874502</td>\n",
       "      <td>4.854086</td>\n",
       "      <td>4.856884</td>\n",
       "      <td>4.666319</td>\n",
       "      <td>f</td>\n",
       "      <td>0.00</td>\n",
       "    </tr>\n",
       "    <tr>\n",
       "      <th>2</th>\n",
       "      <td>52239613</td>\n",
       "      <td>Fabio</td>\n",
       "      <td>9/13/21</td>\n",
       "      <td>within a day</td>\n",
       "      <td>100%</td>\n",
       "      <td>89%</td>\n",
       "      <td>f</td>\n",
       "      <td>0.0</td>\n",
       "      <td>t</td>\n",
       "      <td>f</td>\n",
       "      <td>...</td>\n",
       "      <td>350.0</td>\n",
       "      <td>5.000000</td>\n",
       "      <td>5.000000</td>\n",
       "      <td>5.000000</td>\n",
       "      <td>4.890000</td>\n",
       "      <td>4.780000</td>\n",
       "      <td>4.780000</td>\n",
       "      <td>4.890000</td>\n",
       "      <td>f</td>\n",
       "      <td>1.16</td>\n",
       "    </tr>\n",
       "    <tr>\n",
       "      <th>3</th>\n",
       "      <td>10445855</td>\n",
       "      <td>Márcio</td>\n",
       "      <td>1/24/12</td>\n",
       "      <td>within an hour</td>\n",
       "      <td>100%</td>\n",
       "      <td>100%</td>\n",
       "      <td>f</td>\n",
       "      <td>2.0</td>\n",
       "      <td>t</td>\n",
       "      <td>t</td>\n",
       "      <td>...</td>\n",
       "      <td>145.0</td>\n",
       "      <td>4.780000</td>\n",
       "      <td>4.910000</td>\n",
       "      <td>4.890000</td>\n",
       "      <td>4.930000</td>\n",
       "      <td>4.870000</td>\n",
       "      <td>4.700000</td>\n",
       "      <td>4.570000</td>\n",
       "      <td>f</td>\n",
       "      <td>0.64</td>\n",
       "    </tr>\n",
       "    <tr>\n",
       "      <th>4</th>\n",
       "      <td>5.65E+17</td>\n",
       "      <td>Júlio</td>\n",
       "      <td>12/07/14</td>\n",
       "      <td>within an hour</td>\n",
       "      <td>100%</td>\n",
       "      <td>67%</td>\n",
       "      <td>f</td>\n",
       "      <td>0.0</td>\n",
       "      <td>t</td>\n",
       "      <td>t</td>\n",
       "      <td>...</td>\n",
       "      <td>180.0</td>\n",
       "      <td>4.678449</td>\n",
       "      <td>4.787037</td>\n",
       "      <td>4.699627</td>\n",
       "      <td>4.874502</td>\n",
       "      <td>4.854086</td>\n",
       "      <td>4.856884</td>\n",
       "      <td>4.666319</td>\n",
       "      <td>f</td>\n",
       "      <td>0.00</td>\n",
       "    </tr>\n",
       "  </tbody>\n",
       "</table>\n",
       "<p>5 rows × 29 columns</p>\n",
       "</div>"
      ],
      "text/plain": [
       "         id host_name host_since host_response_time host_response_rate  \\\n",
       "0  15965441      José   11/14/16     within an hour                83%   \n",
       "1  47908784    Raquel    7/15/16       within a day                50%   \n",
       "2  52239613     Fabio    9/13/21       within a day               100%   \n",
       "3  10445855    Márcio    1/24/12     within an hour               100%   \n",
       "4  5.65E+17     Júlio   12/07/14     within an hour               100%   \n",
       "\n",
       "  host_acceptance_rate host_is_superhost  host_total_listings_count  \\\n",
       "0                   0%                 f                        3.0   \n",
       "1                 100%                 f                        1.0   \n",
       "2                  89%                 f                        0.0   \n",
       "3                 100%                 f                        2.0   \n",
       "4                  67%                 f                        0.0   \n",
       "\n",
       "  host_has_profile_pic host_identity_verified  ...  price  \\\n",
       "0                    t                      t  ...  150.0   \n",
       "1                    t                      f  ...  450.0   \n",
       "2                    t                      f  ...  350.0   \n",
       "3                    t                      t  ...  145.0   \n",
       "4                    t                      t  ...  180.0   \n",
       "\n",
       "   review_scores_rating  review_scores_accuracy review_scores_cleanliness  \\\n",
       "0              4.678449                4.787037                  4.699627   \n",
       "1              4.678449                4.787037                  4.699627   \n",
       "2              5.000000                5.000000                  5.000000   \n",
       "3              4.780000                4.910000                  4.890000   \n",
       "4              4.678449                4.787037                  4.699627   \n",
       "\n",
       "  review_scores_checkin  review_scores_communication review_scores_location  \\\n",
       "0              4.874502                     4.854086               4.856884   \n",
       "1              4.874502                     4.854086               4.856884   \n",
       "2              4.890000                     4.780000               4.780000   \n",
       "3              4.930000                     4.870000               4.700000   \n",
       "4              4.874502                     4.854086               4.856884   \n",
       "\n",
       "   review_scores_value  instant_bookable  reviews_per_month  \n",
       "0             4.666319                 f               0.00  \n",
       "1             4.666319                 f               0.00  \n",
       "2             4.890000                 f               1.16  \n",
       "3             4.570000                 f               0.64  \n",
       "4             4.666319                 f               0.00  \n",
       "\n",
       "[5 rows x 29 columns]"
      ]
     },
     "execution_count": 22,
     "metadata": {},
     "output_type": "execute_result"
    },
    {
     "data": {
      "text/plain": [
       "room_type\n",
       "6/21/22            AxesSubplot(0.125,0.125;0.775x0.755)\n",
       "Entire home/apt    AxesSubplot(0.125,0.125;0.775x0.755)\n",
       "Hotel room         AxesSubplot(0.125,0.125;0.775x0.755)\n",
       "Private room       AxesSubplot(0.125,0.125;0.775x0.755)\n",
       "Shared room        AxesSubplot(0.125,0.125;0.775x0.755)\n",
       "Name: reviews_per_month, dtype: object"
      ]
     },
     "execution_count": 22,
     "metadata": {},
     "output_type": "execute_result"
    },
    {
     "data": {
      "image/png": "[encoded data removed]",
      "text/plain": [
       "<Figure size 432x288 with 1 Axes>"
      ]
     },
     "metadata": {
      "needs_background": "light"
     },
     "output_type": "display_data"
    }
   ],
   "source": [
    "df.plot(x='room_type', y = 'reviews_per_month', kind='hist')\n",
    "plt.show()\n",
    "\n",
    "df.head()\n",
    "#define index column\n",
    "df.set_index('accommodates', inplace=True)\n",
    "\n",
    "#group data by product and display sales as line chart\n",
    "df.groupby('room_type')['reviews_per_month'].plot(kind = 'hist', legend=True)"
   ]
  },
  {
   "cell_type": "code",
   "execution_count": 23,
   "id": "f6de30d5",
   "metadata": {},
   "outputs": [
    {
     "data": {
      "text/plain": [
       "Entire rental unit             14315\n",
       "Private room in rental unit     3043\n",
       "Entire condo                    1707\n",
       "Entire home                     1139\n",
       "Private room in home             974\n",
       "                               ...  \n",
       "364                                1\n",
       "Shared room in nature lodge        1\n",
       "Yurt                               1\n",
       "Shared room in cottage             1\n",
       "Room in nature lodge               1\n",
       "Name: property_type, Length: 84, dtype: int64"
      ]
     },
     "execution_count": 23,
     "metadata": {},
     "output_type": "execute_result"
    }
   ],
   "source": [
    "df1['property_type'].value_counts()"
   ]
  },
  {
   "cell_type": "code",
   "execution_count": 24,
   "id": "a53f28e1",
   "metadata": {},
   "outputs": [
    {
     "name": "stdout",
     "output_type": "stream",
     "text": [
      "<class 'pandas.core.frame.DataFrame'>\n",
      "RangeIndex: 24886 entries, 0 to 24885\n",
      "Data columns (total 20 columns):\n",
      " #   Column                       Non-Null Count  Dtype  \n",
      "---  ------                       --------------  -----  \n",
      " 0   property_type                24881 non-null  object \n",
      " 1   accommodates                 24886 non-null  int64  \n",
      " 2   bathrooms_text               24828 non-null  object \n",
      " 3   bedrooms                     24886 non-null  int64  \n",
      " 4   beds                         24886 non-null  int64  \n",
      " 5   price                        24880 non-null  float64\n",
      " 6   review_scores_rating         24886 non-null  float64\n",
      " 7   review_scores_accuracy       24886 non-null  float64\n",
      " 8   review_scores_cleanliness    24886 non-null  float64\n",
      " 9   review_scores_checkin        24886 non-null  float64\n",
      " 10  review_scores_communication  24886 non-null  float64\n",
      " 11  review_scores_location       24886 non-null  float64\n",
      " 12  review_scores_value          24886 non-null  float64\n",
      " 13  instant_bookable             24880 non-null  object \n",
      " 14  reviews_per_month            24886 non-null  float64\n",
      " 15  room_type_Entire home/apt    24886 non-null  uint8  \n",
      " 16  room_type_Hotel room         24886 non-null  uint8  \n",
      " 17  room_type_Private room       24886 non-null  uint8  \n",
      " 18  room_type_Shared room        24886 non-null  uint8  \n",
      " 19  room_type_nan                24886 non-null  uint8  \n",
      "dtypes: float64(9), int64(3), object(3), uint8(5)\n",
      "memory usage: 3.0+ MB\n"
     ]
    }
   ],
   "source": [
    "df_room_type.info()\n",
    "dfx = df_room_type[['accommodates','bedrooms','beds','price','review_scores_rating','review_scores_accuracy','review_scores_cleanliness','review_scores_checkin','review_scores_communication','review_scores_location','review_scores_value','reviews_per_month','room_type_Entire home/apt','room_type_Hotel room','room_type_Private room', 'room_type_Shared room']]"
   ]
  },
  {
   "cell_type": "code",
   "execution_count": 25,
   "id": "465d00b6",
   "metadata": {},
   "outputs": [
    {
     "data": {
      "text/html": [
       "<div>\n",
       "<style scoped>\n",
       "    .dataframe tbody tr th:only-of-type {\n",
       "        vertical-align: middle;\n",
       "    }\n",
       "\n",
       "    .dataframe tbody tr th {\n",
       "        vertical-align: top;\n",
       "    }\n",
       "\n",
       "    .dataframe thead th {\n",
       "        text-align: right;\n",
       "    }\n",
       "</style>\n",
       "<table border=\"1\" class=\"dataframe\">\n",
       "  <thead>\n",
       "    <tr style=\"text-align: right;\">\n",
       "      <th></th>\n",
       "      <th>accommodates</th>\n",
       "      <th>bedrooms</th>\n",
       "      <th>beds</th>\n",
       "      <th>price</th>\n",
       "      <th>review_scores_rating</th>\n",
       "      <th>review_scores_accuracy</th>\n",
       "      <th>review_scores_cleanliness</th>\n",
       "      <th>review_scores_checkin</th>\n",
       "      <th>review_scores_communication</th>\n",
       "      <th>review_scores_location</th>\n",
       "      <th>review_scores_value</th>\n",
       "      <th>reviews_per_month</th>\n",
       "      <th>room_type_Entire home/apt</th>\n",
       "      <th>room_type_Hotel room</th>\n",
       "      <th>room_type_Private room</th>\n",
       "      <th>room_type_Shared room</th>\n",
       "    </tr>\n",
       "  </thead>\n",
       "  <tbody>\n",
       "    <tr>\n",
       "      <th>count</th>\n",
       "      <td>24886.000000</td>\n",
       "      <td>24886.000000</td>\n",
       "      <td>24886.000000</td>\n",
       "      <td>24880.000000</td>\n",
       "      <td>24886.000000</td>\n",
       "      <td>24886.000000</td>\n",
       "      <td>24886.000000</td>\n",
       "      <td>24886.000000</td>\n",
       "      <td>24886.000000</td>\n",
       "      <td>24886.000000</td>\n",
       "      <td>24886.000000</td>\n",
       "      <td>24886.000000</td>\n",
       "      <td>24886.000000</td>\n",
       "      <td>24886.000000</td>\n",
       "      <td>24886.000000</td>\n",
       "      <td>24886.000000</td>\n",
       "    </tr>\n",
       "    <tr>\n",
       "      <th>mean</th>\n",
       "      <td>4.146709</td>\n",
       "      <td>1.606847</td>\n",
       "      <td>2.583581</td>\n",
       "      <td>745.423071</td>\n",
       "      <td>4.678449</td>\n",
       "      <td>4.787037</td>\n",
       "      <td>4.699627</td>\n",
       "      <td>4.874502</td>\n",
       "      <td>4.854086</td>\n",
       "      <td>4.856884</td>\n",
       "      <td>4.666319</td>\n",
       "      <td>0.562298</td>\n",
       "      <td>0.768866</td>\n",
       "      <td>0.002692</td>\n",
       "      <td>0.210158</td>\n",
       "      <td>0.018082</td>\n",
       "    </tr>\n",
       "    <tr>\n",
       "      <th>std</th>\n",
       "      <td>2.452878</td>\n",
       "      <td>1.131133</td>\n",
       "      <td>2.224452</td>\n",
       "      <td>4983.738386</td>\n",
       "      <td>0.611490</td>\n",
       "      <td>0.372759</td>\n",
       "      <td>0.417634</td>\n",
       "      <td>0.301269</td>\n",
       "      <td>0.327087</td>\n",
       "      <td>0.293793</td>\n",
       "      <td>0.398618</td>\n",
       "      <td>0.920987</td>\n",
       "      <td>0.421566</td>\n",
       "      <td>0.051818</td>\n",
       "      <td>0.407429</td>\n",
       "      <td>0.133252</td>\n",
       "    </tr>\n",
       "    <tr>\n",
       "      <th>min</th>\n",
       "      <td>0.000000</td>\n",
       "      <td>0.000000</td>\n",
       "      <td>0.000000</td>\n",
       "      <td>0.000000</td>\n",
       "      <td>0.000000</td>\n",
       "      <td>0.000000</td>\n",
       "      <td>0.000000</td>\n",
       "      <td>0.000000</td>\n",
       "      <td>1.000000</td>\n",
       "      <td>1.000000</td>\n",
       "      <td>1.000000</td>\n",
       "      <td>0.000000</td>\n",
       "      <td>0.000000</td>\n",
       "      <td>0.000000</td>\n",
       "      <td>0.000000</td>\n",
       "      <td>0.000000</td>\n",
       "    </tr>\n",
       "    <tr>\n",
       "      <th>25%</th>\n",
       "      <td>2.000000</td>\n",
       "      <td>1.000000</td>\n",
       "      <td>1.000000</td>\n",
       "      <td>180.000000</td>\n",
       "      <td>4.678449</td>\n",
       "      <td>4.787037</td>\n",
       "      <td>4.699627</td>\n",
       "      <td>4.874502</td>\n",
       "      <td>4.854086</td>\n",
       "      <td>4.856884</td>\n",
       "      <td>4.666319</td>\n",
       "      <td>0.000000</td>\n",
       "      <td>1.000000</td>\n",
       "      <td>0.000000</td>\n",
       "      <td>0.000000</td>\n",
       "      <td>0.000000</td>\n",
       "    </tr>\n",
       "    <tr>\n",
       "      <th>50%</th>\n",
       "      <td>4.000000</td>\n",
       "      <td>1.000000</td>\n",
       "      <td>2.000000</td>\n",
       "      <td>300.000000</td>\n",
       "      <td>4.700000</td>\n",
       "      <td>4.787037</td>\n",
       "      <td>4.699627</td>\n",
       "      <td>4.900000</td>\n",
       "      <td>4.880000</td>\n",
       "      <td>4.870000</td>\n",
       "      <td>4.666319</td>\n",
       "      <td>0.160000</td>\n",
       "      <td>1.000000</td>\n",
       "      <td>0.000000</td>\n",
       "      <td>0.000000</td>\n",
       "      <td>0.000000</td>\n",
       "    </tr>\n",
       "    <tr>\n",
       "      <th>75%</th>\n",
       "      <td>5.000000</td>\n",
       "      <td>2.000000</td>\n",
       "      <td>3.000000</td>\n",
       "      <td>600.000000</td>\n",
       "      <td>5.000000</td>\n",
       "      <td>5.000000</td>\n",
       "      <td>4.970000</td>\n",
       "      <td>5.000000</td>\n",
       "      <td>5.000000</td>\n",
       "      <td>5.000000</td>\n",
       "      <td>4.880000</td>\n",
       "      <td>0.750000</td>\n",
       "      <td>1.000000</td>\n",
       "      <td>0.000000</td>\n",
       "      <td>0.000000</td>\n",
       "      <td>0.000000</td>\n",
       "    </tr>\n",
       "    <tr>\n",
       "      <th>max</th>\n",
       "      <td>16.000000</td>\n",
       "      <td>47.000000</td>\n",
       "      <td>91.000000</td>\n",
       "      <td>591723.000000</td>\n",
       "      <td>5.000000</td>\n",
       "      <td>5.000000</td>\n",
       "      <td>5.000000</td>\n",
       "      <td>5.000000</td>\n",
       "      <td>5.000000</td>\n",
       "      <td>5.000000</td>\n",
       "      <td>5.000000</td>\n",
       "      <td>18.740000</td>\n",
       "      <td>1.000000</td>\n",
       "      <td>1.000000</td>\n",
       "      <td>1.000000</td>\n",
       "      <td>1.000000</td>\n",
       "    </tr>\n",
       "  </tbody>\n",
       "</table>\n",
       "</div>"
      ],
      "text/plain": [
       "       accommodates      bedrooms          beds          price  \\\n",
       "count  24886.000000  24886.000000  24886.000000   24880.000000   \n",
       "mean       4.146709      1.606847      2.583581     745.423071   \n",
       "std        2.452878      1.131133      2.224452    4983.738386   \n",
       "min        0.000000      0.000000      0.000000       0.000000   \n",
       "25%        2.000000      1.000000      1.000000     180.000000   \n",
       "50%        4.000000      1.000000      2.000000     300.000000   \n",
       "75%        5.000000      2.000000      3.000000     600.000000   \n",
       "max       16.000000     47.000000     91.000000  591723.000000   \n",
       "\n",
       "       review_scores_rating  review_scores_accuracy  \\\n",
       "count          24886.000000            24886.000000   \n",
       "mean               4.678449                4.787037   \n",
       "std                0.611490                0.372759   \n",
       "min                0.000000                0.000000   \n",
       "25%                4.678449                4.787037   \n",
       "50%                4.700000                4.787037   \n",
       "75%                5.000000                5.000000   \n",
       "max                5.000000                5.000000   \n",
       "\n",
       "       review_scores_cleanliness  review_scores_checkin  \\\n",
       "count               24886.000000           24886.000000   \n",
       "mean                    4.699627               4.874502   \n",
       "std                     0.417634               0.301269   \n",
       "min                     0.000000               0.000000   \n",
       "25%                     4.699627               4.874502   \n",
       "50%                     4.699627               4.900000   \n",
       "75%                     4.970000               5.000000   \n",
       "max                     5.000000               5.000000   \n",
       "\n",
       "       review_scores_communication  review_scores_location  \\\n",
       "count                 24886.000000            24886.000000   \n",
       "mean                      4.854086                4.856884   \n",
       "std                       0.327087                0.293793   \n",
       "min                       1.000000                1.000000   \n",
       "25%                       4.854086                4.856884   \n",
       "50%                       4.880000                4.870000   \n",
       "75%                       5.000000                5.000000   \n",
       "max                       5.000000                5.000000   \n",
       "\n",
       "       review_scores_value  reviews_per_month  room_type_Entire home/apt  \\\n",
       "count         24886.000000       24886.000000               24886.000000   \n",
       "mean              4.666319           0.562298                   0.768866   \n",
       "std               0.398618           0.920987                   0.421566   \n",
       "min               1.000000           0.000000                   0.000000   \n",
       "25%               4.666319           0.000000                   1.000000   \n",
       "50%               4.666319           0.160000                   1.000000   \n",
       "75%               4.880000           0.750000                   1.000000   \n",
       "max               5.000000          18.740000                   1.000000   \n",
       "\n",
       "       room_type_Hotel room  room_type_Private room  room_type_Shared room  \n",
       "count          24886.000000            24886.000000           24886.000000  \n",
       "mean               0.002692                0.210158               0.018082  \n",
       "std                0.051818                0.407429               0.133252  \n",
       "min                0.000000                0.000000               0.000000  \n",
       "25%                0.000000                0.000000               0.000000  \n",
       "50%                0.000000                0.000000               0.000000  \n",
       "75%                0.000000                0.000000               0.000000  \n",
       "max                1.000000                1.000000               1.000000  "
      ]
     },
     "execution_count": 25,
     "metadata": {},
     "output_type": "execute_result"
    },
    {
     "name": "stdout",
     "output_type": "stream",
     "text": [
      "<class 'pandas.core.frame.DataFrame'>\n",
      "RangeIndex: 24886 entries, 0 to 24885\n",
      "Data columns (total 16 columns):\n",
      " #   Column                       Non-Null Count  Dtype  \n",
      "---  ------                       --------------  -----  \n",
      " 0   accommodates                 24886 non-null  int64  \n",
      " 1   bedrooms                     24886 non-null  int64  \n",
      " 2   beds                         24886 non-null  int64  \n",
      " 3   price                        24880 non-null  float64\n",
      " 4   review_scores_rating         24886 non-null  float64\n",
      " 5   review_scores_accuracy       24886 non-null  float64\n",
      " 6   review_scores_cleanliness    24886 non-null  float64\n",
      " 7   review_scores_checkin        24886 non-null  float64\n",
      " 8   review_scores_communication  24886 non-null  float64\n",
      " 9   review_scores_location       24886 non-null  float64\n",
      " 10  review_scores_value          24886 non-null  float64\n",
      " 11  reviews_per_month            24886 non-null  float64\n",
      " 12  room_type_Entire home/apt    24886 non-null  uint8  \n",
      " 13  room_type_Hotel room         24886 non-null  uint8  \n",
      " 14  room_type_Private room       24886 non-null  uint8  \n",
      " 15  room_type_Shared room        24886 non-null  uint8  \n",
      "dtypes: float64(9), int64(3), uint8(4)\n",
      "memory usage: 2.4 MB\n"
     ]
    },
    {
     "data": {
      "text/html": [
       "<div>\n",
       "<style scoped>\n",
       "    .dataframe tbody tr th:only-of-type {\n",
       "        vertical-align: middle;\n",
       "    }\n",
       "\n",
       "    .dataframe tbody tr th {\n",
       "        vertical-align: top;\n",
       "    }\n",
       "\n",
       "    .dataframe thead th {\n",
       "        text-align: right;\n",
       "    }\n",
       "</style>\n",
       "<table border=\"1\" class=\"dataframe\">\n",
       "  <thead>\n",
       "    <tr style=\"text-align: right;\">\n",
       "      <th></th>\n",
       "      <th>accommodates</th>\n",
       "      <th>bedrooms</th>\n",
       "      <th>beds</th>\n",
       "      <th>price</th>\n",
       "      <th>review_scores_rating</th>\n",
       "      <th>review_scores_accuracy</th>\n",
       "      <th>review_scores_cleanliness</th>\n",
       "      <th>review_scores_checkin</th>\n",
       "      <th>review_scores_communication</th>\n",
       "      <th>review_scores_location</th>\n",
       "      <th>review_scores_value</th>\n",
       "      <th>reviews_per_month</th>\n",
       "      <th>room_type_Entire home/apt</th>\n",
       "      <th>room_type_Hotel room</th>\n",
       "      <th>room_type_Private room</th>\n",
       "      <th>room_type_Shared room</th>\n",
       "    </tr>\n",
       "  </thead>\n",
       "  <tbody>\n",
       "    <tr>\n",
       "      <th>0</th>\n",
       "      <td>2</td>\n",
       "      <td>1</td>\n",
       "      <td>1</td>\n",
       "      <td>150.0</td>\n",
       "      <td>4.678449</td>\n",
       "      <td>4.787037</td>\n",
       "      <td>4.699627</td>\n",
       "      <td>4.874502</td>\n",
       "      <td>4.854086</td>\n",
       "      <td>4.856884</td>\n",
       "      <td>4.666319</td>\n",
       "      <td>0.00</td>\n",
       "      <td>0</td>\n",
       "      <td>0</td>\n",
       "      <td>1</td>\n",
       "      <td>0</td>\n",
       "    </tr>\n",
       "    <tr>\n",
       "      <th>1</th>\n",
       "      <td>4</td>\n",
       "      <td>2</td>\n",
       "      <td>2</td>\n",
       "      <td>450.0</td>\n",
       "      <td>4.678449</td>\n",
       "      <td>4.787037</td>\n",
       "      <td>4.699627</td>\n",
       "      <td>4.874502</td>\n",
       "      <td>4.854086</td>\n",
       "      <td>4.856884</td>\n",
       "      <td>4.666319</td>\n",
       "      <td>0.00</td>\n",
       "      <td>1</td>\n",
       "      <td>0</td>\n",
       "      <td>0</td>\n",
       "      <td>0</td>\n",
       "    </tr>\n",
       "    <tr>\n",
       "      <th>2</th>\n",
       "      <td>5</td>\n",
       "      <td>2</td>\n",
       "      <td>5</td>\n",
       "      <td>350.0</td>\n",
       "      <td>5.000000</td>\n",
       "      <td>5.000000</td>\n",
       "      <td>5.000000</td>\n",
       "      <td>4.890000</td>\n",
       "      <td>4.780000</td>\n",
       "      <td>4.780000</td>\n",
       "      <td>4.890000</td>\n",
       "      <td>1.16</td>\n",
       "      <td>1</td>\n",
       "      <td>0</td>\n",
       "      <td>0</td>\n",
       "      <td>0</td>\n",
       "    </tr>\n",
       "    <tr>\n",
       "      <th>3</th>\n",
       "      <td>3</td>\n",
       "      <td>1</td>\n",
       "      <td>2</td>\n",
       "      <td>145.0</td>\n",
       "      <td>4.780000</td>\n",
       "      <td>4.910000</td>\n",
       "      <td>4.890000</td>\n",
       "      <td>4.930000</td>\n",
       "      <td>4.870000</td>\n",
       "      <td>4.700000</td>\n",
       "      <td>4.570000</td>\n",
       "      <td>0.64</td>\n",
       "      <td>1</td>\n",
       "      <td>0</td>\n",
       "      <td>0</td>\n",
       "      <td>0</td>\n",
       "    </tr>\n",
       "    <tr>\n",
       "      <th>4</th>\n",
       "      <td>4</td>\n",
       "      <td>2</td>\n",
       "      <td>3</td>\n",
       "      <td>180.0</td>\n",
       "      <td>4.678449</td>\n",
       "      <td>4.787037</td>\n",
       "      <td>4.699627</td>\n",
       "      <td>4.874502</td>\n",
       "      <td>4.854086</td>\n",
       "      <td>4.856884</td>\n",
       "      <td>4.666319</td>\n",
       "      <td>0.00</td>\n",
       "      <td>0</td>\n",
       "      <td>0</td>\n",
       "      <td>1</td>\n",
       "      <td>0</td>\n",
       "    </tr>\n",
       "    <tr>\n",
       "      <th>...</th>\n",
       "      <td>...</td>\n",
       "      <td>...</td>\n",
       "      <td>...</td>\n",
       "      <td>...</td>\n",
       "      <td>...</td>\n",
       "      <td>...</td>\n",
       "      <td>...</td>\n",
       "      <td>...</td>\n",
       "      <td>...</td>\n",
       "      <td>...</td>\n",
       "      <td>...</td>\n",
       "      <td>...</td>\n",
       "      <td>...</td>\n",
       "      <td>...</td>\n",
       "      <td>...</td>\n",
       "      <td>...</td>\n",
       "    </tr>\n",
       "    <tr>\n",
       "      <th>24881</th>\n",
       "      <td>3</td>\n",
       "      <td>1</td>\n",
       "      <td>2</td>\n",
       "      <td>330.0</td>\n",
       "      <td>4.678449</td>\n",
       "      <td>4.787037</td>\n",
       "      <td>4.699627</td>\n",
       "      <td>4.874502</td>\n",
       "      <td>4.854086</td>\n",
       "      <td>4.856884</td>\n",
       "      <td>4.666319</td>\n",
       "      <td>0.00</td>\n",
       "      <td>1</td>\n",
       "      <td>0</td>\n",
       "      <td>0</td>\n",
       "      <td>0</td>\n",
       "    </tr>\n",
       "    <tr>\n",
       "      <th>24882</th>\n",
       "      <td>2</td>\n",
       "      <td>1</td>\n",
       "      <td>1</td>\n",
       "      <td>188.0</td>\n",
       "      <td>3.750000</td>\n",
       "      <td>4.750000</td>\n",
       "      <td>5.000000</td>\n",
       "      <td>4.250000</td>\n",
       "      <td>3.500000</td>\n",
       "      <td>4.750000</td>\n",
       "      <td>3.750000</td>\n",
       "      <td>0.78</td>\n",
       "      <td>1</td>\n",
       "      <td>0</td>\n",
       "      <td>0</td>\n",
       "      <td>0</td>\n",
       "    </tr>\n",
       "    <tr>\n",
       "      <th>24883</th>\n",
       "      <td>2</td>\n",
       "      <td>1</td>\n",
       "      <td>2</td>\n",
       "      <td>89.0</td>\n",
       "      <td>4.920000</td>\n",
       "      <td>4.970000</td>\n",
       "      <td>4.920000</td>\n",
       "      <td>4.980000</td>\n",
       "      <td>4.980000</td>\n",
       "      <td>5.000000</td>\n",
       "      <td>4.940000</td>\n",
       "      <td>1.47</td>\n",
       "      <td>0</td>\n",
       "      <td>0</td>\n",
       "      <td>1</td>\n",
       "      <td>0</td>\n",
       "    </tr>\n",
       "    <tr>\n",
       "      <th>24884</th>\n",
       "      <td>4</td>\n",
       "      <td>2</td>\n",
       "      <td>4</td>\n",
       "      <td>536.0</td>\n",
       "      <td>4.500000</td>\n",
       "      <td>4.830000</td>\n",
       "      <td>4.170000</td>\n",
       "      <td>4.830000</td>\n",
       "      <td>5.000000</td>\n",
       "      <td>4.670000</td>\n",
       "      <td>4.330000</td>\n",
       "      <td>0.10</td>\n",
       "      <td>1</td>\n",
       "      <td>0</td>\n",
       "      <td>0</td>\n",
       "      <td>0</td>\n",
       "    </tr>\n",
       "    <tr>\n",
       "      <th>24885</th>\n",
       "      <td>2</td>\n",
       "      <td>1</td>\n",
       "      <td>1</td>\n",
       "      <td>170.0</td>\n",
       "      <td>5.000000</td>\n",
       "      <td>5.000000</td>\n",
       "      <td>4.730000</td>\n",
       "      <td>4.910000</td>\n",
       "      <td>5.000000</td>\n",
       "      <td>4.910000</td>\n",
       "      <td>5.000000</td>\n",
       "      <td>0.24</td>\n",
       "      <td>0</td>\n",
       "      <td>0</td>\n",
       "      <td>1</td>\n",
       "      <td>0</td>\n",
       "    </tr>\n",
       "  </tbody>\n",
       "</table>\n",
       "<p>24886 rows × 16 columns</p>\n",
       "</div>"
      ],
      "text/plain": [
       "       accommodates  bedrooms  beds  price  review_scores_rating  \\\n",
       "0                 2         1     1  150.0              4.678449   \n",
       "1                 4         2     2  450.0              4.678449   \n",
       "2                 5         2     5  350.0              5.000000   \n",
       "3                 3         1     2  145.0              4.780000   \n",
       "4                 4         2     3  180.0              4.678449   \n",
       "...             ...       ...   ...    ...                   ...   \n",
       "24881             3         1     2  330.0              4.678449   \n",
       "24882             2         1     1  188.0              3.750000   \n",
       "24883             2         1     2   89.0              4.920000   \n",
       "24884             4         2     4  536.0              4.500000   \n",
       "24885             2         1     1  170.0              5.000000   \n",
       "\n",
       "       review_scores_accuracy  review_scores_cleanliness  \\\n",
       "0                    4.787037                   4.699627   \n",
       "1                    4.787037                   4.699627   \n",
       "2                    5.000000                   5.000000   \n",
       "3                    4.910000                   4.890000   \n",
       "4                    4.787037                   4.699627   \n",
       "...                       ...                        ...   \n",
       "24881                4.787037                   4.699627   \n",
       "24882                4.750000                   5.000000   \n",
       "24883                4.970000                   4.920000   \n",
       "24884                4.830000                   4.170000   \n",
       "24885                5.000000                   4.730000   \n",
       "\n",
       "       review_scores_checkin  review_scores_communication  \\\n",
       "0                   4.874502                     4.854086   \n",
       "1                   4.874502                     4.854086   \n",
       "2                   4.890000                     4.780000   \n",
       "3                   4.930000                     4.870000   \n",
       "4                   4.874502                     4.854086   \n",
       "...                      ...                          ...   \n",
       "24881               4.874502                     4.854086   \n",
       "24882               4.250000                     3.500000   \n",
       "24883               4.980000                     4.980000   \n",
       "24884               4.830000                     5.000000   \n",
       "24885               4.910000                     5.000000   \n",
       "\n",
       "       review_scores_location  review_scores_value  reviews_per_month  \\\n",
       "0                    4.856884             4.666319               0.00   \n",
       "1                    4.856884             4.666319               0.00   \n",
       "2                    4.780000             4.890000               1.16   \n",
       "3                    4.700000             4.570000               0.64   \n",
       "4                    4.856884             4.666319               0.00   \n",
       "...                       ...                  ...                ...   \n",
       "24881                4.856884             4.666319               0.00   \n",
       "24882                4.750000             3.750000               0.78   \n",
       "24883                5.000000             4.940000               1.47   \n",
       "24884                4.670000             4.330000               0.10   \n",
       "24885                4.910000             5.000000               0.24   \n",
       "\n",
       "       room_type_Entire home/apt  room_type_Hotel room  \\\n",
       "0                              0                     0   \n",
       "1                              1                     0   \n",
       "2                              1                     0   \n",
       "3                              1                     0   \n",
       "4                              0                     0   \n",
       "...                          ...                   ...   \n",
       "24881                          1                     0   \n",
       "24882                          1                     0   \n",
       "24883                          0                     0   \n",
       "24884                          1                     0   \n",
       "24885                          0                     0   \n",
       "\n",
       "       room_type_Private room  room_type_Shared room  \n",
       "0                           1                      0  \n",
       "1                           0                      0  \n",
       "2                           0                      0  \n",
       "3                           0                      0  \n",
       "4                           1                      0  \n",
       "...                       ...                    ...  \n",
       "24881                       0                      0  \n",
       "24882                       0                      0  \n",
       "24883                       1                      0  \n",
       "24884                       0                      0  \n",
       "24885                       1                      0  \n",
       "\n",
       "[24886 rows x 16 columns]"
      ]
     },
     "execution_count": 25,
     "metadata": {},
     "output_type": "execute_result"
    },
    {
     "data": {
      "text/plain": [
       "True"
      ]
     },
     "execution_count": 25,
     "metadata": {},
     "output_type": "execute_result"
    },
    {
     "data": {
      "text/plain": [
       "<AxesSubplot:>"
      ]
     },
     "execution_count": 25,
     "metadata": {},
     "output_type": "execute_result"
    },
    {
     "data": {
      "image/png": "[encoded data removed]",
      "text/plain": [
       "<Figure size 432x288 with 2 Axes>"
      ]
     },
     "metadata": {
      "needs_background": "light"
     },
     "output_type": "display_data"
    }
   ],
   "source": [
    "dfx.describe()\n",
    "dfx.info()\n",
    "dfx.fillna(0)\n",
    "dfx.isnull().values.any()\n",
    "c=dfx.corr()\n",
    "sns.heatmap(c, annot=True)\n",
    "plt.show()"
   ]
  },
  {
   "cell_type": "code",
   "execution_count": 40,
   "id": "2e6261ff",
   "metadata": {},
   "outputs": [
    {
     "data": {
      "text/plain": [
       "False"
      ]
     },
     "execution_count": 40,
     "metadata": {},
     "output_type": "execute_result"
    },
    {
     "data": {
      "text/plain": [
       "accommodates                   0\n",
       "bedrooms                       0\n",
       "beds                           0\n",
       "price                          0\n",
       "review_scores_rating           0\n",
       "review_scores_accuracy         0\n",
       "review_scores_cleanliness      0\n",
       "review_scores_checkin          0\n",
       "review_scores_communication    0\n",
       "review_scores_location         0\n",
       "review_scores_value            0\n",
       "reviews_per_month              0\n",
       "room_type_Entire home/apt      0\n",
       "room_type_Hotel room           0\n",
       "room_type_Private room         0\n",
       "room_type_Shared room          0\n",
       "dtype: int64"
      ]
     },
     "execution_count": 40,
     "metadata": {},
     "output_type": "execute_result"
    }
   ],
   "source": [
    "dfx.isnull().values.any()\n",
    "dfx.isna().sum()"
   ]
  },
  {
   "cell_type": "code",
   "execution_count": 41,
   "id": "8d8743fa",
   "metadata": {},
   "outputs": [
    {
     "name": "stderr",
     "output_type": "stream",
     "text": [
      "/var/folders/16/sj7htwpn37x5chbjt67h8nrr0000gn/T/ipykernel_37601/1277202630.py:1: SettingWithCopyWarning: \n",
      "A value is trying to be set on a copy of a slice from a DataFrame.\n",
      "Try using .loc[row_indexer,col_indexer] = value instead\n",
      "\n",
      "See the caveats in the documentation: https://pandas.pydata.org/pandas-docs/stable/user_guide/indexing.html#returning-a-view-versus-a-copy\n",
      "  dfx['price'] =dfx['price'].fillna(0)\n"
     ]
    }
   ],
   "source": [
    "dfx['price'] =dfx['price'].fillna(0)"
   ]
  },
  {
   "cell_type": "code",
   "execution_count": 42,
   "id": "ce27b501",
   "metadata": {},
   "outputs": [
    {
     "name": "stdout",
     "output_type": "stream",
     "text": [
      "Requirement already satisfied: mlxtend in /Users/apple/opt/anaconda3/envs/py3/lib/python3.9/site-packages (0.21.0)\n",
      "Requirement already satisfied: scipy>=1.2.1 in /Users/apple/opt/anaconda3/envs/py3/lib/python3.9/site-packages (from mlxtend) (1.7.3)\n",
      "Requirement already satisfied: joblib>=0.13.2 in /Users/apple/opt/anaconda3/envs/py3/lib/python3.9/site-packages (from mlxtend) (1.2.0)\n",
      "Requirement already satisfied: matplotlib>=3.0.0 in /Users/apple/opt/anaconda3/envs/py3/lib/python3.9/site-packages (from mlxtend) (3.4.3)\n",
      "Requirement already satisfied: setuptools in /Users/apple/opt/anaconda3/envs/py3/lib/python3.9/site-packages (from mlxtend) (58.0.4)\n",
      "Requirement already satisfied: pandas>=0.24.2 in /Users/apple/opt/anaconda3/envs/py3/lib/python3.9/site-packages (from mlxtend) (1.5.2)\n",
      "Requirement already satisfied: scikit-learn>=1.0.2 in /Users/apple/opt/anaconda3/envs/py3/lib/python3.9/site-packages (from mlxtend) (1.2.0)\n",
      "Requirement already satisfied: numpy>=1.16.2 in /Users/apple/opt/anaconda3/envs/py3/lib/python3.9/site-packages (from mlxtend) (1.20.3)\n",
      "Requirement already satisfied: cycler>=0.10 in /Users/apple/opt/anaconda3/envs/py3/lib/python3.9/site-packages (from matplotlib>=3.0.0->mlxtend) (0.10.0)\n",
      "Requirement already satisfied: pyparsing>=2.2.1 in /Users/apple/opt/anaconda3/envs/py3/lib/python3.9/site-packages (from matplotlib>=3.0.0->mlxtend) (3.0.4)\n",
      "Requirement already satisfied: python-dateutil>=2.7 in /Users/apple/opt/anaconda3/envs/py3/lib/python3.9/site-packages (from matplotlib>=3.0.0->mlxtend) (2.8.2)\n",
      "Requirement already satisfied: pillow>=6.2.0 in /Users/apple/opt/anaconda3/envs/py3/lib/python3.9/site-packages (from matplotlib>=3.0.0->mlxtend) (8.4.0)\n",
      "Requirement already satisfied: kiwisolver>=1.0.1 in /Users/apple/opt/anaconda3/envs/py3/lib/python3.9/site-packages (from matplotlib>=3.0.0->mlxtend) (1.3.1)\n",
      "Requirement already satisfied: six in /Users/apple/opt/anaconda3/envs/py3/lib/python3.9/site-packages (from cycler>=0.10->matplotlib>=3.0.0->mlxtend) (1.16.0)\n",
      "Requirement already satisfied: pytz>=2020.1 in /Users/apple/opt/anaconda3/envs/py3/lib/python3.9/site-packages (from pandas>=0.24.2->mlxtend) (2021.3)\n",
      "Requirement already satisfied: threadpoolctl>=2.0.0 in /Users/apple/opt/anaconda3/envs/py3/lib/python3.9/site-packages (from scikit-learn>=1.0.2->mlxtend) (2.2.0)\n",
      "Requirement already satisfied: statsmodels in /Users/apple/opt/anaconda3/envs/py3/lib/python3.9/site-packages (0.13.5)\n",
      "Requirement already satisfied: patsy>=0.5.2 in /Users/apple/opt/anaconda3/envs/py3/lib/python3.9/site-packages (from statsmodels) (0.5.2)\n",
      "Requirement already satisfied: scipy>=1.3 in /Users/apple/opt/anaconda3/envs/py3/lib/python3.9/site-packages (from statsmodels) (1.7.3)\n",
      "Requirement already satisfied: pandas>=0.25 in /Users/apple/opt/anaconda3/envs/py3/lib/python3.9/site-packages (from statsmodels) (1.5.2)\n",
      "Requirement already satisfied: packaging>=21.3 in /Users/apple/opt/anaconda3/envs/py3/lib/python3.9/site-packages (from statsmodels) (22.0)\n",
      "Requirement already satisfied: numpy>=1.17 in /Users/apple/opt/anaconda3/envs/py3/lib/python3.9/site-packages (from statsmodels) (1.20.3)\n",
      "Requirement already satisfied: python-dateutil>=2.8.1 in /Users/apple/opt/anaconda3/envs/py3/lib/python3.9/site-packages (from pandas>=0.25->statsmodels) (2.8.2)\n",
      "Requirement already satisfied: pytz>=2020.1 in /Users/apple/opt/anaconda3/envs/py3/lib/python3.9/site-packages (from pandas>=0.25->statsmodels) (2021.3)\n",
      "Requirement already satisfied: six in /Users/apple/opt/anaconda3/envs/py3/lib/python3.9/site-packages (from patsy>=0.5.2->statsmodels) (1.16.0)\n",
      "Requirement already satisfied: scikit-learn in /Users/apple/opt/anaconda3/envs/py3/lib/python3.9/site-packages (1.2.0)\n",
      "Requirement already satisfied: numpy>=1.17.3 in /Users/apple/opt/anaconda3/envs/py3/lib/python3.9/site-packages (from scikit-learn) (1.20.3)\n",
      "Requirement already satisfied: joblib>=1.1.1 in /Users/apple/opt/anaconda3/envs/py3/lib/python3.9/site-packages (from scikit-learn) (1.2.0)\n",
      "Requirement already satisfied: scipy>=1.3.2 in /Users/apple/opt/anaconda3/envs/py3/lib/python3.9/site-packages (from scikit-learn) (1.7.3)\n",
      "Requirement already satisfied: threadpoolctl>=2.0.0 in /Users/apple/opt/anaconda3/envs/py3/lib/python3.9/site-packages (from scikit-learn) (2.2.0)\n"
     ]
    }
   ],
   "source": [
    "#OLS\n",
    "! pip install -U mlxtend\n",
    "! pip install -U statsmodels\n",
    "! pip install -U scikit-learn"
   ]
  },
  {
   "cell_type": "code",
   "execution_count": 43,
   "id": "89e3c95f",
   "metadata": {},
   "outputs": [],
   "source": [
    "from sklearn import datasets\n",
    "import statsmodels.api as sm\n",
    "import statsmodels.formula.api as smf\n",
    "import pandas as pd\n",
    "import numpy as np\n",
    "from itertools import cycle\n",
    "from tqdm.auto import tqdm"
   ]
  },
  {
   "cell_type": "code",
   "execution_count": 44,
   "id": "6e55f7bf",
   "metadata": {},
   "outputs": [],
   "source": [
    "y = dfx[\"reviews_per_month\"]\n",
    "X = dfx.drop([\"reviews_per_month\"], axis=1)"
   ]
  },
  {
   "cell_type": "code",
   "execution_count": 45,
   "id": "a38295ec",
   "metadata": {},
   "outputs": [
    {
     "data": {
      "text/html": [
       "<table class=\"simpletable\">\n",
       "<caption>OLS Regression Results</caption>\n",
       "<tr>\n",
       "  <th>Dep. Variable:</th>    <td>reviews_per_month</td> <th>  R-squared:         </th> <td>   0.064</td> \n",
       "</tr>\n",
       "<tr>\n",
       "  <th>Model:</th>                   <td>OLS</td>        <th>  Adj. R-squared:    </th> <td>   0.064</td> \n",
       "</tr>\n",
       "<tr>\n",
       "  <th>Method:</th>             <td>Least Squares</td>   <th>  F-statistic:       </th> <td>   113.7</td> \n",
       "</tr>\n",
       "<tr>\n",
       "  <th>Date:</th>             <td>Thu, 15 Dec 2022</td>  <th>  Prob (F-statistic):</th>  <td>  0.00</td>  \n",
       "</tr>\n",
       "<tr>\n",
       "  <th>Time:</th>                 <td>15:42:57</td>      <th>  Log-Likelihood:    </th> <td> -32437.</td> \n",
       "</tr>\n",
       "<tr>\n",
       "  <th>No. Observations:</th>      <td> 24886</td>       <th>  AIC:               </th> <td>6.491e+04</td>\n",
       "</tr>\n",
       "<tr>\n",
       "  <th>Df Residuals:</th>          <td> 24870</td>       <th>  BIC:               </th> <td>6.504e+04</td>\n",
       "</tr>\n",
       "<tr>\n",
       "  <th>Df Model:</th>              <td>    15</td>       <th>                     </th>     <td> </td>    \n",
       "</tr>\n",
       "<tr>\n",
       "  <th>Covariance Type:</th>      <td>nonrobust</td>     <th>                     </th>     <td> </td>    \n",
       "</tr>\n",
       "</table>\n",
       "<table class=\"simpletable\">\n",
       "<tr>\n",
       "               <td></td>                  <th>coef</th>     <th>std err</th>      <th>t</th>      <th>P>|t|</th>  <th>[0.025</th>    <th>0.975]</th>  \n",
       "</tr>\n",
       "<tr>\n",
       "  <th>const</th>                       <td>   -0.9080</td> <td>    0.412</td> <td>   -2.202</td> <td> 0.028</td> <td>   -1.716</td> <td>   -0.100</td>\n",
       "</tr>\n",
       "<tr>\n",
       "  <th>accommodates</th>                <td>   -0.0056</td> <td>    0.004</td> <td>   -1.489</td> <td> 0.137</td> <td>   -0.013</td> <td>    0.002</td>\n",
       "</tr>\n",
       "<tr>\n",
       "  <th>bedrooms</th>                    <td>   -0.1217</td> <td>    0.007</td> <td>  -17.748</td> <td> 0.000</td> <td>   -0.135</td> <td>   -0.108</td>\n",
       "</tr>\n",
       "<tr>\n",
       "  <th>beds</th>                        <td>    0.0090</td> <td>    0.004</td> <td>    2.476</td> <td> 0.013</td> <td>    0.002</td> <td>    0.016</td>\n",
       "</tr>\n",
       "<tr>\n",
       "  <th>price</th>                       <td> -6.42e-06</td> <td> 1.14e-06</td> <td>   -5.626</td> <td> 0.000</td> <td>-8.66e-06</td> <td>-4.18e-06</td>\n",
       "</tr>\n",
       "<tr>\n",
       "  <th>review_scores_rating</th>        <td>    0.1309</td> <td>    0.011</td> <td>   11.832</td> <td> 0.000</td> <td>    0.109</td> <td>    0.153</td>\n",
       "</tr>\n",
       "<tr>\n",
       "  <th>review_scores_accuracy</th>      <td>   -0.0561</td> <td>    0.027</td> <td>   -2.101</td> <td> 0.036</td> <td>   -0.108</td> <td>   -0.004</td>\n",
       "</tr>\n",
       "<tr>\n",
       "  <th>review_scores_cleanliness</th>   <td>    0.0159</td> <td>    0.020</td> <td>    0.799</td> <td> 0.424</td> <td>   -0.023</td> <td>    0.055</td>\n",
       "</tr>\n",
       "<tr>\n",
       "  <th>review_scores_checkin</th>       <td>   -0.1471</td> <td>    0.031</td> <td>   -4.793</td> <td> 0.000</td> <td>   -0.207</td> <td>   -0.087</td>\n",
       "</tr>\n",
       "<tr>\n",
       "  <th>review_scores_communication</th> <td>   -0.1374</td> <td>    0.030</td> <td>   -4.624</td> <td> 0.000</td> <td>   -0.196</td> <td>   -0.079</td>\n",
       "</tr>\n",
       "<tr>\n",
       "  <th>review_scores_location</th>      <td>    0.0634</td> <td>    0.025</td> <td>    2.555</td> <td> 0.011</td> <td>    0.015</td> <td>    0.112</td>\n",
       "</tr>\n",
       "<tr>\n",
       "  <th>review_scores_value</th>         <td>    0.3355</td> <td>    0.023</td> <td>   14.757</td> <td> 0.000</td> <td>    0.291</td> <td>    0.380</td>\n",
       "</tr>\n",
       "<tr>\n",
       "  <th>room_type_Entire home/apt</th>   <td>    0.8444</td> <td>    0.399</td> <td>    2.118</td> <td> 0.034</td> <td>    0.063</td> <td>    1.626</td>\n",
       "</tr>\n",
       "<tr>\n",
       "  <th>room_type_Hotel room</th>        <td>    0.8830</td> <td>    0.413</td> <td>    2.137</td> <td> 0.033</td> <td>    0.073</td> <td>    1.693</td>\n",
       "</tr>\n",
       "<tr>\n",
       "  <th>room_type_Private room</th>      <td>    0.5034</td> <td>    0.399</td> <td>    1.262</td> <td> 0.207</td> <td>   -0.278</td> <td>    1.285</td>\n",
       "</tr>\n",
       "<tr>\n",
       "  <th>room_type_Shared room</th>       <td>    0.2872</td> <td>    0.401</td> <td>    0.716</td> <td> 0.474</td> <td>   -0.499</td> <td>    1.073</td>\n",
       "</tr>\n",
       "</table>\n",
       "<table class=\"simpletable\">\n",
       "<tr>\n",
       "  <th>Omnibus:</th>       <td>18452.994</td> <th>  Durbin-Watson:     </th>  <td>   1.934</td> \n",
       "</tr>\n",
       "<tr>\n",
       "  <th>Prob(Omnibus):</th>  <td> 0.000</td>   <th>  Jarque-Bera (JB):  </th> <td>542445.789</td>\n",
       "</tr>\n",
       "<tr>\n",
       "  <th>Skew:</th>           <td> 3.274</td>   <th>  Prob(JB):          </th>  <td>    0.00</td> \n",
       "</tr>\n",
       "<tr>\n",
       "  <th>Kurtosis:</th>       <td>24.915</td>   <th>  Cond. No.          </th>  <td>7.98e+05</td> \n",
       "</tr>\n",
       "</table><br/><br/>Notes:<br/>[1] Standard Errors assume that the covariance matrix of the errors is correctly specified.<br/>[2] The condition number is large, 7.98e+05. This might indicate that there are<br/>strong multicollinearity or other numerical problems."
      ],
      "text/plain": [
       "<class 'statsmodels.iolib.summary.Summary'>\n",
       "\"\"\"\n",
       "                            OLS Regression Results                            \n",
       "==============================================================================\n",
       "Dep. Variable:      reviews_per_month   R-squared:                       0.064\n",
       "Model:                            OLS   Adj. R-squared:                  0.064\n",
       "Method:                 Least Squares   F-statistic:                     113.7\n",
       "Date:                Thu, 15 Dec 2022   Prob (F-statistic):               0.00\n",
       "Time:                        15:42:57   Log-Likelihood:                -32437.\n",
       "No. Observations:               24886   AIC:                         6.491e+04\n",
       "Df Residuals:                   24870   BIC:                         6.504e+04\n",
       "Df Model:                          15                                         \n",
       "Covariance Type:            nonrobust                                         \n",
       "===============================================================================================\n",
       "                                  coef    std err          t      P>|t|      [0.025      0.975]\n",
       "-----------------------------------------------------------------------------------------------\n",
       "const                          -0.9080      0.412     -2.202      0.028      -1.716      -0.100\n",
       "accommodates                   -0.0056      0.004     -1.489      0.137      -0.013       0.002\n",
       "bedrooms                       -0.1217      0.007    -17.748      0.000      -0.135      -0.108\n",
       "beds                            0.0090      0.004      2.476      0.013       0.002       0.016\n",
       "price                        -6.42e-06   1.14e-06     -5.626      0.000   -8.66e-06   -4.18e-06\n",
       "review_scores_rating            0.1309      0.011     11.832      0.000       0.109       0.153\n",
       "review_scores_accuracy         -0.0561      0.027     -2.101      0.036      -0.108      -0.004\n",
       "review_scores_cleanliness       0.0159      0.020      0.799      0.424      -0.023       0.055\n",
       "review_scores_checkin          -0.1471      0.031     -4.793      0.000      -0.207      -0.087\n",
       "review_scores_communication    -0.1374      0.030     -4.624      0.000      -0.196      -0.079\n",
       "review_scores_location          0.0634      0.025      2.555      0.011       0.015       0.112\n",
       "review_scores_value             0.3355      0.023     14.757      0.000       0.291       0.380\n",
       "room_type_Entire home/apt       0.8444      0.399      2.118      0.034       0.063       1.626\n",
       "room_type_Hotel room            0.8830      0.413      2.137      0.033       0.073       1.693\n",
       "room_type_Private room          0.5034      0.399      1.262      0.207      -0.278       1.285\n",
       "room_type_Shared room           0.2872      0.401      0.716      0.474      -0.499       1.073\n",
       "==============================================================================\n",
       "Omnibus:                    18452.994   Durbin-Watson:                   1.934\n",
       "Prob(Omnibus):                  0.000   Jarque-Bera (JB):           542445.789\n",
       "Skew:                           3.274   Prob(JB):                         0.00\n",
       "Kurtosis:                      24.915   Cond. No.                     7.98e+05\n",
       "==============================================================================\n",
       "\n",
       "Notes:\n",
       "[1] Standard Errors assume that the covariance matrix of the errors is correctly specified.\n",
       "[2] The condition number is large, 7.98e+05. This might indicate that there are\n",
       "strong multicollinearity or other numerical problems.\n",
       "\"\"\""
      ]
     },
     "execution_count": 45,
     "metadata": {},
     "output_type": "execute_result"
    }
   ],
   "source": [
    "X = sm.add_constant(X) # by default statsmodels does not add an intercept\n",
    "# add a constant is the same as adding a column of 1 to X .\n",
    "full_model = sm.OLS(y, X).fit()\n",
    "full_model.summary()"
   ]
  },
  {
   "cell_type": "code",
   "execution_count": 46,
   "id": "eb4dcb91",
   "metadata": {},
   "outputs": [],
   "source": [
    "#linear regression\n",
    "from sklearn.linear_model import LinearRegression"
   ]
  },
  {
   "cell_type": "code",
   "execution_count": 47,
   "id": "e50b7db5",
   "metadata": {},
   "outputs": [],
   "source": [
    "lr = LinearRegression()"
   ]
  },
  {
   "cell_type": "code",
   "execution_count": 48,
   "id": "e7dfa4b6",
   "metadata": {},
   "outputs": [
    {
     "data": {
      "text/html": [
       "<style>#sk-container-id-1 {color: black;background-color: white;}#sk-container-id-1 pre{padding: 0;}#sk-container-id-1 div.sk-toggleable {background-color: white;}#sk-container-id-1 label.sk-toggleable__label {cursor: pointer;display: block;width: 100%;margin-bottom: 0;padding: 0.3em;box-sizing: border-box;text-align: center;}#sk-container-id-1 label.sk-toggleable__label-arrow:before {content: \"▸\";float: left;margin-right: 0.25em;color: #696969;}#sk-container-id-1 label.sk-toggleable__label-arrow:hover:before {color: black;}#sk-container-id-1 div.sk-estimator:hover label.sk-toggleable__label-arrow:before {color: black;}#sk-container-id-1 div.sk-toggleable__content {max-height: 0;max-width: 0;overflow: hidden;text-align: left;background-color: #f0f8ff;}#sk-container-id-1 div.sk-toggleable__content pre {margin: 0.2em;color: black;border-radius: 0.25em;background-color: #f0f8ff;}#sk-container-id-1 input.sk-toggleable__control:checked~div.sk-toggleable__content {max-height: 200px;max-width: 100%;overflow: auto;}#sk-container-id-1 input.sk-toggleable__control:checked~label.sk-toggleable__label-arrow:before {content: \"▾\";}#sk-container-id-1 div.sk-estimator input.sk-toggleable__control:checked~label.sk-toggleable__label {background-color: #d4ebff;}#sk-container-id-1 div.sk-label input.sk-toggleable__control:checked~label.sk-toggleable__label {background-color: #d4ebff;}#sk-container-id-1 input.sk-hidden--visually {border: 0;clip: rect(1px 1px 1px 1px);clip: rect(1px, 1px, 1px, 1px);height: 1px;margin: -1px;overflow: hidden;padding: 0;position: absolute;width: 1px;}#sk-container-id-1 div.sk-estimator {font-family: monospace;background-color: #f0f8ff;border: 1px dotted black;border-radius: 0.25em;box-sizing: border-box;margin-bottom: 0.5em;}#sk-container-id-1 div.sk-estimator:hover {background-color: #d4ebff;}#sk-container-id-1 div.sk-parallel-item::after {content: \"\";width: 100%;border-bottom: 1px solid gray;flex-grow: 1;}#sk-container-id-1 div.sk-label:hover label.sk-toggleable__label {background-color: #d4ebff;}#sk-container-id-1 div.sk-serial::before {content: \"\";position: absolute;border-left: 1px solid gray;box-sizing: border-box;top: 0;bottom: 0;left: 50%;z-index: 0;}#sk-container-id-1 div.sk-serial {display: flex;flex-direction: column;align-items: center;background-color: white;padding-right: 0.2em;padding-left: 0.2em;position: relative;}#sk-container-id-1 div.sk-item {position: relative;z-index: 1;}#sk-container-id-1 div.sk-parallel {display: flex;align-items: stretch;justify-content: center;background-color: white;position: relative;}#sk-container-id-1 div.sk-item::before, #sk-container-id-1 div.sk-parallel-item::before {content: \"\";position: absolute;border-left: 1px solid gray;box-sizing: border-box;top: 0;bottom: 0;left: 50%;z-index: -1;}#sk-container-id-1 div.sk-parallel-item {display: flex;flex-direction: column;z-index: 1;position: relative;background-color: white;}#sk-container-id-1 div.sk-parallel-item:first-child::after {align-self: flex-end;width: 50%;}#sk-container-id-1 div.sk-parallel-item:last-child::after {align-self: flex-start;width: 50%;}#sk-container-id-1 div.sk-parallel-item:only-child::after {width: 0;}#sk-container-id-1 div.sk-dashed-wrapped {border: 1px dashed gray;margin: 0 0.4em 0.5em 0.4em;box-sizing: border-box;padding-bottom: 0.4em;background-color: white;}#sk-container-id-1 div.sk-label label {font-family: monospace;font-weight: bold;display: inline-block;line-height: 1.2em;}#sk-container-id-1 div.sk-label-container {text-align: center;}#sk-container-id-1 div.sk-container {/* jupyter's `normalize.less` sets `[hidden] { display: none; }` but bootstrap.min.css set `[hidden] { display: none !important; }` so we also need the `!important` here to be able to override the default hidden behavior on the sphinx rendered scikit-learn.org. See: https://github.com/scikit-learn/scikit-learn/issues/21755 */display: inline-block !important;position: relative;}#sk-container-id-1 div.sk-text-repr-fallback {display: none;}</style><div id=\"sk-container-id-1\" class=\"sk-top-container\"><div class=\"sk-text-repr-fallback\"><pre>LinearRegression()</pre><b>In a Jupyter environment, please rerun this cell to show the HTML representation or trust the notebook. <br />On GitHub, the HTML representation is unable to render, please try loading this page with nbviewer.org.</b></div><div class=\"sk-container\" hidden><div class=\"sk-item\"><div class=\"sk-estimator sk-toggleable\"><input class=\"sk-toggleable__control sk-hidden--visually\" id=\"sk-estimator-id-1\" type=\"checkbox\" checked><label for=\"sk-estimator-id-1\" class=\"sk-toggleable__label sk-toggleable__label-arrow\">LinearRegression</label><div class=\"sk-toggleable__content\"><pre>LinearRegression()</pre></div></div></div></div></div>"
      ],
      "text/plain": [
       "LinearRegression()"
      ]
     },
     "execution_count": 48,
     "metadata": {},
     "output_type": "execute_result"
    }
   ],
   "source": [
    "lr.fit(X, y)"
   ]
  },
  {
   "cell_type": "code",
   "execution_count": 49,
   "id": "98d298fb",
   "metadata": {},
   "outputs": [
    {
     "data": {
      "text/plain": [
       "array([ 0.00000000e+00, -5.58018669e-03, -1.21723519e-01,  8.97624677e-03,\n",
       "       -6.41984723e-06,  1.30899861e-01, -5.60796918e-02,  1.59286741e-02,\n",
       "       -1.47095095e-01, -1.37430774e-01,  6.33820241e-02,  3.35487022e-01,\n",
       "        8.44437594e-01,  8.82996270e-01,  5.03387181e-01,  2.87240710e-01])"
      ]
     },
     "execution_count": 49,
     "metadata": {},
     "output_type": "execute_result"
    }
   ],
   "source": [
    "lr.coef_"
   ]
  },
  {
   "cell_type": "code",
   "execution_count": 50,
   "id": "c403aadc",
   "metadata": {},
   "outputs": [
    {
     "data": {
      "text/plain": [
       "(19908, 15)"
      ]
     },
     "execution_count": 50,
     "metadata": {},
     "output_type": "execute_result"
    },
    {
     "data": {
      "text/plain": [
       "(4978, 15)"
      ]
     },
     "execution_count": 50,
     "metadata": {},
     "output_type": "execute_result"
    },
    {
     "data": {
      "text/plain": [
       "(19908,)"
      ]
     },
     "execution_count": 50,
     "metadata": {},
     "output_type": "execute_result"
    },
    {
     "data": {
      "text/plain": [
       "(4978,)"
      ]
     },
     "execution_count": 50,
     "metadata": {},
     "output_type": "execute_result"
    }
   ],
   "source": [
    "from sklearn.model_selection import train_test_split\n",
    "from sklearn import preprocessing\n",
    "from sklearn.linear_model import LogisticRegression\n",
    "\n",
    "y = dfx['reviews_per_month']\n",
    "x = dfx.drop('reviews_per_month', axis = 1)\n",
    "x_train, x_test, y_train, y_test = train_test_split(x, y, test_size = 0.2, random_state = 0)\n",
    "x_train.shape\n",
    "x_test.shape\n",
    "y_train.shape\n",
    "y_test.shape\n"
   ]
  },
  {
   "cell_type": "code",
   "execution_count": 51,
   "id": "8907b25f",
   "metadata": {},
   "outputs": [
    {
     "name": "stdout",
     "output_type": "stream",
     "text": [
      "Requirement already satisfied: mlxtend in /Users/apple/opt/anaconda3/lib/python3.9/site-packages (0.21.0)\n",
      "Requirement already satisfied: joblib>=0.13.2 in /Users/apple/opt/anaconda3/lib/python3.9/site-packages (from mlxtend) (1.2.0)\n",
      "Requirement already satisfied: scikit-learn>=1.0.2 in /Users/apple/opt/anaconda3/lib/python3.9/site-packages (from mlxtend) (1.2.0)\n",
      "Requirement already satisfied: scipy>=1.2.1 in /Users/apple/opt/anaconda3/lib/python3.9/site-packages (from mlxtend) (1.7.1)\n",
      "Requirement already satisfied: setuptools in /Users/apple/opt/anaconda3/lib/python3.9/site-packages (from mlxtend) (58.0.4)\n",
      "Requirement already satisfied: matplotlib>=3.0.0 in /Users/apple/opt/anaconda3/lib/python3.9/site-packages (from mlxtend) (3.4.3)\n",
      "Requirement already satisfied: pandas>=0.24.2 in /Users/apple/opt/anaconda3/lib/python3.9/site-packages (from mlxtend) (1.3.4)\n",
      "Requirement already satisfied: numpy>=1.16.2 in /Users/apple/opt/anaconda3/lib/python3.9/site-packages (from mlxtend) (1.20.3)\n",
      "Requirement already satisfied: python-dateutil>=2.7 in /Users/apple/opt/anaconda3/lib/python3.9/site-packages (from matplotlib>=3.0.0->mlxtend) (2.8.2)\n",
      "Requirement already satisfied: pyparsing>=2.2.1 in /Users/apple/opt/anaconda3/lib/python3.9/site-packages (from matplotlib>=3.0.0->mlxtend) (3.0.4)\n",
      "Requirement already satisfied: cycler>=0.10 in /Users/apple/opt/anaconda3/lib/python3.9/site-packages (from matplotlib>=3.0.0->mlxtend) (0.10.0)\n",
      "Requirement already satisfied: kiwisolver>=1.0.1 in /Users/apple/opt/anaconda3/lib/python3.9/site-packages (from matplotlib>=3.0.0->mlxtend) (1.3.1)\n",
      "Requirement already satisfied: pillow>=6.2.0 in /Users/apple/opt/anaconda3/lib/python3.9/site-packages (from matplotlib>=3.0.0->mlxtend) (8.4.0)\n",
      "Requirement already satisfied: six in /Users/apple/opt/anaconda3/lib/python3.9/site-packages (from cycler>=0.10->matplotlib>=3.0.0->mlxtend) (1.16.0)\n",
      "Requirement already satisfied: pytz>=2017.3 in /Users/apple/opt/anaconda3/lib/python3.9/site-packages (from pandas>=0.24.2->mlxtend) (2021.3)\n",
      "Requirement already satisfied: threadpoolctl>=2.0.0 in /Users/apple/opt/anaconda3/lib/python3.9/site-packages (from scikit-learn>=1.0.2->mlxtend) (2.2.0)\n",
      "Note: you may need to restart the kernel to use updated packages.\n"
     ]
    }
   ],
   "source": [
    "pip install mlxtend"
   ]
  },
  {
   "cell_type": "code",
   "execution_count": 52,
   "id": "7b9a2469",
   "metadata": {},
   "outputs": [],
   "source": [
    "from mlxtend.feature_selection import SequentialFeatureSelector as SFS\n",
    "model_sfs = SFS(lr, scoring='neg_mean_squared_error', k_features=4, verbose=1, cv=5,)"
   ]
  },
  {
   "cell_type": "code",
   "execution_count": 55,
   "id": "bd968c13",
   "metadata": {},
   "outputs": [
    {
     "name": "stderr",
     "output_type": "stream",
     "text": [
      "[Parallel(n_jobs=1)]: Using backend SequentialBackend with 1 concurrent workers.\n",
      "[Parallel(n_jobs=1)]: Done  16 out of  16 | elapsed:    0.1s finished\n",
      "Features: 1/4[Parallel(n_jobs=1)]: Using backend SequentialBackend with 1 concurrent workers.\n",
      "[Parallel(n_jobs=1)]: Done  15 out of  15 | elapsed:    0.2s finished\n",
      "Features: 2/4[Parallel(n_jobs=1)]: Using backend SequentialBackend with 1 concurrent workers.\n",
      "[Parallel(n_jobs=1)]: Done  14 out of  14 | elapsed:    0.2s finished\n",
      "Features: 3/4[Parallel(n_jobs=1)]: Using backend SequentialBackend with 1 concurrent workers.\n",
      "[Parallel(n_jobs=1)]: Done  13 out of  13 | elapsed:    0.2s finished\n",
      "Features: 4/4"
     ]
    },
    {
     "data": {
      "text/html": [
       "<style>#sk-container-id-3 {color: black;background-color: white;}#sk-container-id-3 pre{padding: 0;}#sk-container-id-3 div.sk-toggleable {background-color: white;}#sk-container-id-3 label.sk-toggleable__label {cursor: pointer;display: block;width: 100%;margin-bottom: 0;padding: 0.3em;box-sizing: border-box;text-align: center;}#sk-container-id-3 label.sk-toggleable__label-arrow:before {content: \"▸\";float: left;margin-right: 0.25em;color: #696969;}#sk-container-id-3 label.sk-toggleable__label-arrow:hover:before {color: black;}#sk-container-id-3 div.sk-estimator:hover label.sk-toggleable__label-arrow:before {color: black;}#sk-container-id-3 div.sk-toggleable__content {max-height: 0;max-width: 0;overflow: hidden;text-align: left;background-color: #f0f8ff;}#sk-container-id-3 div.sk-toggleable__content pre {margin: 0.2em;color: black;border-radius: 0.25em;background-color: #f0f8ff;}#sk-container-id-3 input.sk-toggleable__control:checked~div.sk-toggleable__content {max-height: 200px;max-width: 100%;overflow: auto;}#sk-container-id-3 input.sk-toggleable__control:checked~label.sk-toggleable__label-arrow:before {content: \"▾\";}#sk-container-id-3 div.sk-estimator input.sk-toggleable__control:checked~label.sk-toggleable__label {background-color: #d4ebff;}#sk-container-id-3 div.sk-label input.sk-toggleable__control:checked~label.sk-toggleable__label {background-color: #d4ebff;}#sk-container-id-3 input.sk-hidden--visually {border: 0;clip: rect(1px 1px 1px 1px);clip: rect(1px, 1px, 1px, 1px);height: 1px;margin: -1px;overflow: hidden;padding: 0;position: absolute;width: 1px;}#sk-container-id-3 div.sk-estimator {font-family: monospace;background-color: #f0f8ff;border: 1px dotted black;border-radius: 0.25em;box-sizing: border-box;margin-bottom: 0.5em;}#sk-container-id-3 div.sk-estimator:hover {background-color: #d4ebff;}#sk-container-id-3 div.sk-parallel-item::after {content: \"\";width: 100%;border-bottom: 1px solid gray;flex-grow: 1;}#sk-container-id-3 div.sk-label:hover label.sk-toggleable__label {background-color: #d4ebff;}#sk-container-id-3 div.sk-serial::before {content: \"\";position: absolute;border-left: 1px solid gray;box-sizing: border-box;top: 0;bottom: 0;left: 50%;z-index: 0;}#sk-container-id-3 div.sk-serial {display: flex;flex-direction: column;align-items: center;background-color: white;padding-right: 0.2em;padding-left: 0.2em;position: relative;}#sk-container-id-3 div.sk-item {position: relative;z-index: 1;}#sk-container-id-3 div.sk-parallel {display: flex;align-items: stretch;justify-content: center;background-color: white;position: relative;}#sk-container-id-3 div.sk-item::before, #sk-container-id-3 div.sk-parallel-item::before {content: \"\";position: absolute;border-left: 1px solid gray;box-sizing: border-box;top: 0;bottom: 0;left: 50%;z-index: -1;}#sk-container-id-3 div.sk-parallel-item {display: flex;flex-direction: column;z-index: 1;position: relative;background-color: white;}#sk-container-id-3 div.sk-parallel-item:first-child::after {align-self: flex-end;width: 50%;}#sk-container-id-3 div.sk-parallel-item:last-child::after {align-self: flex-start;width: 50%;}#sk-container-id-3 div.sk-parallel-item:only-child::after {width: 0;}#sk-container-id-3 div.sk-dashed-wrapped {border: 1px dashed gray;margin: 0 0.4em 0.5em 0.4em;box-sizing: border-box;padding-bottom: 0.4em;background-color: white;}#sk-container-id-3 div.sk-label label {font-family: monospace;font-weight: bold;display: inline-block;line-height: 1.2em;}#sk-container-id-3 div.sk-label-container {text-align: center;}#sk-container-id-3 div.sk-container {/* jupyter's `normalize.less` sets `[hidden] { display: none; }` but bootstrap.min.css set `[hidden] { display: none !important; }` so we also need the `!important` here to be able to override the default hidden behavior on the sphinx rendered scikit-learn.org. See: https://github.com/scikit-learn/scikit-learn/issues/21755 */display: inline-block !important;position: relative;}#sk-container-id-3 div.sk-text-repr-fallback {display: none;}</style><div id=\"sk-container-id-3\" class=\"sk-top-container\"><div class=\"sk-text-repr-fallback\"><pre>SequentialFeatureSelector(estimator=LinearRegression(), k_features=(4, 4),\n",
       "                          scoring=&#x27;neg_mean_squared_error&#x27;, verbose=1)</pre><b>In a Jupyter environment, please rerun this cell to show the HTML representation or trust the notebook. <br />On GitHub, the HTML representation is unable to render, please try loading this page with nbviewer.org.</b></div><div class=\"sk-container\" hidden><div class=\"sk-item sk-dashed-wrapped\"><div class=\"sk-label-container\"><div class=\"sk-label sk-toggleable\"><input class=\"sk-toggleable__control sk-hidden--visually\" id=\"sk-estimator-id-5\" type=\"checkbox\" ><label for=\"sk-estimator-id-5\" class=\"sk-toggleable__label sk-toggleable__label-arrow\">SequentialFeatureSelector</label><div class=\"sk-toggleable__content\"><pre>SequentialFeatureSelector(estimator=LinearRegression(), k_features=(4, 4),\n",
       "                          scoring=&#x27;neg_mean_squared_error&#x27;, verbose=1)</pre></div></div></div><div class=\"sk-parallel\"><div class=\"sk-parallel-item\"><div class=\"sk-item\"><div class=\"sk-label-container\"><div class=\"sk-label sk-toggleable\"><input class=\"sk-toggleable__control sk-hidden--visually\" id=\"sk-estimator-id-6\" type=\"checkbox\" ><label for=\"sk-estimator-id-6\" class=\"sk-toggleable__label sk-toggleable__label-arrow\">estimator: LinearRegression</label><div class=\"sk-toggleable__content\"><pre>LinearRegression()</pre></div></div></div><div class=\"sk-serial\"><div class=\"sk-item\"><div class=\"sk-estimator sk-toggleable\"><input class=\"sk-toggleable__control sk-hidden--visually\" id=\"sk-estimator-id-7\" type=\"checkbox\" ><label for=\"sk-estimator-id-7\" class=\"sk-toggleable__label sk-toggleable__label-arrow\">LinearRegression</label><div class=\"sk-toggleable__content\"><pre>LinearRegression()</pre></div></div></div></div></div></div></div></div></div></div>"
      ],
      "text/plain": [
       "SequentialFeatureSelector(estimator=LinearRegression(), k_features=(4, 4),\n",
       "                          scoring='neg_mean_squared_error', verbose=1)"
      ]
     },
     "execution_count": 55,
     "metadata": {},
     "output_type": "execute_result"
    }
   ],
   "source": [
    "model_sfs.fit(X, y)"
   ]
  },
  {
   "cell_type": "code",
   "execution_count": 56,
   "id": "2d0105b1",
   "metadata": {},
   "outputs": [
    {
     "data": {
      "text/plain": [
       "{1: {'feature_idx': (11,),\n",
       "  'cv_scores': array([-0.67685941, -0.90199742, -0.96203408, -0.81095999, -0.83595063]),\n",
       "  'avg_score': -0.8375603059976392,\n",
       "  'feature_names': ('review_scores_value',),\n",
       "  'ci_bound': 0.12352282048530241,\n",
       "  'std_dev': 0.09610495081376018,\n",
       "  'std_err': 0.04805247540688009},\n",
       " 2: {'feature_idx': (11, 12),\n",
       "  'cv_scores': array([-0.66521453, -0.88493082, -0.94959122, -0.79149257, -0.82831928]),\n",
       "  'avg_score': -0.8239096853827107,\n",
       "  'feature_names': ('review_scores_value', 'room_type_Entire home/apt'),\n",
       "  'ci_bound': 0.12297741617032538,\n",
       "  'std_dev': 0.0956806077275309,\n",
       "  'std_err': 0.04784030386376544},\n",
       " 3: {'feature_idx': (2, 11, 12),\n",
       "  'cv_scores': array([-0.65641003, -0.86301189, -0.92254037, -0.77695578, -0.81252604]),\n",
       "  'avg_score': -0.806288823642015,\n",
       "  'feature_names': ('bedrooms',\n",
       "   'review_scores_value',\n",
       "   'room_type_Entire home/apt'),\n",
       "  'ci_bound': 0.11509622175895916,\n",
       "  'std_dev': 0.08954877072541065,\n",
       "  'std_err': 0.044774385362705324},\n",
       " 4: {'feature_idx': (2, 5, 11, 12),\n",
       "  'cv_scores': array([-0.65316511, -0.85940191, -0.91991024, -0.77333659, -0.8092063 ]),\n",
       "  'avg_score': -0.8030040295819045,\n",
       "  'feature_names': ('bedrooms',\n",
       "   'review_scores_rating',\n",
       "   'review_scores_value',\n",
       "   'room_type_Entire home/apt'),\n",
       "  'ci_bound': 0.1152729129956812,\n",
       "  'std_dev': 0.08968624251036243,\n",
       "  'std_err': 0.044843121255181216}}"
      ]
     },
     "execution_count": 56,
     "metadata": {},
     "output_type": "execute_result"
    }
   ],
   "source": [
    "model_sfs.get_metric_dict()"
   ]
  },
  {
   "cell_type": "code",
   "execution_count": 57,
   "id": "f95565fd",
   "metadata": {},
   "outputs": [
    {
     "data": {
      "text/html": [
       "<div>\n",
       "<style scoped>\n",
       "    .dataframe tbody tr th:only-of-type {\n",
       "        vertical-align: middle;\n",
       "    }\n",
       "\n",
       "    .dataframe tbody tr th {\n",
       "        vertical-align: top;\n",
       "    }\n",
       "\n",
       "    .dataframe thead th {\n",
       "        text-align: right;\n",
       "    }\n",
       "</style>\n",
       "<table border=\"1\" class=\"dataframe\">\n",
       "  <thead>\n",
       "    <tr style=\"text-align: right;\">\n",
       "      <th></th>\n",
       "      <th>feature_idx</th>\n",
       "      <th>cv_scores</th>\n",
       "      <th>avg_score</th>\n",
       "      <th>feature_names</th>\n",
       "      <th>ci_bound</th>\n",
       "      <th>std_dev</th>\n",
       "      <th>std_err</th>\n",
       "    </tr>\n",
       "  </thead>\n",
       "  <tbody>\n",
       "    <tr>\n",
       "      <th>1</th>\n",
       "      <td>(11,)</td>\n",
       "      <td>[-0.6768594097379345, -0.9019974177765702, -0....</td>\n",
       "      <td>-0.83756</td>\n",
       "      <td>(review_scores_value,)</td>\n",
       "      <td>0.123523</td>\n",
       "      <td>0.096105</td>\n",
       "      <td>0.048052</td>\n",
       "    </tr>\n",
       "    <tr>\n",
       "      <th>2</th>\n",
       "      <td>(11, 12)</td>\n",
       "      <td>[-0.665214532944452, -0.8849308239167312, -0.9...</td>\n",
       "      <td>-0.82391</td>\n",
       "      <td>(review_scores_value, room_type_Entire home/apt)</td>\n",
       "      <td>0.122977</td>\n",
       "      <td>0.095681</td>\n",
       "      <td>0.04784</td>\n",
       "    </tr>\n",
       "    <tr>\n",
       "      <th>3</th>\n",
       "      <td>(2, 11, 12)</td>\n",
       "      <td>[-0.6564100312335577, -0.8630118936412964, -0....</td>\n",
       "      <td>-0.806289</td>\n",
       "      <td>(bedrooms, review_scores_value, room_type_Enti...</td>\n",
       "      <td>0.115096</td>\n",
       "      <td>0.089549</td>\n",
       "      <td>0.044774</td>\n",
       "    </tr>\n",
       "    <tr>\n",
       "      <th>4</th>\n",
       "      <td>(2, 5, 11, 12)</td>\n",
       "      <td>[-0.6531651097904069, -0.8594019097137056, -0....</td>\n",
       "      <td>-0.803004</td>\n",
       "      <td>(bedrooms, review_scores_rating, review_scores...</td>\n",
       "      <td>0.115273</td>\n",
       "      <td>0.089686</td>\n",
       "      <td>0.044843</td>\n",
       "    </tr>\n",
       "  </tbody>\n",
       "</table>\n",
       "</div>"
      ],
      "text/plain": [
       "      feature_idx                                          cv_scores  \\\n",
       "1           (11,)  [-0.6768594097379345, -0.9019974177765702, -0....   \n",
       "2        (11, 12)  [-0.665214532944452, -0.8849308239167312, -0.9...   \n",
       "3     (2, 11, 12)  [-0.6564100312335577, -0.8630118936412964, -0....   \n",
       "4  (2, 5, 11, 12)  [-0.6531651097904069, -0.8594019097137056, -0....   \n",
       "\n",
       "  avg_score                                      feature_names  ci_bound  \\\n",
       "1  -0.83756                             (review_scores_value,)  0.123523   \n",
       "2  -0.82391   (review_scores_value, room_type_Entire home/apt)  0.122977   \n",
       "3 -0.806289  (bedrooms, review_scores_value, room_type_Enti...  0.115096   \n",
       "4 -0.803004  (bedrooms, review_scores_rating, review_scores...  0.115273   \n",
       "\n",
       "    std_dev   std_err  \n",
       "1  0.096105  0.048052  \n",
       "2  0.095681   0.04784  \n",
       "3  0.089549  0.044774  \n",
       "4  0.089686  0.044843  "
      ]
     },
     "execution_count": 57,
     "metadata": {},
     "output_type": "execute_result"
    }
   ],
   "source": [
    "pd.DataFrame.from_dict(model_sfs.get_metric_dict()).T"
   ]
  },
  {
   "cell_type": "code",
   "execution_count": 58,
   "id": "e14f04a5",
   "metadata": {},
   "outputs": [
    {
     "data": {
      "text/plain": [
       "Text(0.5, 1.0, 'Sequential Forward Selection')"
      ]
     },
     "execution_count": 58,
     "metadata": {},
     "output_type": "execute_result"
    },
    {
     "data": {
      "image/png": "[encoded data removed]",
      "text/plain": [
       "<Figure size 432x288 with 1 Axes>"
      ]
     },
     "metadata": {
      "needs_background": "light"
     },
     "output_type": "display_data"
    }
   ],
   "source": [
    "from mlxtend.plotting import plot_sequential_feature_selection as plot_sfs\n",
    "import matplotlib.pyplot as plt\n",
    "\n",
    "fig1 = plot_sfs(model_sfs.get_metric_dict(), kind='std_dev')\n",
    "plt.title('Sequential Forward Selection')\n",
    "plt.grid()\n",
    "plt.show()"
   ]
  },
  {
   "cell_type": "code",
   "execution_count": 59,
   "id": "8574f8c8",
   "metadata": {},
   "outputs": [
    {
     "data": {
      "text/plain": [
       "(24886, 4)"
      ]
     },
     "execution_count": 59,
     "metadata": {},
     "output_type": "execute_result"
    }
   ],
   "source": [
    "X_selected = model_sfs.transform(X)\n",
    "X_selected.shape"
   ]
  },
  {
   "cell_type": "code",
   "execution_count": 60,
   "id": "44c0ba1e",
   "metadata": {},
   "outputs": [],
   "source": [
    "lr_after_selection = lr.fit(X_selected, y)"
   ]
  },
  {
   "cell_type": "code",
   "execution_count": 61,
   "id": "8145f190",
   "metadata": {},
   "outputs": [
    {
     "data": {
      "text/plain": [
       "array([0.37074576, 0.59412598, 0.67582438, 0.70654544, 0.24852257,\n",
       "       0.59412598, 0.80353172, 0.71634917, 0.20799779, 0.71634917])"
      ]
     },
     "execution_count": 61,
     "metadata": {},
     "output_type": "execute_result"
    }
   ],
   "source": [
    "lr_after_selection.predict(X_selected)[:10] "
   ]
  },
  {
   "cell_type": "code",
   "execution_count": 62,
   "id": "ccd38e4c",
   "metadata": {},
   "outputs": [],
   "source": [
    "from sklearn.feature_selection import RFE"
   ]
  },
  {
   "cell_type": "code",
   "execution_count": 63,
   "id": "7265837b",
   "metadata": {},
   "outputs": [
    {
     "data": {
      "text/html": [
       "<style>#sk-container-id-4 {color: black;background-color: white;}#sk-container-id-4 pre{padding: 0;}#sk-container-id-4 div.sk-toggleable {background-color: white;}#sk-container-id-4 label.sk-toggleable__label {cursor: pointer;display: block;width: 100%;margin-bottom: 0;padding: 0.3em;box-sizing: border-box;text-align: center;}#sk-container-id-4 label.sk-toggleable__label-arrow:before {content: \"▸\";float: left;margin-right: 0.25em;color: #696969;}#sk-container-id-4 label.sk-toggleable__label-arrow:hover:before {color: black;}#sk-container-id-4 div.sk-estimator:hover label.sk-toggleable__label-arrow:before {color: black;}#sk-container-id-4 div.sk-toggleable__content {max-height: 0;max-width: 0;overflow: hidden;text-align: left;background-color: #f0f8ff;}#sk-container-id-4 div.sk-toggleable__content pre {margin: 0.2em;color: black;border-radius: 0.25em;background-color: #f0f8ff;}#sk-container-id-4 input.sk-toggleable__control:checked~div.sk-toggleable__content {max-height: 200px;max-width: 100%;overflow: auto;}#sk-container-id-4 input.sk-toggleable__control:checked~label.sk-toggleable__label-arrow:before {content: \"▾\";}#sk-container-id-4 div.sk-estimator input.sk-toggleable__control:checked~label.sk-toggleable__label {background-color: #d4ebff;}#sk-container-id-4 div.sk-label input.sk-toggleable__control:checked~label.sk-toggleable__label {background-color: #d4ebff;}#sk-container-id-4 input.sk-hidden--visually {border: 0;clip: rect(1px 1px 1px 1px);clip: rect(1px, 1px, 1px, 1px);height: 1px;margin: -1px;overflow: hidden;padding: 0;position: absolute;width: 1px;}#sk-container-id-4 div.sk-estimator {font-family: monospace;background-color: #f0f8ff;border: 1px dotted black;border-radius: 0.25em;box-sizing: border-box;margin-bottom: 0.5em;}#sk-container-id-4 div.sk-estimator:hover {background-color: #d4ebff;}#sk-container-id-4 div.sk-parallel-item::after {content: \"\";width: 100%;border-bottom: 1px solid gray;flex-grow: 1;}#sk-container-id-4 div.sk-label:hover label.sk-toggleable__label {background-color: #d4ebff;}#sk-container-id-4 div.sk-serial::before {content: \"\";position: absolute;border-left: 1px solid gray;box-sizing: border-box;top: 0;bottom: 0;left: 50%;z-index: 0;}#sk-container-id-4 div.sk-serial {display: flex;flex-direction: column;align-items: center;background-color: white;padding-right: 0.2em;padding-left: 0.2em;position: relative;}#sk-container-id-4 div.sk-item {position: relative;z-index: 1;}#sk-container-id-4 div.sk-parallel {display: flex;align-items: stretch;justify-content: center;background-color: white;position: relative;}#sk-container-id-4 div.sk-item::before, #sk-container-id-4 div.sk-parallel-item::before {content: \"\";position: absolute;border-left: 1px solid gray;box-sizing: border-box;top: 0;bottom: 0;left: 50%;z-index: -1;}#sk-container-id-4 div.sk-parallel-item {display: flex;flex-direction: column;z-index: 1;position: relative;background-color: white;}#sk-container-id-4 div.sk-parallel-item:first-child::after {align-self: flex-end;width: 50%;}#sk-container-id-4 div.sk-parallel-item:last-child::after {align-self: flex-start;width: 50%;}#sk-container-id-4 div.sk-parallel-item:only-child::after {width: 0;}#sk-container-id-4 div.sk-dashed-wrapped {border: 1px dashed gray;margin: 0 0.4em 0.5em 0.4em;box-sizing: border-box;padding-bottom: 0.4em;background-color: white;}#sk-container-id-4 div.sk-label label {font-family: monospace;font-weight: bold;display: inline-block;line-height: 1.2em;}#sk-container-id-4 div.sk-label-container {text-align: center;}#sk-container-id-4 div.sk-container {/* jupyter's `normalize.less` sets `[hidden] { display: none; }` but bootstrap.min.css set `[hidden] { display: none !important; }` so we also need the `!important` here to be able to override the default hidden behavior on the sphinx rendered scikit-learn.org. See: https://github.com/scikit-learn/scikit-learn/issues/21755 */display: inline-block !important;position: relative;}#sk-container-id-4 div.sk-text-repr-fallback {display: none;}</style><div id=\"sk-container-id-4\" class=\"sk-top-container\"><div class=\"sk-text-repr-fallback\"><pre>RFE(estimator=LinearRegression(), n_features_to_select=4)</pre><b>In a Jupyter environment, please rerun this cell to show the HTML representation or trust the notebook. <br />On GitHub, the HTML representation is unable to render, please try loading this page with nbviewer.org.</b></div><div class=\"sk-container\" hidden><div class=\"sk-item sk-dashed-wrapped\"><div class=\"sk-label-container\"><div class=\"sk-label sk-toggleable\"><input class=\"sk-toggleable__control sk-hidden--visually\" id=\"sk-estimator-id-8\" type=\"checkbox\" ><label for=\"sk-estimator-id-8\" class=\"sk-toggleable__label sk-toggleable__label-arrow\">RFE</label><div class=\"sk-toggleable__content\"><pre>RFE(estimator=LinearRegression(), n_features_to_select=4)</pre></div></div></div><div class=\"sk-parallel\"><div class=\"sk-parallel-item\"><div class=\"sk-item\"><div class=\"sk-label-container\"><div class=\"sk-label sk-toggleable\"><input class=\"sk-toggleable__control sk-hidden--visually\" id=\"sk-estimator-id-9\" type=\"checkbox\" ><label for=\"sk-estimator-id-9\" class=\"sk-toggleable__label sk-toggleable__label-arrow\">estimator: LinearRegression</label><div class=\"sk-toggleable__content\"><pre>LinearRegression()</pre></div></div></div><div class=\"sk-serial\"><div class=\"sk-item\"><div class=\"sk-estimator sk-toggleable\"><input class=\"sk-toggleable__control sk-hidden--visually\" id=\"sk-estimator-id-10\" type=\"checkbox\" ><label for=\"sk-estimator-id-10\" class=\"sk-toggleable__label sk-toggleable__label-arrow\">LinearRegression</label><div class=\"sk-toggleable__content\"><pre>LinearRegression()</pre></div></div></div></div></div></div></div></div></div></div>"
      ],
      "text/plain": [
       "RFE(estimator=LinearRegression(), n_features_to_select=4)"
      ]
     },
     "execution_count": 63,
     "metadata": {},
     "output_type": "execute_result"
    }
   ],
   "source": [
    "model_RFE = RFE(lr, n_features_to_select=4)\n",
    "model_RFE.fit(X, y)"
   ]
  },
  {
   "cell_type": "code",
   "execution_count": 64,
   "id": "d804387f",
   "metadata": {},
   "outputs": [
    {
     "data": {
      "text/plain": [
       "array([False, False, False, False, False, False, False, False, False,\n",
       "       False, False,  True,  True,  True,  True, False])"
      ]
     },
     "execution_count": 64,
     "metadata": {},
     "output_type": "execute_result"
    }
   ],
   "source": [
    "model_RFE.get_support()"
   ]
  },
  {
   "cell_type": "code",
   "execution_count": 65,
   "id": "1a3e4d50",
   "metadata": {},
   "outputs": [
    {
     "data": {
      "text/html": [
       "<div>\n",
       "<style scoped>\n",
       "    .dataframe tbody tr th:only-of-type {\n",
       "        vertical-align: middle;\n",
       "    }\n",
       "\n",
       "    .dataframe tbody tr th {\n",
       "        vertical-align: top;\n",
       "    }\n",
       "\n",
       "    .dataframe thead th {\n",
       "        text-align: right;\n",
       "    }\n",
       "</style>\n",
       "<table border=\"1\" class=\"dataframe\">\n",
       "  <thead>\n",
       "    <tr style=\"text-align: right;\">\n",
       "      <th></th>\n",
       "      <th>review_scores_value</th>\n",
       "      <th>room_type_Entire home/apt</th>\n",
       "      <th>room_type_Hotel room</th>\n",
       "      <th>room_type_Private room</th>\n",
       "    </tr>\n",
       "  </thead>\n",
       "  <tbody>\n",
       "    <tr>\n",
       "      <th>0</th>\n",
       "      <td>4.666319</td>\n",
       "      <td>0</td>\n",
       "      <td>0</td>\n",
       "      <td>1</td>\n",
       "    </tr>\n",
       "    <tr>\n",
       "      <th>1</th>\n",
       "      <td>4.666319</td>\n",
       "      <td>1</td>\n",
       "      <td>0</td>\n",
       "      <td>0</td>\n",
       "    </tr>\n",
       "    <tr>\n",
       "      <th>2</th>\n",
       "      <td>4.890000</td>\n",
       "      <td>1</td>\n",
       "      <td>0</td>\n",
       "      <td>0</td>\n",
       "    </tr>\n",
       "    <tr>\n",
       "      <th>3</th>\n",
       "      <td>4.570000</td>\n",
       "      <td>1</td>\n",
       "      <td>0</td>\n",
       "      <td>0</td>\n",
       "    </tr>\n",
       "    <tr>\n",
       "      <th>4</th>\n",
       "      <td>4.666319</td>\n",
       "      <td>0</td>\n",
       "      <td>0</td>\n",
       "      <td>1</td>\n",
       "    </tr>\n",
       "    <tr>\n",
       "      <th>...</th>\n",
       "      <td>...</td>\n",
       "      <td>...</td>\n",
       "      <td>...</td>\n",
       "      <td>...</td>\n",
       "    </tr>\n",
       "    <tr>\n",
       "      <th>24881</th>\n",
       "      <td>4.666319</td>\n",
       "      <td>1</td>\n",
       "      <td>0</td>\n",
       "      <td>0</td>\n",
       "    </tr>\n",
       "    <tr>\n",
       "      <th>24882</th>\n",
       "      <td>3.750000</td>\n",
       "      <td>1</td>\n",
       "      <td>0</td>\n",
       "      <td>0</td>\n",
       "    </tr>\n",
       "    <tr>\n",
       "      <th>24883</th>\n",
       "      <td>4.940000</td>\n",
       "      <td>0</td>\n",
       "      <td>0</td>\n",
       "      <td>1</td>\n",
       "    </tr>\n",
       "    <tr>\n",
       "      <th>24884</th>\n",
       "      <td>4.330000</td>\n",
       "      <td>1</td>\n",
       "      <td>0</td>\n",
       "      <td>0</td>\n",
       "    </tr>\n",
       "    <tr>\n",
       "      <th>24885</th>\n",
       "      <td>5.000000</td>\n",
       "      <td>0</td>\n",
       "      <td>0</td>\n",
       "      <td>1</td>\n",
       "    </tr>\n",
       "  </tbody>\n",
       "</table>\n",
       "<p>24886 rows × 4 columns</p>\n",
       "</div>"
      ],
      "text/plain": [
       "       review_scores_value  room_type_Entire home/apt  room_type_Hotel room  \\\n",
       "0                 4.666319                          0                     0   \n",
       "1                 4.666319                          1                     0   \n",
       "2                 4.890000                          1                     0   \n",
       "3                 4.570000                          1                     0   \n",
       "4                 4.666319                          0                     0   \n",
       "...                    ...                        ...                   ...   \n",
       "24881             4.666319                          1                     0   \n",
       "24882             3.750000                          1                     0   \n",
       "24883             4.940000                          0                     0   \n",
       "24884             4.330000                          1                     0   \n",
       "24885             5.000000                          0                     0   \n",
       "\n",
       "       room_type_Private room  \n",
       "0                           1  \n",
       "1                           0  \n",
       "2                           0  \n",
       "3                           0  \n",
       "4                           1  \n",
       "...                       ...  \n",
       "24881                       0  \n",
       "24882                       0  \n",
       "24883                       1  \n",
       "24884                       0  \n",
       "24885                       1  \n",
       "\n",
       "[24886 rows x 4 columns]"
      ]
     },
     "execution_count": 65,
     "metadata": {},
     "output_type": "execute_result"
    }
   ],
   "source": [
    "X.loc[:, model_RFE.get_support()]"
   ]
  },
  {
   "cell_type": "code",
   "execution_count": 67,
   "id": "ac949b04",
   "metadata": {},
   "outputs": [],
   "source": [
    "#regularization\n",
    "from sklearn.linear_model import Lasso, LassoCV, lars_path"
   ]
  },
  {
   "cell_type": "code",
   "execution_count": 68,
   "id": "b501ad3a",
   "metadata": {},
   "outputs": [
    {
     "ename": "TypeError",
     "evalue": "__init__() got an unexpected keyword argument 'normalize'",
     "output_type": "error",
     "traceback": [
      "\u001b[0;31m---------------------------------------------------------------------------\u001b[0m",
      "\u001b[0;31mTypeError\u001b[0m                                 Traceback (most recent call last)",
      "\u001b[0;32m/var/folders/16/sj7htwpn37x5chbjt67h8nrr0000gn/T/ipykernel_37601/1571934735.py\u001b[0m in \u001b[0;36m<module>\u001b[0;34m\u001b[0m\n\u001b[0;32m----> 1\u001b[0;31m \u001b[0mmodel_lasso\u001b[0m \u001b[0;34m=\u001b[0m \u001b[0mLasso\u001b[0m\u001b[0;34m(\u001b[0m\u001b[0malpha\u001b[0m \u001b[0;34m=\u001b[0m \u001b[0;36m0.1\u001b[0m\u001b[0;34m,\u001b[0m \u001b[0mnormalize\u001b[0m\u001b[0;34m=\u001b[0m\u001b[0;32mTrue\u001b[0m\u001b[0;34m)\u001b[0m\u001b[0;34m\u001b[0m\u001b[0;34m\u001b[0m\u001b[0m\n\u001b[0m\u001b[1;32m      2\u001b[0m \u001b[0mmodel_lasso\u001b[0m\u001b[0;34m.\u001b[0m\u001b[0mfit\u001b[0m\u001b[0;34m(\u001b[0m\u001b[0mX\u001b[0m\u001b[0;34m,\u001b[0m \u001b[0my\u001b[0m\u001b[0;34m)\u001b[0m\u001b[0;34m\u001b[0m\u001b[0;34m\u001b[0m\u001b[0m\n\u001b[1;32m      3\u001b[0m \u001b[0mmodel_lasso\u001b[0m\u001b[0;34m.\u001b[0m\u001b[0mcoef_\u001b[0m\u001b[0;34m\u001b[0m\u001b[0;34m\u001b[0m\u001b[0m\n",
      "\u001b[0;31mTypeError\u001b[0m: __init__() got an unexpected keyword argument 'normalize'"
     ]
    }
   ],
   "source": [
    "model_lasso = Lasso(alpha = 0.1, normalize=True)\n",
    "model_lasso.fit(X, y)\n",
    "model_lasso.coef_"
   ]
  },
  {
   "cell_type": "code",
   "execution_count": 69,
   "id": "cac3cc7b",
   "metadata": {},
   "outputs": [],
   "source": [
    "from sklearn.model_selection import train_test_split"
   ]
  },
  {
   "cell_type": "code",
   "execution_count": 70,
   "id": "d7ac6189",
   "metadata": {},
   "outputs": [],
   "source": [
    "X_train, X_test, y_train, y_test = train_test_split(X, y, test_size=0.2)"
   ]
  },
  {
   "cell_type": "code",
   "execution_count": 78,
   "id": "0880ba81",
   "metadata": {},
   "outputs": [
    {
     "data": {
      "text/plain": [
       "(19908, 16)"
      ]
     },
     "execution_count": 78,
     "metadata": {},
     "output_type": "execute_result"
    },
    {
     "data": {
      "text/plain": [
       "(4978, 16)"
      ]
     },
     "execution_count": 78,
     "metadata": {},
     "output_type": "execute_result"
    }
   ],
   "source": [
    "X_train.shape\n",
    "X_test.shape"
   ]
  },
  {
   "cell_type": "code",
   "execution_count": 73,
   "id": "c3aaf0b7",
   "metadata": {},
   "outputs": [],
   "source": [
    "scaler = preprocessing.StandardScaler().fit(X_train)"
   ]
  },
  {
   "cell_type": "code",
   "execution_count": 74,
   "id": "21d863fc",
   "metadata": {},
   "outputs": [
    {
     "name": "stderr",
     "output_type": "stream",
     "text": [
      "/Users/apple/opt/anaconda3/lib/python3.9/site-packages/sklearn/linear_model/_coordinate_descent.py:620: ConvergenceWarning: Objective did not converge. You might want to increase the number of iterations. Duality gap: 2.684044809824627, tolerance: 1.4038273381822157\n",
      "  model = cd_fast.enet_coordinate_descent_gram(\n",
      "/Users/apple/opt/anaconda3/lib/python3.9/site-packages/sklearn/linear_model/_coordinate_descent.py:620: ConvergenceWarning: Objective did not converge. You might want to increase the number of iterations. Duality gap: 16.17561284952535, tolerance: 1.4038273381822157\n",
      "  model = cd_fast.enet_coordinate_descent_gram(\n",
      "/Users/apple/opt/anaconda3/lib/python3.9/site-packages/sklearn/linear_model/_coordinate_descent.py:620: ConvergenceWarning: Objective did not converge. You might want to increase the number of iterations. Duality gap: 11.056071708178933, tolerance: 1.3565258855682558\n",
      "  model = cd_fast.enet_coordinate_descent_gram(\n",
      "/Users/apple/opt/anaconda3/lib/python3.9/site-packages/sklearn/linear_model/_coordinate_descent.py:620: ConvergenceWarning: Objective did not converge. You might want to increase the number of iterations. Duality gap: 7.5526676584904635, tolerance: 1.342133480166393\n",
      "  model = cd_fast.enet_coordinate_descent_gram(\n",
      "/Users/apple/opt/anaconda3/lib/python3.9/site-packages/sklearn/linear_model/_coordinate_descent.py:620: ConvergenceWarning: Objective did not converge. You might want to increase the number of iterations. Duality gap: 10.048338772161514, tolerance: 1.342133480166393\n",
      "  model = cd_fast.enet_coordinate_descent_gram(\n",
      "/Users/apple/opt/anaconda3/lib/python3.9/site-packages/sklearn/linear_model/_coordinate_descent.py:620: ConvergenceWarning: Objective did not converge. You might want to increase the number of iterations. Duality gap: 10.78186844391712, tolerance: 1.342133480166393\n",
      "  model = cd_fast.enet_coordinate_descent_gram(\n",
      "/Users/apple/opt/anaconda3/lib/python3.9/site-packages/sklearn/linear_model/_coordinate_descent.py:620: ConvergenceWarning: Objective did not converge. You might want to increase the number of iterations. Duality gap: 10.983437660985146, tolerance: 1.342133480166393\n",
      "  model = cd_fast.enet_coordinate_descent_gram(\n",
      "/Users/apple/opt/anaconda3/lib/python3.9/site-packages/sklearn/linear_model/_coordinate_descent.py:620: ConvergenceWarning: Objective did not converge. You might want to increase the number of iterations. Duality gap: 11.036457283724303, tolerance: 1.342133480166393\n",
      "  model = cd_fast.enet_coordinate_descent_gram(\n",
      "/Users/apple/opt/anaconda3/lib/python3.9/site-packages/sklearn/linear_model/_coordinate_descent.py:620: ConvergenceWarning: Objective did not converge. You might want to increase the number of iterations. Duality gap: 7.393769308198898, tolerance: 1.3438040698562193\n",
      "  model = cd_fast.enet_coordinate_descent_gram(\n",
      "/Users/apple/opt/anaconda3/lib/python3.9/site-packages/sklearn/linear_model/_coordinate_descent.py:620: ConvergenceWarning: Objective did not converge. You might want to increase the number of iterations. Duality gap: 9.787146768605453, tolerance: 1.3438040698562193\n",
      "  model = cd_fast.enet_coordinate_descent_gram(\n",
      "/Users/apple/opt/anaconda3/lib/python3.9/site-packages/sklearn/linear_model/_coordinate_descent.py:620: ConvergenceWarning: Objective did not converge. You might want to increase the number of iterations. Duality gap: 10.481919439329431, tolerance: 1.3438040698562193\n",
      "  model = cd_fast.enet_coordinate_descent_gram(\n",
      "/Users/apple/opt/anaconda3/lib/python3.9/site-packages/sklearn/linear_model/_coordinate_descent.py:620: ConvergenceWarning: Objective did not converge. You might want to increase the number of iterations. Duality gap: 10.670467107516743, tolerance: 1.3438040698562193\n",
      "  model = cd_fast.enet_coordinate_descent_gram(\n",
      "/Users/apple/opt/anaconda3/lib/python3.9/site-packages/sklearn/linear_model/_coordinate_descent.py:620: ConvergenceWarning: Objective did not converge. You might want to increase the number of iterations. Duality gap: 10.719273451521076, tolerance: 1.3438040698562193\n",
      "  model = cd_fast.enet_coordinate_descent_gram(\n"
     ]
    },
    {
     "data": {
      "text/html": [
       "<style>#sk-container-id-5 {color: black;background-color: white;}#sk-container-id-5 pre{padding: 0;}#sk-container-id-5 div.sk-toggleable {background-color: white;}#sk-container-id-5 label.sk-toggleable__label {cursor: pointer;display: block;width: 100%;margin-bottom: 0;padding: 0.3em;box-sizing: border-box;text-align: center;}#sk-container-id-5 label.sk-toggleable__label-arrow:before {content: \"▸\";float: left;margin-right: 0.25em;color: #696969;}#sk-container-id-5 label.sk-toggleable__label-arrow:hover:before {color: black;}#sk-container-id-5 div.sk-estimator:hover label.sk-toggleable__label-arrow:before {color: black;}#sk-container-id-5 div.sk-toggleable__content {max-height: 0;max-width: 0;overflow: hidden;text-align: left;background-color: #f0f8ff;}#sk-container-id-5 div.sk-toggleable__content pre {margin: 0.2em;color: black;border-radius: 0.25em;background-color: #f0f8ff;}#sk-container-id-5 input.sk-toggleable__control:checked~div.sk-toggleable__content {max-height: 200px;max-width: 100%;overflow: auto;}#sk-container-id-5 input.sk-toggleable__control:checked~label.sk-toggleable__label-arrow:before {content: \"▾\";}#sk-container-id-5 div.sk-estimator input.sk-toggleable__control:checked~label.sk-toggleable__label {background-color: #d4ebff;}#sk-container-id-5 div.sk-label input.sk-toggleable__control:checked~label.sk-toggleable__label {background-color: #d4ebff;}#sk-container-id-5 input.sk-hidden--visually {border: 0;clip: rect(1px 1px 1px 1px);clip: rect(1px, 1px, 1px, 1px);height: 1px;margin: -1px;overflow: hidden;padding: 0;position: absolute;width: 1px;}#sk-container-id-5 div.sk-estimator {font-family: monospace;background-color: #f0f8ff;border: 1px dotted black;border-radius: 0.25em;box-sizing: border-box;margin-bottom: 0.5em;}#sk-container-id-5 div.sk-estimator:hover {background-color: #d4ebff;}#sk-container-id-5 div.sk-parallel-item::after {content: \"\";width: 100%;border-bottom: 1px solid gray;flex-grow: 1;}#sk-container-id-5 div.sk-label:hover label.sk-toggleable__label {background-color: #d4ebff;}#sk-container-id-5 div.sk-serial::before {content: \"\";position: absolute;border-left: 1px solid gray;box-sizing: border-box;top: 0;bottom: 0;left: 50%;z-index: 0;}#sk-container-id-5 div.sk-serial {display: flex;flex-direction: column;align-items: center;background-color: white;padding-right: 0.2em;padding-left: 0.2em;position: relative;}#sk-container-id-5 div.sk-item {position: relative;z-index: 1;}#sk-container-id-5 div.sk-parallel {display: flex;align-items: stretch;justify-content: center;background-color: white;position: relative;}#sk-container-id-5 div.sk-item::before, #sk-container-id-5 div.sk-parallel-item::before {content: \"\";position: absolute;border-left: 1px solid gray;box-sizing: border-box;top: 0;bottom: 0;left: 50%;z-index: -1;}#sk-container-id-5 div.sk-parallel-item {display: flex;flex-direction: column;z-index: 1;position: relative;background-color: white;}#sk-container-id-5 div.sk-parallel-item:first-child::after {align-self: flex-end;width: 50%;}#sk-container-id-5 div.sk-parallel-item:last-child::after {align-self: flex-start;width: 50%;}#sk-container-id-5 div.sk-parallel-item:only-child::after {width: 0;}#sk-container-id-5 div.sk-dashed-wrapped {border: 1px dashed gray;margin: 0 0.4em 0.5em 0.4em;box-sizing: border-box;padding-bottom: 0.4em;background-color: white;}#sk-container-id-5 div.sk-label label {font-family: monospace;font-weight: bold;display: inline-block;line-height: 1.2em;}#sk-container-id-5 div.sk-label-container {text-align: center;}#sk-container-id-5 div.sk-container {/* jupyter's `normalize.less` sets `[hidden] { display: none; }` but bootstrap.min.css set `[hidden] { display: none !important; }` so we also need the `!important` here to be able to override the default hidden behavior on the sphinx rendered scikit-learn.org. See: https://github.com/scikit-learn/scikit-learn/issues/21755 */display: inline-block !important;position: relative;}#sk-container-id-5 div.sk-text-repr-fallback {display: none;}</style><div id=\"sk-container-id-5\" class=\"sk-top-container\"><div class=\"sk-text-repr-fallback\"><pre>LassoCV(cv=5)</pre><b>In a Jupyter environment, please rerun this cell to show the HTML representation or trust the notebook. <br />On GitHub, the HTML representation is unable to render, please try loading this page with nbviewer.org.</b></div><div class=\"sk-container\" hidden><div class=\"sk-item\"><div class=\"sk-estimator sk-toggleable\"><input class=\"sk-toggleable__control sk-hidden--visually\" id=\"sk-estimator-id-11\" type=\"checkbox\" checked><label for=\"sk-estimator-id-11\" class=\"sk-toggleable__label sk-toggleable__label-arrow\">LassoCV</label><div class=\"sk-toggleable__content\"><pre>LassoCV(cv=5)</pre></div></div></div></div></div>"
      ],
      "text/plain": [
       "LassoCV(cv=5)"
      ]
     },
     "execution_count": 74,
     "metadata": {},
     "output_type": "execute_result"
    }
   ],
   "source": [
    "model_lassoCV = LassoCV(cv=5) # note we don't need to normalize again\n",
    "model_lassoCV.fit(scaler.transform(X_train), y_train) # note we transform X_train"
   ]
  },
  {
   "cell_type": "code",
   "execution_count": 76,
   "id": "71c6c259",
   "metadata": {},
   "outputs": [],
   "source": [
    "y_hat_test = model_lassoCV.predict(scaler.transform((X_test))) "
   ]
  },
  {
   "cell_type": "code",
   "execution_count": 77,
   "id": "ce09a878",
   "metadata": {},
   "outputs": [
    {
     "data": {
      "text/plain": [
       "0.8214578435891412"
      ]
     },
     "execution_count": 77,
     "metadata": {},
     "output_type": "execute_result"
    }
   ],
   "source": [
    "from sklearn import metrics\n",
    "metrics.mean_squared_error(y_true=y_test, y_pred=y_hat_test)"
   ]
  },
  {
   "cell_type": "code",
   "execution_count": null,
   "id": "75f2b6e2",
   "metadata": {},
   "outputs": [],
   "source": []
  }
 ],
 "metadata": {
  "kernelspec": {
   "display_name": "Python 3 (ipykernel)",
   "language": "python",
   "name": "python3"
  },
  "language_info": {
   "codemirror_mode": {
    "name": "ipython",
    "version": 3
   },
   "file_extension": ".py",
   "mimetype": "text/x-python",
   "name": "python",
   "nbconvert_exporter": "python",
   "pygments_lexer": "ipython3",
   "version": "3.9.7"
  }
 },
 "nbformat": 4,
 "nbformat_minor": 5
}
