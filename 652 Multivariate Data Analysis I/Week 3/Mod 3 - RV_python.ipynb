{
 "cells": [
  {
   "cell_type": "code",
   "execution_count": 1,
   "metadata": {
    "executionInfo": {
     "elapsed": 622,
     "status": "ok",
     "timestamp": 1664236360268,
     "user": {
      "displayName": "Feng Mai",
      "userId": "07316652680205976084"
     },
     "user_tz": 240
    },
    "id": "R6zfa0I-H0fB"
   },
   "outputs": [],
   "source": [
    "from scipy.stats import expon, norm\n",
    "import math"
   ]
  },
  {
   "cell_type": "markdown",
   "metadata": {
    "id": "XD1Zy_bFtXCD"
   },
   "source": [
    "Exponential Distribution"
   ]
  },
  {
   "cell_type": "code",
   "execution_count": 2,
   "metadata": {
    "executionInfo": {
     "elapsed": 151,
     "status": "ok",
     "timestamp": 1664236621946,
     "user": {
      "displayName": "Feng Mai",
      "userId": "07316652680205976084"
     },
     "user_tz": 240
    },
    "id": "ZMUZj6FcrzDm"
   },
   "outputs": [],
   "source": [
    "X = expon(scale = 1500) # scale = mu = 1500. If using a different parameterization, lambda = 1/1500"
   ]
  },
  {
   "cell_type": "code",
   "execution_count": 3,
   "metadata": {
    "colab": {
     "base_uri": "https://localhost:8080/"
    },
    "executionInfo": {
     "elapsed": 152,
     "status": "ok",
     "timestamp": 1664236705307,
     "user": {
      "displayName": "Feng Mai",
      "userId": "07316652680205976084"
     },
     "user_tz": 240
    },
    "id": "YJoJnH0ntIPu",
    "outputId": "4a1dd7a8-43ed-4728-9c48-57b78ffbf91e"
   },
   "outputs": [
    {
     "data": {
      "text/plain": [
       "0.2498199809168653"
      ]
     },
     "execution_count": 3,
     "metadata": {},
     "output_type": "execute_result"
    }
   ],
   "source": [
    "X.cdf(2000) - X.cdf(1000)"
   ]
  },
  {
   "cell_type": "code",
   "execution_count": 4,
   "metadata": {
    "colab": {
     "base_uri": "https://localhost:8080/"
    },
    "executionInfo": {
     "elapsed": 163,
     "status": "ok",
     "timestamp": 1664236719352,
     "user": {
      "displayName": "Feng Mai",
      "userId": "07316652680205976084"
     },
     "user_tz": 240
    },
    "id": "YJAs8pFIseJL",
    "outputId": "9d96a301-49f9-432f-c0b9-8d3a31268c86"
   },
   "outputs": [
    {
     "data": {
      "text/plain": [
       "1039.720770839918"
      ]
     },
     "execution_count": 4,
     "metadata": {},
     "output_type": "execute_result"
    }
   ],
   "source": [
    "X.median()"
   ]
  },
  {
   "cell_type": "code",
   "execution_count": 5,
   "metadata": {
    "colab": {
     "base_uri": "https://localhost:8080/"
    },
    "executionInfo": {
     "elapsed": 152,
     "status": "ok",
     "timestamp": 1664236726023,
     "user": {
      "displayName": "Feng Mai",
      "userId": "07316652680205976084"
     },
     "user_tz": 240
    },
    "id": "v2l_D5Z4siDD",
    "outputId": "111a514e-a067-428d-8164-41cbe020955c"
   },
   "outputs": [
    {
     "data": {
      "text/plain": [
       "1039.720770839918"
      ]
     },
     "execution_count": 5,
     "metadata": {},
     "output_type": "execute_result"
    }
   ],
   "source": [
    "math.log(2)*1500 "
   ]
  },
  {
   "cell_type": "code",
   "execution_count": 7,
   "metadata": {
    "colab": {
     "base_uri": "https://localhost:8080/"
    },
    "executionInfo": {
     "elapsed": 170,
     "status": "ok",
     "timestamp": 1664236795486,
     "user": {
      "displayName": "Feng Mai",
      "userId": "07316652680205976084"
     },
     "user_tz": 240
    },
    "id": "ss3CvAyntT_2",
    "outputId": "92c61d0c-1ccd-434e-ae9a-6b92527bb899"
   },
   "outputs": [
    {
     "data": {
      "text/plain": [
       "4493.598410330985"
      ]
     },
     "execution_count": 7,
     "metadata": {},
     "output_type": "execute_result"
    }
   ],
   "source": [
    "X.ppf(0.95)"
   ]
  },
  {
   "cell_type": "code",
   "execution_count": 11,
   "metadata": {
    "colab": {
     "base_uri": "https://localhost:8080/"
    },
    "executionInfo": {
     "elapsed": 154,
     "status": "ok",
     "timestamp": 1664236919561,
     "user": {
      "displayName": "Feng Mai",
      "userId": "07316652680205976084"
     },
     "user_tz": 240
    },
    "id": "142A7gsLtoLi",
    "outputId": "3bed504e-6c12-4148-bac2-04f885eff58f"
   },
   "outputs": [
    {
     "data": {
      "text/plain": [
       "array([2202.89007384,  314.90132426,  481.00771911,  201.87987886,\n",
       "        743.45588777,  343.56295169, 2730.78078883, 1398.77905563,\n",
       "       6006.0113486 , 1583.6528863 ])"
      ]
     },
     "execution_count": 11,
     "metadata": {},
     "output_type": "execute_result"
    }
   ],
   "source": [
    "X.rvs(10)"
   ]
  },
  {
   "cell_type": "code",
   "execution_count": 12,
   "metadata": {
    "colab": {
     "base_uri": "https://localhost:8080/",
     "height": 268
    },
    "executionInfo": {
     "elapsed": 305,
     "status": "ok",
     "timestamp": 1664236929728,
     "user": {
      "displayName": "Feng Mai",
      "userId": "07316652680205976084"
     },
     "user_tz": 240
    },
    "id": "CMbf7nfhtt5K",
    "outputId": "03a06146-4839-4a08-ef3f-0bbb1a8fbf2d"
   },
   "outputs": [
    {
     "data": {
      "image/png": "[encoded data removed]",
      "text/plain": [
       "<Figure size 432x288 with 1 Axes>"
      ]
     },
     "metadata": {
      "needs_background": "light"
     },
     "output_type": "display_data"
    }
   ],
   "source": [
    "import matplotlib.pyplot as plt\n",
    "fig, ax = plt.subplots(1, 1)\n",
    "\n",
    "r = X.rvs(size=1000)\n",
    "ax.hist(r, density=True, histtype='stepfilled', alpha=0.2)\n",
    "plt.show()"
   ]
  },
  {
   "cell_type": "markdown",
   "metadata": {
    "id": "oaR-KI1-tW80"
   },
   "source": [
    "Normal (Gaussian) Distribution"
   ]
  },
  {
   "cell_type": "code",
   "execution_count": 14,
   "metadata": {
    "executionInfo": {
     "elapsed": 135,
     "status": "ok",
     "timestamp": 1664237025179,
     "user": {
      "displayName": "Feng Mai",
      "userId": "07316652680205976084"
     },
     "user_tz": 240
    },
    "id": "1SKy9TpLo2RR"
   },
   "outputs": [],
   "source": [
    "Y = norm(loc = 0, scale = 1) # loc = mean, scale = std. dev. "
   ]
  },
  {
   "cell_type": "code",
   "execution_count": 15,
   "metadata": {
    "colab": {
     "base_uri": "https://localhost:8080/"
    },
    "executionInfo": {
     "elapsed": 4,
     "status": "ok",
     "timestamp": 1664237025840,
     "user": {
      "displayName": "Feng Mai",
      "userId": "07316652680205976084"
     },
     "user_tz": 240
    },
    "id": "rJxZ3Qc5o6fb",
    "outputId": "89749437-d9c9-4136-e971-70741fe89854"
   },
   "outputs": [
    {
     "data": {
      "text/plain": [
       "0.022750131948179195"
      ]
     },
     "execution_count": 15,
     "metadata": {},
     "output_type": "execute_result"
    }
   ],
   "source": [
    "Y.cdf(-2)"
   ]
  },
  {
   "cell_type": "code",
   "execution_count": 16,
   "metadata": {
    "colab": {
     "base_uri": "https://localhost:8080/"
    },
    "executionInfo": {
     "elapsed": 135,
     "status": "ok",
     "timestamp": 1664237176925,
     "user": {
      "displayName": "Feng Mai",
      "userId": "07316652680205976084"
     },
     "user_tz": 240
    },
    "id": "NAVdeEY7JSQf",
    "outputId": "00aa68f0-bbf3-405b-83ed-d097a1243948"
   },
   "outputs": [
    {
     "data": {
      "text/plain": [
       "0.0"
      ]
     },
     "execution_count": 16,
     "metadata": {},
     "output_type": "execute_result"
    }
   ],
   "source": [
    "Y.ppf(0.5)"
   ]
  },
  {
   "cell_type": "code",
   "execution_count": 25,
   "metadata": {
    "colab": {
     "base_uri": "https://localhost:8080/"
    },
    "executionInfo": {
     "elapsed": 142,
     "status": "ok",
     "timestamp": 1664237199472,
     "user": {
      "displayName": "Feng Mai",
      "userId": "07316652680205976084"
     },
     "user_tz": 240
    },
    "id": "M5_ToMsrJZfG",
    "outputId": "82af950c-99ad-4f50-cfe6-2670f526d744"
   },
   "outputs": [
    {
     "data": {
      "text/plain": [
       "array([-0.08944255, -0.45950937, -0.23700197, -0.52504737,  0.60685676,\n",
       "       -2.30082746,  0.71446887,  2.7988779 , -1.32603987, -0.79607735])"
      ]
     },
     "execution_count": 25,
     "metadata": {},
     "output_type": "execute_result"
    }
   ],
   "source": [
    "Y.rvs(10)"
   ]
  },
  {
   "cell_type": "code",
   "execution_count": 26,
   "metadata": {
    "colab": {
     "base_uri": "https://localhost:8080/",
     "height": 265
    },
    "executionInfo": {
     "elapsed": 152,
     "status": "ok",
     "timestamp": 1664237207541,
     "user": {
      "displayName": "Feng Mai",
      "userId": "07316652680205976084"
     },
     "user_tz": 240
    },
    "id": "uQDprzb0t5KY",
    "outputId": "bc40ae7c-50bb-4032-be27-c61455dc0006"
   },
   "outputs": [
    {
     "data": {
      "image/png": "[encoded data removed]",
      "text/plain": [
       "<Figure size 432x288 with 1 Axes>"
      ]
     },
     "metadata": {
      "needs_background": "light"
     },
     "output_type": "display_data"
    }
   ],
   "source": [
    "import matplotlib.pyplot as plt\n",
    "fig, ax = plt.subplots(1, 1)\n",
    "\n",
    "r = Y.rvs(size=1000)\n",
    "ax.hist(r, density=True, histtype='stepfilled', alpha=0.2)\n",
    "plt.show()"
   ]
  },
  {
   "cell_type": "code",
   "execution_count": null,
   "metadata": {
    "id": "uwDSFBy4t8vd"
   },
   "outputs": [],
   "source": [
    "  "
   ]
  }
 ],
 "metadata": {
  "colab": {
   "authorship_tag": "ABX9TyOoNQt0oyDM2IYaWl47iVHF",
   "collapsed_sections": [],
   "provenance": []
  },
  "kernelspec": {
   "display_name": "Python 3 (ipykernel)",
   "language": "python",
   "name": "python3"
  },
  "language_info": {
   "codemirror_mode": {
    "name": "ipython",
    "version": 3
   },
   "file_extension": ".py",
   "mimetype": "text/x-python",
   "name": "python",
   "nbconvert_exporter": "python",
   "pygments_lexer": "ipython3",
   "version": "3.9.7"
  }
 },
 "nbformat": 4,
 "nbformat_minor": 1
}
