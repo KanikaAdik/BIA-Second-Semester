{
 "cells": [
  {
   "cell_type": "code",
   "execution_count": 1,
   "id": "eb0e0ad7",
   "metadata": {},
   "outputs": [],
   "source": [
    "import pandas as pd\n",
    "import json\n",
    "from pymongo import MongoClient"
   ]
  },
  {
   "cell_type": "code",
   "execution_count": 6,
   "id": "34309b82",
   "metadata": {},
   "outputs": [],
   "source": [
    "def get_database():\n",
    "\n",
    "    # Provide the mongodb atlas url to connect python to mongodb using pymongo\n",
    "    CONNECTION_STRING = \"mongodb://localhost:27017/\" #it is the address for local server\n",
    "\n",
    "    # Create a connection using MongoClient. \n",
    "    client = MongoClient(CONNECTION_STRING)\n",
    "\n",
    "    \n",
    "    return client['ffbb'] #client[<database>]\n",
    "\n",
    "\n",
    "\n",
    "\n",
    "# Get the database\n",
    "dbname = get_database()"
   ]
  },
  {
   "cell_type": "code",
   "execution_count": 7,
   "id": "092ef41c",
   "metadata": {},
   "outputs": [
    {
     "data": {
      "text/plain": [
       "Database(MongoClient(host=['localhost:27017'], document_class=dict, tz_aware=False, connect=True), 'ffbb')"
      ]
     },
     "execution_count": 7,
     "metadata": {},
     "output_type": "execute_result"
    }
   ],
   "source": [
    "dbname"
   ]
  },
  {
   "cell_type": "code",
   "execution_count": 8,
   "id": "56563bf4",
   "metadata": {},
   "outputs": [
    {
     "name": "stdout",
     "output_type": "stream",
     "text": [
      "['fb1']\n"
     ]
    },
    {
     "name": "stderr",
     "output_type": "stream",
     "text": [
      "C:\\Users\\Public\\Documents\\Wondershare\\CreatorTemp\\ipykernel_10992\\3365772566.py:1: DeprecationWarning: collection_names is deprecated. Use list_collection_names instead.\n",
      "  print(dbname.collection_names()) # print out the collection name\n"
     ]
    }
   ],
   "source": [
    "print(dbname.collection_names()) # print out the collection name\n",
    "col = dbname.fb1"
   ]
  },
  {
   "cell_type": "code",
   "execution_count": 12,
   "id": "1a94835c",
   "metadata": {},
   "outputs": [],
   "source": [
    "# cursur = col.find({\"Page Name\":\"Willis Towers Watson\"})\n",
    "# for c in cursur:\n",
    "#     print(c)"
   ]
  },
  {
   "cell_type": "code",
   "execution_count": 10,
   "id": "4435e26c",
   "metadata": {},
   "outputs": [
    {
     "data": {
      "text/html": [
       "<div>\n",
       "<style scoped>\n",
       "    .dataframe tbody tr th:only-of-type {\n",
       "        vertical-align: middle;\n",
       "    }\n",
       "\n",
       "    .dataframe tbody tr th {\n",
       "        vertical-align: top;\n",
       "    }\n",
       "\n",
       "    .dataframe thead th {\n",
       "        text-align: right;\n",
       "    }\n",
       "</style>\n",
       "<table border=\"1\" class=\"dataframe\">\n",
       "  <thead>\n",
       "    <tr style=\"text-align: right;\">\n",
       "      <th></th>\n",
       "      <th>_id</th>\n",
       "      <th>Page Name</th>\n",
       "      <th>User Name</th>\n",
       "      <th>Facebook Id</th>\n",
       "      <th>Page Category</th>\n",
       "      <th>Page Admin Top Country</th>\n",
       "      <th>Page Description</th>\n",
       "      <th>Page Created</th>\n",
       "      <th>Followers at Posting</th>\n",
       "      <th>Post Created</th>\n",
       "      <th>...</th>\n",
       "      <th>Post Views</th>\n",
       "      <th>Total Views</th>\n",
       "      <th>Total Views For All Crossposts</th>\n",
       "      <th>Video Length</th>\n",
       "      <th>URL</th>\n",
       "      <th>Message</th>\n",
       "      <th>Link</th>\n",
       "      <th>Image Text</th>\n",
       "      <th>Link Text</th>\n",
       "      <th>Overperforming Score (weighted  —  Likes 1x Shares 1x Comments 1x Love 1x Wow 1x Haha 1x Sad 1x Angry 1x Care 1x )</th>\n",
       "    </tr>\n",
       "  </thead>\n",
       "  <tbody>\n",
       "    <tr>\n",
       "      <th>0</th>\n",
       "      <td>6364688d62849bb912ee3502</td>\n",
       "      <td>Willis Towers Watson</td>\n",
       "      <td>willistowerswatson</td>\n",
       "      <td>2.14E+11</td>\n",
       "      <td>LOCAL BUSINESS</td>\n",
       "      <td>GB</td>\n",
       "      <td>Willis Towers Watson is a leading global advis...</td>\n",
       "      <td>2016-11-23 04:40:12 EST</td>\n",
       "      <td>23162</td>\n",
       "      <td>2021-02-28 22:21:33 EST</td>\n",
       "      <td>...</td>\n",
       "      <td>0</td>\n",
       "      <td>0</td>\n",
       "      <td>0</td>\n",
       "      <td>N/A</td>\n",
       "      <td>https://www.facebook.com/213983474385/posts/10...</td>\n",
       "      <td>Our missions are happening in 4 days - so the ...</td>\n",
       "      <td>https://www.facebook.com/willistowerswatson/ph...</td>\n",
       "      <td>‎8 people, ‎'‎Mission to transform: Awaken the...</td>\n",
       "      <td>Timeline Photos</td>\n",
       "      <td>-1.28</td>\n",
       "    </tr>\n",
       "    <tr>\n",
       "      <th>1</th>\n",
       "      <td>6364688e62849bb912ee3c42</td>\n",
       "      <td>Willis Towers Watson</td>\n",
       "      <td>willistowerswatson</td>\n",
       "      <td>2.14E+11</td>\n",
       "      <td>LOCAL BUSINESS</td>\n",
       "      <td>GB</td>\n",
       "      <td>Willis Towers Watson is a leading global advis...</td>\n",
       "      <td>2016-11-23 04:40:12 EST</td>\n",
       "      <td>23122</td>\n",
       "      <td>2021-02-22 21:46:43 EST</td>\n",
       "      <td>...</td>\n",
       "      <td>0</td>\n",
       "      <td>0</td>\n",
       "      <td>0</td>\n",
       "      <td>N/A</td>\n",
       "      <td>https://www.facebook.com/213983474385/posts/10...</td>\n",
       "      <td>Join our leaders for one-of-a-kind virtual eve...</td>\n",
       "      <td>https://www.facebook.com/willistowerswatson/ph...</td>\n",
       "      <td>‎'‎Willis Towers Watson וויויו.. Mission to tr...</td>\n",
       "      <td>Timeline Photos</td>\n",
       "      <td>-2.41</td>\n",
       "    </tr>\n",
       "  </tbody>\n",
       "</table>\n",
       "<p>2 rows × 34 columns</p>\n",
       "</div>"
      ],
      "text/plain": [
       "                        _id             Page Name           User Name  \\\n",
       "0  6364688d62849bb912ee3502  Willis Towers Watson  willistowerswatson   \n",
       "1  6364688e62849bb912ee3c42  Willis Towers Watson  willistowerswatson   \n",
       "\n",
       "  Facebook Id   Page Category Page Admin Top Country  \\\n",
       "0    2.14E+11  LOCAL BUSINESS                     GB   \n",
       "1    2.14E+11  LOCAL BUSINESS                     GB   \n",
       "\n",
       "                                    Page Description             Page Created  \\\n",
       "0  Willis Towers Watson is a leading global advis...  2016-11-23 04:40:12 EST   \n",
       "1  Willis Towers Watson is a leading global advis...  2016-11-23 04:40:12 EST   \n",
       "\n",
       "  Followers at Posting             Post Created  ... Post Views Total Views  \\\n",
       "0                23162  2021-02-28 22:21:33 EST  ...          0           0   \n",
       "1                23122  2021-02-22 21:46:43 EST  ...          0           0   \n",
       "\n",
       "  Total Views For All Crossposts Video Length  \\\n",
       "0                              0          N/A   \n",
       "1                              0          N/A   \n",
       "\n",
       "                                                 URL  \\\n",
       "0  https://www.facebook.com/213983474385/posts/10...   \n",
       "1  https://www.facebook.com/213983474385/posts/10...   \n",
       "\n",
       "                                             Message  \\\n",
       "0  Our missions are happening in 4 days - so the ...   \n",
       "1  Join our leaders for one-of-a-kind virtual eve...   \n",
       "\n",
       "                                                Link  \\\n",
       "0  https://www.facebook.com/willistowerswatson/ph...   \n",
       "1  https://www.facebook.com/willistowerswatson/ph...   \n",
       "\n",
       "                                          Image Text        Link Text  \\\n",
       "0  ‎8 people, ‎'‎Mission to transform: Awaken the...  Timeline Photos   \n",
       "1  ‎'‎Willis Towers Watson וויויו.. Mission to tr...  Timeline Photos   \n",
       "\n",
       "  Overperforming Score (weighted  —  Likes 1x Shares 1x Comments 1x Love 1x Wow 1x Haha 1x Sad 1x Angry 1x Care 1x )  \n",
       "0                                              -1.28                                                                  \n",
       "1                                              -2.41                                                                  \n",
       "\n",
       "[2 rows x 34 columns]"
      ]
     },
     "execution_count": 10,
     "metadata": {},
     "output_type": "execute_result"
    }
   ],
   "source": [
    "cursur = col.find({\"Page Name\":\"Willis Towers Watson\"})\n",
    "\n",
    "\n",
    "dt = pd.DataFrame([row for row in cursur])\n",
    "dt"
   ]
  },
  {
   "cell_type": "code",
   "execution_count": 11,
   "id": "48e056e1",
   "metadata": {},
   "outputs": [],
   "source": [
    "dt.to_csv(\"test.csv\")"
   ]
  },
  {
   "cell_type": "code",
   "execution_count": null,
   "id": "4c7d0536",
   "metadata": {},
   "outputs": [],
   "source": []
  }
 ],
 "metadata": {
  "kernelspec": {
   "display_name": "Python 3 (ipykernel)",
   "language": "python",
   "name": "python3"
  },
  "language_info": {
   "codemirror_mode": {
    "name": "ipython",
    "version": 3
   },
   "file_extension": ".py",
   "mimetype": "text/x-python",
   "name": "python",
   "nbconvert_exporter": "python",
   "pygments_lexer": "ipython3",
   "version": "3.8.13"
  },
  "toc": {
   "base_numbering": 1,
   "nav_menu": {},
   "number_sections": true,
   "sideBar": true,
   "skip_h1_title": false,
   "title_cell": "Table of Contents",
   "title_sidebar": "Contents",
   "toc_cell": false,
   "toc_position": {},
   "toc_section_display": true,
   "toc_window_display": false
  }
 },
 "nbformat": 4,
 "nbformat_minor": 5
}
